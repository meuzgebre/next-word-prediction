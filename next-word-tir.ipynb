{
  "nbformat": 4,
  "nbformat_minor": 0,
  "metadata": {
    "colab": {
      "provenance": [],
      "collapsed_sections": []
    },
    "kernelspec": {
      "name": "python3",
      "display_name": "Python 3"
    },
    "language_info": {
      "name": "python"
    },
    "accelerator": "GPU"
  },
  "cells": [
    {
      "cell_type": "code",
      "execution_count": 2,
      "metadata": {
        "id": "kG_2HGHqI62Y"
      },
      "outputs": [],
      "source": [
        "import tensorflow as tf\n",
        "from keras.preprocessing.text import Tokenizer\n",
        "from keras.layers import LSTM, Embedding, Dense\n",
        "from keras.models import Sequential\n",
        "from tensorflow.keras.utils import to_categorical\n",
        "from tensorflow.keras.optimizers import Adam\n",
        "import pickle\n",
        "import numpy as np\n",
        "import os"
      ]
    },
    {
      "cell_type": "code",
      "source": [
        "file = open('data/tir.txt', 'r', encoding='utf8')\n",
        "\n",
        "lines = []\n",
        "for i in file:\n",
        "    lines.append(i)\n",
        "    \n",
        "# Convert list to string\n",
        "data = ''\n",
        "for i in lines:\n",
        "    data = ' '.join(lines)\n",
        "    \n",
        "data = data.replace('\\n', '').replace('\\r', '').replace('\\ufeff', '').replace('\"', '').replace(\"'\", '')\n",
        "\n",
        "data = data.split()\n",
        "data = ' '.join(data)\n",
        "data[:500]"
      ],
      "metadata": {
        "colab": {
          "base_uri": "https://localhost:8080/",
          "height": 105
        },
        "id": "ASzYjSeUJLkx",
        "outputId": "0df1cf49-5d58-4e17-b846-941f88addda3"
      },
      "execution_count": 4,
      "outputs": [
        {
          "output_type": "execute_result",
          "data": {
            "text/plain": [
              "'ሓይሊ ኣየር እስራኤል ንዝተተኮሱ ሚሳይላትን ሞርታርን ግብረ መልሲ ኣብ ልዕሊ ካብ ጋዛ ናብ እስራኤል ዝወስዱ ናይ ውሽጣ ውሽጢ መተሓላለፍታት መጥቃዕቲ ፈንዩ። ብህላወ እግዚኣብሄር ዘይትኣምን ኣየርላንድ፣ እየሱስ ክርስቶስ፣ መሓመድ፣ ሳልማን ሩሽዲ፣ ማርክ ትዌይንን ሊቀጳጳስ ቤኔዲክት ዓሰርተ ሽድሽተን ዝብሉ ኣስማት ምሕታም ዝኽልክል ሓድሽ ሕጊ እንተሃለወ’ኳ ኮነይ ኢላ ኣብ መርበብ ገፃ ከምዝጠቀዐት ተፈሊጡ። ግብፃዊያን ተመራመርቲ ስነኳዕቲ ዛጊድ ካብ ዝተረኸቡ እቲ ዝዓበየ መቓብር ኣብ ሳኳራ ኔክሮፖሊስ ረኺቦም። ኣብ ሻንሺ ቻይና ነዳዲ ዲዝል ምስ ላሓዀ ናብቲ ብሚልዮናት ንዝቝጸሩ ሰባት ምንጪ ማይ ዝዀነ ብጫ ፈለግ በጺሑ። ስሎቫክያ ድሕሪ እቲ ኣብ ልዕሊ ሓደ ሰቪላዊ ሰብ ከም መፈተኒ ኢላ ዝተኸለቶ ተተኳሲ፣ ኣብ ዳብለን ኣየርላንድ ጎደና ዶርሰት ቦምባ ተተኺሉ ምህላው ዝሕብር ዓቢ መጠንቀቕታ '"
            ],
            "application/vnd.google.colaboratory.intrinsic+json": {
              "type": "string"
            }
          },
          "metadata": {},
          "execution_count": 4
        }
      ]
    },
    {
      "cell_type": "code",
      "source": [
        "# Tokenization\n",
        "tokenizer = Tokenizer()\n",
        "tir_token = tokenizer.fit_on_texts([data])\n",
        "\n",
        "pickle.dump(tokenizer, open('token_tir.pkl', 'wb'))\n",
        "\n",
        "sequence_data = tokenizer.texts_to_sequences([data])[0]\n",
        "sequence_data[:15]"
      ],
      "metadata": {
        "colab": {
          "base_uri": "https://localhost:8080/"
        },
        "id": "FVBZVVz7JSNO",
        "outputId": "3c4775ad-ab18-4831-b34a-8e2d0559159b"
      },
      "execution_count": 5,
      "outputs": [
        {
          "output_type": "execute_result",
          "data": {
            "text/plain": [
              "[93, 50, 297, 4580, 4581, 4582, 247, 678, 1, 31, 4, 2718, 7, 297, 2719]"
            ]
          },
          "metadata": {},
          "execution_count": 5
        }
      ]
    },
    {
      "cell_type": "code",
      "source": [
        "len(sequence_data)"
      ],
      "metadata": {
        "colab": {
          "base_uri": "https://localhost:8080/"
        },
        "id": "qEnEyyA6JYqy",
        "outputId": "06d70c58-192f-4ae8-d06b-ab913b60454b"
      },
      "execution_count": 6,
      "outputs": [
        {
          "output_type": "execute_result",
          "data": {
            "text/plain": [
              "44158"
            ]
          },
          "metadata": {},
          "execution_count": 6
        }
      ]
    },
    {
      "cell_type": "code",
      "source": [
        "# index + 1 because index 0 will be reserved for padding\n",
        "\n",
        "vocab_size = len(tokenizer.word_index) + 1\n",
        "print(vocab_size)"
      ],
      "metadata": {
        "colab": {
          "base_uri": "https://localhost:8080/"
        },
        "id": "J6pBAYi2Jj3Q",
        "outputId": "1f9ed33f-52b2-48b8-aba5-2f18ec624bef"
      },
      "execution_count": 7,
      "outputs": [
        {
          "output_type": "stream",
          "name": "stdout",
          "text": [
            "13926\n"
          ]
        }
      ]
    },
    {
      "cell_type": "code",
      "source": [
        "sequences = []\n",
        "no_of_words = 3       # No of consecutive words used to predict\n",
        "\n",
        "for i in range(no_of_words, len(sequence_data)):\n",
        "    words = sequence_data[i-3:i+1]\n",
        "    sequences.append(words)\n",
        "    \n",
        "print('Length of Sequence: ', len(sequences))\n",
        "sequences = np.array(sequences)\n",
        "sequences[:10]"
      ],
      "metadata": {
        "colab": {
          "base_uri": "https://localhost:8080/"
        },
        "id": "0iiMx9TmJlsm",
        "outputId": "dac12aeb-ddd5-46ff-9fd5-d291b3d61ee0"
      },
      "execution_count": 8,
      "outputs": [
        {
          "output_type": "stream",
          "name": "stdout",
          "text": [
            "the length of sequence are:  44155\n"
          ]
        },
        {
          "output_type": "execute_result",
          "data": {
            "text/plain": [
              "array([[  93,   50,  297, 4580],\n",
              "       [  50,  297, 4580, 4581],\n",
              "       [ 297, 4580, 4581, 4582],\n",
              "       [4580, 4581, 4582,  247],\n",
              "       [4581, 4582,  247,  678],\n",
              "       [4582,  247,  678,    1],\n",
              "       [ 247,  678,    1,   31],\n",
              "       [ 678,    1,   31,    4],\n",
              "       [   1,   31,    4, 2718],\n",
              "       [  31,    4, 2718,    7]])"
            ]
          },
          "metadata": {},
          "execution_count": 8
        }
      ]
    },
    {
      "cell_type": "code",
      "source": [
        "X = []\n",
        "y = []\n",
        "\n",
        "for i in sequences:\n",
        "    X.append(i[0:3])\n",
        "    y.append(i[3])\n",
        "    \n",
        "X = np.array(X)\n",
        "y = np.array(y)"
      ],
      "metadata": {
        "id": "Zui21FaUJnXj"
      },
      "execution_count": 9,
      "outputs": []
    },
    {
      "cell_type": "code",
      "source": [
        "print(('Data: ', X[:10]))\n",
        "print(('Response: ', y[:10]))"
      ],
      "metadata": {
        "colab": {
          "base_uri": "https://localhost:8080/"
        },
        "id": "51gemiPgJpY1",
        "outputId": "a4dedb61-5a89-4088-8d50-bf0c04ed6556"
      },
      "execution_count": 10,
      "outputs": [
        {
          "output_type": "stream",
          "name": "stdout",
          "text": [
            "('Data: ', array([[  93,   50,  297],\n",
            "       [  50,  297, 4580],\n",
            "       [ 297, 4580, 4581],\n",
            "       [4580, 4581, 4582],\n",
            "       [4581, 4582,  247],\n",
            "       [4582,  247,  678],\n",
            "       [ 247,  678,    1],\n",
            "       [ 678,    1,   31],\n",
            "       [   1,   31,    4],\n",
            "       [  31,    4, 2718]]))\n",
            "('Response: ', array([4580, 4581, 4582,  247,  678,    1,   31,    4, 2718,    7]))\n"
          ]
        }
      ]
    },
    {
      "cell_type": "code",
      "source": [
        "# convert from class vector to binary class metrix\n",
        "\n",
        "y = to_categorical(y, num_classes=vocab_size)\n",
        "y[:5]"
      ],
      "metadata": {
        "id": "ui4PqVoLJqv4",
        "colab": {
          "base_uri": "https://localhost:8080/"
        },
        "outputId": "d593a37e-90f2-4532-99f2-7d281a2f4df8"
      },
      "execution_count": 11,
      "outputs": [
        {
          "output_type": "execute_result",
          "data": {
            "text/plain": [
              "array([[0., 0., 0., ..., 0., 0., 0.],\n",
              "       [0., 0., 0., ..., 0., 0., 0.],\n",
              "       [0., 0., 0., ..., 0., 0., 0.],\n",
              "       [0., 0., 0., ..., 0., 0., 0.],\n",
              "       [0., 0., 0., ..., 0., 0., 0.]], dtype=float32)"
            ]
          },
          "metadata": {},
          "execution_count": 11
        }
      ]
    },
    {
      "cell_type": "code",
      "source": [
        "model = Sequential()\n",
        "model.add(Embedding(vocab_size, 10, input_length=3))\n",
        "model.add(LSTM(1000, return_sequences=True))\n",
        "model.add(LSTM(1000))\n",
        "model.add(Dense(1000, activation='relu'))\n",
        "model.add(Dense(vocab_size, activation='softmax'))"
      ],
      "metadata": {
        "id": "Rwiq6T7SJsOb"
      },
      "execution_count": 12,
      "outputs": []
    },
    {
      "cell_type": "code",
      "source": [
        "model.summary()"
      ],
      "metadata": {
        "id": "i8UpkcLOJt68",
        "colab": {
          "base_uri": "https://localhost:8080/"
        },
        "outputId": "27e85d4a-bf61-44a1-f22b-2dccc692c153"
      },
      "execution_count": 13,
      "outputs": [
        {
          "output_type": "stream",
          "name": "stdout",
          "text": [
            "Model: \"sequential\"\n",
            "_________________________________________________________________\n",
            " Layer (type)                Output Shape              Param #   \n",
            "=================================================================\n",
            " embedding (Embedding)       (None, 3, 10)             139260    \n",
            "                                                                 \n",
            " lstm (LSTM)                 (None, 3, 1000)           4044000   \n",
            "                                                                 \n",
            " lstm_1 (LSTM)               (None, 1000)              8004000   \n",
            "                                                                 \n",
            " dense (Dense)               (None, 1000)              1001000   \n",
            "                                                                 \n",
            " dense_1 (Dense)             (None, 13926)             13939926  \n",
            "                                                                 \n",
            "=================================================================\n",
            "Total params: 27,128,186\n",
            "Trainable params: 27,128,186\n",
            "Non-trainable params: 0\n",
            "_________________________________________________________________\n"
          ]
        }
      ]
    },
    {
      "cell_type": "code",
      "source": [
        "from tensorflow.keras.callbacks import ModelCheckpoint\n",
        "\n",
        "cheackpoint = ModelCheckpoint('model.h5', monitor='loss', verbose=1, save_best_only=True)\n",
        "model.compile(loss='categorical_crossentropy', optimizer=Adam(learning_rate=0.001))\n",
        "\n",
        "model.fit(X, y, epochs=60, batch_size=64, callbacks=[cheackpoint])"
      ],
      "metadata": {
        "id": "iYa5u0SDJyCL",
        "colab": {
          "base_uri": "https://localhost:8080/"
        },
        "outputId": "00663ec6-77e0-4dcc-c31e-80d8f469ad18"
      },
      "execution_count": 16,
      "outputs": [
        {
          "output_type": "stream",
          "name": "stdout",
          "text": [
            "Epoch 1/60\n",
            "688/690 [============================>.] - ETA: 0s - loss: 8.3828\n",
            "Epoch 1: loss improved from inf to 8.38280, saving model to model.h5\n",
            "690/690 [==============================] - 16s 19ms/step - loss: 8.3828\n",
            "Epoch 2/60\n",
            "688/690 [============================>.] - ETA: 0s - loss: 8.0685\n",
            "Epoch 2: loss improved from 8.38280 to 8.06901, saving model to model.h5\n",
            "690/690 [==============================] - 13s 19ms/step - loss: 8.0690\n",
            "Epoch 3/60\n",
            "689/690 [============================>.] - ETA: 0s - loss: 7.7664\n",
            "Epoch 3: loss improved from 8.06901 to 7.76685, saving model to model.h5\n",
            "690/690 [==============================] - 14s 20ms/step - loss: 7.7669\n",
            "Epoch 4/60\n",
            "688/690 [============================>.] - ETA: 0s - loss: 7.3875\n",
            "Epoch 4: loss improved from 7.76685 to 7.38738, saving model to model.h5\n",
            "690/690 [==============================] - 13s 20ms/step - loss: 7.3874\n",
            "Epoch 5/60\n",
            "688/690 [============================>.] - ETA: 0s - loss: 6.9571\n",
            "Epoch 5: loss improved from 7.38738 to 6.95747, saving model to model.h5\n",
            "690/690 [==============================] - 14s 20ms/step - loss: 6.9575\n",
            "Epoch 6/60\n",
            "688/690 [============================>.] - ETA: 0s - loss: 6.4486\n",
            "Epoch 6: loss improved from 6.95747 to 6.44851, saving model to model.h5\n",
            "690/690 [==============================] - 13s 19ms/step - loss: 6.4485\n",
            "Epoch 7/60\n",
            "688/690 [============================>.] - ETA: 0s - loss: 5.8573\n",
            "Epoch 7: loss improved from 6.44851 to 5.85687, saving model to model.h5\n",
            "690/690 [==============================] - 14s 20ms/step - loss: 5.8569\n",
            "Epoch 8/60\n",
            "689/690 [============================>.] - ETA: 0s - loss: 5.2169\n",
            "Epoch 8: loss improved from 5.85687 to 5.21679, saving model to model.h5\n",
            "690/690 [==============================] - 13s 19ms/step - loss: 5.2168\n",
            "Epoch 9/60\n",
            "689/690 [============================>.] - ETA: 0s - loss: 4.5636\n",
            "Epoch 9: loss improved from 5.21679 to 4.56447, saving model to model.h5\n",
            "690/690 [==============================] - 13s 20ms/step - loss: 4.5645\n",
            "Epoch 10/60\n",
            "688/690 [============================>.] - ETA: 0s - loss: 3.8991\n",
            "Epoch 10: loss improved from 4.56447 to 3.89934, saving model to model.h5\n",
            "690/690 [==============================] - 14s 20ms/step - loss: 3.8993\n",
            "Epoch 11/60\n",
            "690/690 [==============================] - ETA: 0s - loss: 3.2554\n",
            "Epoch 11: loss improved from 3.89934 to 3.25537, saving model to model.h5\n",
            "690/690 [==============================] - 14s 20ms/step - loss: 3.2554\n",
            "Epoch 12/60\n",
            "688/690 [============================>.] - ETA: 0s - loss: 2.6655\n",
            "Epoch 12: loss improved from 3.25537 to 2.66619, saving model to model.h5\n",
            "690/690 [==============================] - 14s 20ms/step - loss: 2.6662\n",
            "Epoch 13/60\n",
            "690/690 [==============================] - ETA: 0s - loss: 2.1575\n",
            "Epoch 13: loss improved from 2.66619 to 2.15751, saving model to model.h5\n",
            "690/690 [==============================] - 14s 20ms/step - loss: 2.1575\n",
            "Epoch 14/60\n",
            "688/690 [============================>.] - ETA: 0s - loss: 1.7630\n",
            "Epoch 14: loss improved from 2.15751 to 1.76322, saving model to model.h5\n",
            "690/690 [==============================] - 14s 20ms/step - loss: 1.7632\n",
            "Epoch 15/60\n",
            "688/690 [============================>.] - ETA: 0s - loss: 1.4497\n",
            "Epoch 15: loss improved from 1.76322 to 1.44944, saving model to model.h5\n",
            "690/690 [==============================] - 14s 20ms/step - loss: 1.4494\n",
            "Epoch 16/60\n",
            "688/690 [============================>.] - ETA: 0s - loss: 1.2030\n",
            "Epoch 16: loss improved from 1.44944 to 1.20403, saving model to model.h5\n",
            "690/690 [==============================] - 14s 20ms/step - loss: 1.2040\n",
            "Epoch 17/60\n",
            "688/690 [============================>.] - ETA: 0s - loss: 1.0056\n",
            "Epoch 17: loss improved from 1.20403 to 1.00703, saving model to model.h5\n",
            "690/690 [==============================] - 14s 20ms/step - loss: 1.0070\n",
            "Epoch 18/60\n",
            "688/690 [============================>.] - ETA: 0s - loss: 0.8506\n",
            "Epoch 18: loss improved from 1.00703 to 0.85091, saving model to model.h5\n",
            "690/690 [==============================] - 14s 20ms/step - loss: 0.8509\n",
            "Epoch 19/60\n",
            "688/690 [============================>.] - ETA: 0s - loss: 0.7255\n",
            "Epoch 19: loss improved from 0.85091 to 0.72564, saving model to model.h5\n",
            "690/690 [==============================] - 14s 20ms/step - loss: 0.7256\n",
            "Epoch 20/60\n",
            "690/690 [==============================] - ETA: 0s - loss: 0.6370\n",
            "Epoch 20: loss improved from 0.72564 to 0.63697, saving model to model.h5\n",
            "690/690 [==============================] - 14s 21ms/step - loss: 0.6370\n",
            "Epoch 21/60\n",
            "688/690 [============================>.] - ETA: 0s - loss: 0.5591\n",
            "Epoch 21: loss improved from 0.63697 to 0.55961, saving model to model.h5\n",
            "690/690 [==============================] - 14s 20ms/step - loss: 0.5596\n",
            "Epoch 22/60\n",
            "688/690 [============================>.] - ETA: 0s - loss: 0.4914\n",
            "Epoch 22: loss improved from 0.55961 to 0.49129, saving model to model.h5\n",
            "690/690 [==============================] - 13s 20ms/step - loss: 0.4913\n",
            "Epoch 23/60\n",
            "688/690 [============================>.] - ETA: 0s - loss: 0.4429\n",
            "Epoch 23: loss improved from 0.49129 to 0.44287, saving model to model.h5\n",
            "690/690 [==============================] - 14s 20ms/step - loss: 0.4429\n",
            "Epoch 24/60\n",
            "690/690 [==============================] - ETA: 0s - loss: 0.3906\n",
            "Epoch 24: loss improved from 0.44287 to 0.39064, saving model to model.h5\n",
            "690/690 [==============================] - 13s 19ms/step - loss: 0.3906\n",
            "Epoch 25/60\n",
            "689/690 [============================>.] - ETA: 0s - loss: 0.3551\n",
            "Epoch 25: loss improved from 0.39064 to 0.35502, saving model to model.h5\n",
            "690/690 [==============================] - 13s 19ms/step - loss: 0.3550\n",
            "Epoch 26/60\n",
            "688/690 [============================>.] - ETA: 0s - loss: 0.3279\n",
            "Epoch 26: loss improved from 0.35502 to 0.32791, saving model to model.h5\n",
            "690/690 [==============================] - 13s 19ms/step - loss: 0.3279\n",
            "Epoch 27/60\n",
            "690/690 [==============================] - ETA: 0s - loss: 0.3124\n",
            "Epoch 27: loss improved from 0.32791 to 0.31239, saving model to model.h5\n",
            "690/690 [==============================] - 14s 20ms/step - loss: 0.3124\n",
            "Epoch 28/60\n",
            "688/690 [============================>.] - ETA: 0s - loss: 0.2906\n",
            "Epoch 28: loss improved from 0.31239 to 0.29088, saving model to model.h5\n",
            "690/690 [==============================] - 14s 20ms/step - loss: 0.2909\n",
            "Epoch 29/60\n",
            "688/690 [============================>.] - ETA: 0s - loss: 0.2700\n",
            "Epoch 29: loss improved from 0.29088 to 0.27013, saving model to model.h5\n",
            "690/690 [==============================] - 14s 20ms/step - loss: 0.2701\n",
            "Epoch 30/60\n",
            "688/690 [============================>.] - ETA: 0s - loss: 0.2603\n",
            "Epoch 30: loss improved from 0.27013 to 0.26034, saving model to model.h5\n",
            "690/690 [==============================] - 13s 19ms/step - loss: 0.2603\n",
            "Epoch 31/60\n",
            "688/690 [============================>.] - ETA: 0s - loss: 0.2400\n",
            "Epoch 31: loss improved from 0.26034 to 0.24011, saving model to model.h5\n",
            "690/690 [==============================] - 13s 19ms/step - loss: 0.2401\n",
            "Epoch 32/60\n",
            "688/690 [============================>.] - ETA: 0s - loss: 0.2338\n",
            "Epoch 32: loss improved from 0.24011 to 0.23392, saving model to model.h5\n",
            "690/690 [==============================] - 14s 20ms/step - loss: 0.2339\n",
            "Epoch 33/60\n",
            "690/690 [==============================] - ETA: 0s - loss: 0.2170\n",
            "Epoch 33: loss improved from 0.23392 to 0.21697, saving model to model.h5\n",
            "690/690 [==============================] - 13s 19ms/step - loss: 0.2170\n",
            "Epoch 34/60\n",
            "689/690 [============================>.] - ETA: 0s - loss: 0.2230\n",
            "Epoch 34: loss did not improve from 0.21697\n",
            "690/690 [==============================] - 12s 18ms/step - loss: 0.2229\n",
            "Epoch 35/60\n",
            "690/690 [==============================] - ETA: 0s - loss: 0.2094\n",
            "Epoch 35: loss improved from 0.21697 to 0.20943, saving model to model.h5\n",
            "690/690 [==============================] - 13s 19ms/step - loss: 0.2094\n",
            "Epoch 36/60\n",
            "689/690 [============================>.] - ETA: 0s - loss: 0.1994\n",
            "Epoch 36: loss improved from 0.20943 to 0.19949, saving model to model.h5\n",
            "690/690 [==============================] - 13s 19ms/step - loss: 0.1995\n",
            "Epoch 37/60\n",
            "688/690 [============================>.] - ETA: 0s - loss: 0.1884\n",
            "Epoch 37: loss improved from 0.19949 to 0.18844, saving model to model.h5\n",
            "690/690 [==============================] - 13s 19ms/step - loss: 0.1884\n",
            "Epoch 38/60\n",
            "690/690 [==============================] - ETA: 0s - loss: 0.1813\n",
            "Epoch 38: loss improved from 0.18844 to 0.18126, saving model to model.h5\n",
            "690/690 [==============================] - 13s 19ms/step - loss: 0.1813\n",
            "Epoch 39/60\n",
            "688/690 [============================>.] - ETA: 0s - loss: 0.1894\n",
            "Epoch 39: loss did not improve from 0.18126\n",
            "690/690 [==============================] - 12s 17ms/step - loss: 0.1898\n",
            "Epoch 40/60\n",
            "688/690 [============================>.] - ETA: 0s - loss: 0.1869\n",
            "Epoch 40: loss did not improve from 0.18126\n",
            "690/690 [==============================] - 12s 18ms/step - loss: 0.1870\n",
            "Epoch 41/60\n",
            "689/690 [============================>.] - ETA: 0s - loss: 0.1693\n",
            "Epoch 41: loss improved from 0.18126 to 0.16937, saving model to model.h5\n",
            "690/690 [==============================] - 13s 20ms/step - loss: 0.1694\n",
            "Epoch 42/60\n",
            "689/690 [============================>.] - ETA: 0s - loss: 0.1642\n",
            "Epoch 42: loss improved from 0.16937 to 0.16437, saving model to model.h5\n",
            "690/690 [==============================] - 13s 19ms/step - loss: 0.1644\n",
            "Epoch 43/60\n",
            "689/690 [============================>.] - ETA: 0s - loss: 0.1637\n",
            "Epoch 43: loss improved from 0.16437 to 0.16364, saving model to model.h5\n",
            "690/690 [==============================] - 13s 19ms/step - loss: 0.1636\n",
            "Epoch 44/60\n",
            "689/690 [============================>.] - ETA: 0s - loss: 0.1650\n",
            "Epoch 44: loss did not improve from 0.16364\n",
            "690/690 [==============================] - 12s 18ms/step - loss: 0.1650\n",
            "Epoch 45/60\n",
            "690/690 [==============================] - ETA: 0s - loss: 0.1625\n",
            "Epoch 45: loss improved from 0.16364 to 0.16252, saving model to model.h5\n",
            "690/690 [==============================] - 14s 20ms/step - loss: 0.1625\n",
            "Epoch 46/60\n",
            "688/690 [============================>.] - ETA: 0s - loss: 0.1521\n",
            "Epoch 46: loss improved from 0.16252 to 0.15191, saving model to model.h5\n",
            "690/690 [==============================] - 13s 19ms/step - loss: 0.1519\n",
            "Epoch 47/60\n",
            "690/690 [==============================] - ETA: 0s - loss: 0.1503\n",
            "Epoch 47: loss improved from 0.15191 to 0.15031, saving model to model.h5\n",
            "690/690 [==============================] - 13s 19ms/step - loss: 0.1503\n",
            "Epoch 48/60\n",
            "688/690 [============================>.] - ETA: 0s - loss: 0.1465\n",
            "Epoch 48: loss improved from 0.15031 to 0.14698, saving model to model.h5\n",
            "690/690 [==============================] - 14s 21ms/step - loss: 0.1470\n",
            "Epoch 49/60\n",
            "688/690 [============================>.] - ETA: 0s - loss: 0.1425\n",
            "Epoch 49: loss improved from 0.14698 to 0.14255, saving model to model.h5\n",
            "690/690 [==============================] - 13s 19ms/step - loss: 0.1425\n",
            "Epoch 50/60\n",
            "688/690 [============================>.] - ETA: 0s - loss: 0.1394\n",
            "Epoch 50: loss improved from 0.14255 to 0.13955, saving model to model.h5\n",
            "690/690 [==============================] - 13s 19ms/step - loss: 0.1395\n",
            "Epoch 51/60\n",
            "689/690 [============================>.] - ETA: 0s - loss: 0.1406\n",
            "Epoch 51: loss did not improve from 0.13955\n",
            "690/690 [==============================] - 12s 18ms/step - loss: 0.1409\n",
            "Epoch 52/60\n",
            "690/690 [==============================] - ETA: 0s - loss: 0.1491\n",
            "Epoch 52: loss did not improve from 0.13955\n",
            "690/690 [==============================] - 12s 18ms/step - loss: 0.1491\n",
            "Epoch 53/60\n",
            "689/690 [============================>.] - ETA: 0s - loss: 0.1364\n",
            "Epoch 53: loss improved from 0.13955 to 0.13641, saving model to model.h5\n",
            "690/690 [==============================] - 13s 19ms/step - loss: 0.1364\n",
            "Epoch 54/60\n",
            "689/690 [============================>.] - ETA: 0s - loss: 0.1259\n",
            "Epoch 54: loss improved from 0.13641 to 0.12604, saving model to model.h5\n",
            "690/690 [==============================] - 14s 20ms/step - loss: 0.1260\n",
            "Epoch 55/60\n",
            "690/690 [==============================] - ETA: 0s - loss: 0.1204\n",
            "Epoch 55: loss improved from 0.12604 to 0.12038, saving model to model.h5\n",
            "690/690 [==============================] - 13s 19ms/step - loss: 0.1204\n",
            "Epoch 56/60\n",
            "689/690 [============================>.] - ETA: 0s - loss: 0.1309\n",
            "Epoch 56: loss did not improve from 0.12038\n",
            "690/690 [==============================] - 12s 18ms/step - loss: 0.1310\n",
            "Epoch 57/60\n",
            "689/690 [============================>.] - ETA: 0s - loss: 0.1324\n",
            "Epoch 57: loss did not improve from 0.12038\n",
            "690/690 [==============================] - 12s 18ms/step - loss: 0.1326\n",
            "Epoch 58/60\n",
            "690/690 [==============================] - ETA: 0s - loss: 0.1345\n",
            "Epoch 58: loss did not improve from 0.12038\n",
            "690/690 [==============================] - 12s 18ms/step - loss: 0.1345\n",
            "Epoch 59/60\n",
            "689/690 [============================>.] - ETA: 0s - loss: 0.1213\n",
            "Epoch 59: loss did not improve from 0.12038\n",
            "690/690 [==============================] - 12s 18ms/step - loss: 0.1213\n",
            "Epoch 60/60\n",
            "688/690 [============================>.] - ETA: 0s - loss: 0.1125\n",
            "Epoch 60: loss improved from 0.12038 to 0.11262, saving model to model.h5\n",
            "690/690 [==============================] - 14s 20ms/step - loss: 0.1126\n"
          ]
        },
        {
          "output_type": "execute_result",
          "data": {
            "text/plain": [
              "<keras.callbacks.History at 0x7ff7c02d6cd0>"
            ]
          },
          "metadata": {},
          "execution_count": 16
        }
      ]
    },
    {
      "cell_type": "code",
      "source": [
        "from tensorflow.keras.models import load_model\n",
        "import numpy as np\n",
        "import pickle\n",
        "\n",
        "model = load_model('model.h5')\n",
        "tokenizer = pickle.load(open('token_tir.pkl', 'rb'))\n",
        "\n",
        "def predict_next_word(model, tokenizer, text):\n",
        "    \n",
        "    sequence = tokenizer.texts_to_sequences([text])\n",
        "    sequence = np.array(sequence)\n",
        "    preds = np.argmax(model.predict(sequence))\n",
        "    predicted_word = ''\n",
        "    pred_list = []\n",
        "    \n",
        "    for key, val in tokenizer.word_index.items():\n",
        "        # All Match\n",
        "        pred_list.append(key)\n",
        "        if val == preds:\n",
        "            # Best Match\n",
        "            predicted_word = key\n",
        "            break\n",
        "        \n",
        "    print(predicted_word, pred_list)\n",
        "    return predicted_word, pred_list"
      ],
      "metadata": {
        "id": "EXe1yJvtJ-4Q"
      },
      "execution_count": 17,
      "outputs": []
    },
    {
      "cell_type": "code",
      "source": [
        "# ነዊሕ ጕዕዞ በቲ ቀዳማይ ስጕምቲ ይጅምር ።\n",
        "# ዓብዪ ተዛራባይ ዓብዪ ሓሳዊ እዩ ።\n",
        "# ምስላ ኣብ ነዊሕ ተመክሮ እተመስረተ ሓጺር ምሉእ ሓሳብ እዩ ።\n",
        "# ሓንቲ ኣደ ዘላቶ እሞ ገና እትበኪ ዘላ ፡ ብዘይ ኣደ እተበኪ እያ እትኸውን ።\n",
        "\n",
        "while(True):    \n",
        "    text = input('Enter your line... ')\n",
        "    \n",
        "    if text == '0':\n",
        "        print('Execution completed...')\n",
        "        break\n",
        "        \n",
        "    else:\n",
        "        try:\n",
        "            text = text.split(' ')\n",
        "            text = text[-3:]\n",
        "            print(text)\n",
        "            \n",
        "            predict_next_word(model, tokenizer, text)\n",
        "            \n",
        "        except Exception as e:\n",
        "            print('Error occurred: ', e)\n",
        "            continue"
      ],
      "metadata": {
        "colab": {
          "base_uri": "https://localhost:8080/"
        },
        "id": "yvffFGmVKR9p",
        "outputId": "8c598bff-d974-4be9-9d4c-35dbfefd6caa"
      },
      "execution_count": null,
      "outputs": [
        {
          "output_type": "stream",
          "name": "stdout",
          "text": [
            "Enter your line... ነዊሕ ጕዕዞ በቲ ቀዳማይ\n",
            "['ጕዕዞ', 'በቲ', 'ቀዳማይ']\n",
            "ሃገራት ['ኣብ', 'እቲ', 'ናይ', 'ካብ', 'እዩ።', 'ኢትዮጵያ', 'ናብ', 'ሰባት', 'ምስ', 'ከም', 'ሃገር', 'ሓደ', 'ድማ', '።', 'ድሕሪ', 'እታ', 'ኣብቲ', 'ዓመት', 'ግዜ', 'ነቲ', 'ም', 'ጥዕና', 'ዓለም', 'ፈ', 'እውን', 'ዓ', 'ኣሎ።', 'እዚ', 'መንግስቲ', 'ዝኾነ', 'ልዕሊ', 'ዘሎ', 'ቤት', 'ከተማ', 'እዩ', 'ሚኒስትር', 'ኣፍሪካ', 'ስራሕ', 'እቶም', 'ቀዳማይ', 'ክልተ', 'ኣሜሪካ', 'ኣዲስ', 'ብሰንኪ', 'እዮም።', 'ዝሓለፈ', 'ኮይኑ', 'እንትኾን', 'ትካል', 'ኣየር', 'ኣበባ', 'ደቡብ', 'ኩባንያ', 'እዋን', 'ግጥም', 'ኣብዚ', 'ውሽጢ', 'ሚልዮን', 'ሰብ', 'እግሪ', 'ክሳብ', 'ውድድር', 'ሚኒስቴር', 'መዓልቲ', 'ውድብ', 'ኩዕሶ', 'ዝተኻየደ', 'ሕቡራት', 'ቅድሚ', 'ሰለስተ', 'ሎሚ', 'ንቲ', 'ስልጣን', 'ዝርከብ', 'ዝነበረ', 'በዓል', 'ሃገራዊ', 'ዋና', 'ክልል', 'ቫይረስ', 'ባሕሪ', 'ጋንታ', 'ሃገራት']\n",
            "Enter your line... ዓብዪ ተዛራባይ ዓብዪ\n",
            "['ዓብዪ', 'ተዛራባይ', 'ዓብዪ']\n",
            "ኢትዮጵያ ['ኣብ', 'እቲ', 'ናይ', 'ካብ', 'እዩ።', 'ኢትዮጵያ']\n",
            "Enter your line... ምስላ ኣብ ነዊሕ ተመክሮ\n",
            "['ኣብ', 'ነዊሕ', 'ተመክሮ']\n",
            "ኔቫዳ ['ኣብ', 'እቲ', 'ናይ', 'ካብ', 'እዩ።', 'ኢትዮጵያ', 'ናብ', 'ሰባት', 'ምስ', 'ከም', 'ሃገር', 'ሓደ', 'ድማ', '።', 'ድሕሪ', 'እታ', 'ኣብቲ', 'ዓመት', 'ግዜ', 'ነቲ', 'ም', 'ጥዕና', 'ዓለም', 'ፈ', 'እውን', 'ዓ', 'ኣሎ።', 'እዚ', 'መንግስቲ', 'ዝኾነ', 'ልዕሊ', 'ዘሎ', 'ቤት', 'ከተማ', 'እዩ', 'ሚኒስትር', 'ኣፍሪካ', 'ስራሕ', 'እቶም', 'ቀዳማይ', 'ክልተ', 'ኣሜሪካ', 'ኣዲስ', 'ብሰንኪ', 'እዮም።', 'ዝሓለፈ', 'ኮይኑ', 'እንትኾን', 'ትካል', 'ኣየር', 'ኣበባ', 'ደቡብ', 'ኩባንያ', 'እዋን', 'ግጥም', 'ኣብዚ', 'ውሽጢ', 'ሚልዮን', 'ሰብ', 'እግሪ', 'ክሳብ', 'ውድድር', 'ሚኒስቴር', 'መዓልቲ', 'ውድብ', 'ኩዕሶ', 'ዝተኻየደ', 'ሕቡራት', 'ቅድሚ', 'ሰለስተ', 'ሎሚ', 'ንቲ', 'ስልጣን', 'ዝርከብ', 'ዝነበረ', 'በዓል', 'ሃገራዊ', 'ዋና', 'ክልል', 'ቫይረስ', 'ባሕሪ', 'ጋንታ', 'ሃገራት', 'ዶላር', 'ቻይና', 'ኣብታ', 'ዕላዊ', 'ምርኢት', 'ኣይ', 'መደብ', 'ህዝቢ', 'ለበዳ', 'ሓይሊ', 'ብምኽንያት', 'ገሊፁ።', 'ፕሬዚደንት', 'ዓመታት', 'ብዛዕባ', 'ሕጊ', 'ሕዚ', 'ሰሜን', 'ኮርያ', 'ዝካየድ', 'መንግስታት', 'ከምኡ', 'ዩናይትድ', 'ሕማም', 'ወፃኢ', 'ፊልም', 'ከምዝገለፆ', 'ትሕቲ', 'ሓዱሽ', '2', 'ማእኸል', 'ዝተፈላለዩ', 'መበል', 'ወርሒ', 'ሰሙን', 'ደቂ', 'ካልኦት', 'ሓድሽ', 'ነዳዲ', 'ጥቓ', 'ከባቢ', 'ኢትዮጵያን', 'መጥቃዕቲ', 'ኣፍሊጡ።', 'ጉዳያት', 'ቢልዮን', 'ርእሲ', 'ኩነታት', 'ዶክተር', '000', 'ዓለምለኸ', 'ኤስ', 'ኣመሪካ', 'ሽልማት', 'ማይ', 'ብምባል', 'ፈላማይ', 'መላእ', 'ዘለዎ', 'ማሕበር', 'መሬት', 'ቀረባ', 'ዝኾነት', 'ልምዓት', 'ህንዲ', 'ምኽሪ', 'ሓደጋ', 'ሞት', '1', 'ፍርዲ', 'ደረጃ', 'ንሱ', 'ዝተብሃለ', 'ኣገልግሎት', 'ኣካል', 'ንግዲ', 'እያ።', 'ፕረዚደንት', 'ዓዲ', 'መጠን', 'ስርዓት', 'መወዳእታ', 'ኢ', '19', 'ፈተነ', 'ካብቲ', 'ሓደሽቲ', 'ምክልኻል', 'ዩ', 'ብዙሓት', 'ጉጅለ', 'ቴክኖሎጂ', 'ቦታ', 'ምምሕዳር', 'ከምዝኾነ', 'ስነ', 'ካልኣይ', 'ኣይተ', 'ፖሊስ', '10', 'ወይ', 'ዓብዪ', 'መፅናዕቲ', 'ቤተ', 'ብፍላይ', 'እዮም', 'ጉዳይ', 'ክካየድ', 'ሕብረት', 'ኣርባዕተ', 'ተባሂሉ', 'ዳይሬክተር', 'ማራቶን', 'ስነስርዓት', 'ትምህርቲ', 'ነበር', 'ባይቶ', 'ፕሬዚዳንት', 'ዝኾኑ', 'ምብራቕ', 'ስቴትስ', 'ኤ', 'ቁፅሪ', 'ሓሙሽተ', 'ለውጢ', 'ሲ', 'ሚኒስተር', 'ሞንጎ', 'ዝርከቡ', 'ዋጋ', 'ርክብ', 'ግና', 'ሓንቲ', 'ኣባላት', 'ፅዋዕ', 'ሃፍቲ', 'ሙዚቃ', 'ፈረንሳይ', 'ኮቪድ', 'ወሲኹ', 'ማለት', 'ጉያ', 'ዘጋጠመ', 'ሰበ', '4', 'ገንዘብ', 'ርእሰ', 'ነቶም', 'ወፍሪ', 'ማእኸላይ', 'ገሊፆም።', 'እኳ', 'ኣላ።', 'ፌዴሬሽን', 'ሓገዝ', 'ትፅቢት', 'ብተወሳኺ', 'ዜና', 'ብዝብል', 'ከባቢያዊ', 'ዲ', 'ምኽትል', 'ግልጋሎት', 'ግብረ', 'ኣኼባ', 'ኤች', 'ብርቱዕ', 'ዝናብ', 'መረፃ', 'ዕዳጋ', 'ኣንስትዮ', 'ዝግበር', 'ስምምዕ', 'ኣየርን', 'ብሓባር', 'ሚእታዊ', 'መድረኽ', 'ጉባኤ', 'ብመሰረት', '5', 'መራሕቲ', 'ጃፓን', 'ከተማታት', 'ገይሩ።', 'ዓለማዊ', 'ንምክልኻል', 'ዘለዋ', 'ነፈርቲ', 'ምርመራ', 'ኤም', 'ስዒቡ', 'ኩነት', 'ኣዋርሕ', 'ዘለዎም', 'ኣሕመድ', 'ውልቀ', 'ዝተዳለወ', 'ፕሮጀክት', 'ሊግ', 'ምዃኑ', 'መርከብ', 'ክኸውን', 'መንጎ', 'ከምኡውን', '20', 'ዑደት', 'ብሄራዊ', 'ዘተ', 'ቲ', 'መናእሰይ', 'መግለፂ', 'ኢትዮጵያዊያን', 'ከምዝበሎ', 'እስራኤል', 'ሓላፊ', 'ኣዝዩ', 'መረዳእታ', 'ኮይኑ።', 'ምዕራብ', 'ግን', 'ካናዳ', 'ትካላት', 'ሓቢሩ።', 'ምኽንያት', 'ሰራዊት', 'ቪ', 'ፓርቲ', 'ሙሉእ', 'ህዝባዊ', 'ስራሕቲ', 'ናይቲ', 'ዋላ', 'ዘይሕጋዊ', 'ዝለዓለ', '12', '7', 'መሰል', 'ደቡባዊ', 'መንገዲ', 'ኢራን', 'ኤን', 'ዞባ', 'ኣትሌቲክስ', 'ሓይልታት', 'ኣብያተ', 'ፅሕፈት', 'ዩኒቨርሲቲ', 'ኣትሒዙ', 'ዝበሉ', 'ኮይና', 'ኣካያዲ', 'ተፈሊጡ።', 'ቁጠባዊ', 'ነፋሪት', 'ፒ', 'ሰዓት', 'ዝፀንሐ', 'ግዝኣት', 'ኣውሮፓ', 'ፃዕሪ', 'ኣባል', '30', 'ክፋል', '6', 'ዝብል', 'ኩባንያታት', 'ትልሚ', 'ህዋ', 'ወሰን', 'ማሕበረሰብ', 'መደባት', 'ክልላት', '2020', 'ቴክኖሎጂን', '8', '15', 'ሩባ', '2011', 'ኩሎም', 'ቦታታት', 'ኣፍልጦ', 'ኣምባሳደር', 'ዓረብ', 'ውፅኢት', 'ክዑሶ', 'እንግሊዝ', 'ፀረ', 'ሆስፒታል', 'ግብፂ', 'ማእሰርቲ', 'ሱዳን', 'ምግባር', 'ታሪኽ', 'ኤል', 'ብዝምልከት', 'ኢሎም።', 'ምህዞ', 'ብምግባር', 'ምኳኑ', 'ወርቂ', 'ጥራሕ', 'ኰይኑ', 'ዝሕግዝ', 'ንብረት', 'ግድብ', 'ዝዓበየ', 'ዝተረኸበ', 'ሜክሲኮ', 'ዘኽእል', 'እተን', 'ንመጀመርታ', '40', 'መሰረት', 'ካብቶም', 'ፖሊሲ', 'ፊፋ', 'ፖለቲካዊ', 'ሰብኣዊ', 'ብ', 'ባንክ', '11', 'ዝፅዋዕ', 'ይኹን', 'ን', '100', 'ሜትሮ', 'ቁጠባ', 'ኢቦላ', 'ፀብፃብ', 'ሳተላይት', 'ከምዝሓበሮ', 'ኢንዱስትሪ', 'ዓቕሚ', 'ሰደድ', 'ከምዝገለፅዎ', 'ኦሮሚያ', 'ፓርክ', 'ዓሰርተ', 'ዛጊድ', 'ገሊጹ።', 'ማዕበል', 'ላዕለዋይ', 'ሰልፊ', 'ህይወት', 'ተቓወምቲ', 'ውዕል', 'ጠጠው', 'ባንኪ', 'መስከረም', 'ዝፍለጥ', 'ቢ', 'ዝገብር', 'ተዓዋቲ', 'ዓሶ', 'ስግኣት', '3', 'ስምምዕነት', 'ዝቑፀሩ', 'ቃል', 'ሕክምና', 'ስጉምቲ', 'ዝርከባ', 'መገዲ', '50', 'ቱሪዝም', 'መጀመርታ', 'ገይሩ', 'ኮሮና', 'ሓበሬታ', 'ሳይንስን', 'ክብረ', 'ፅርየት', 'ኣፍሊጦም።', 'ኣር', 'ከምዝበልዎ', 'ዝተረኸቡ', 'ከምዝኽእል', 'ብውሑድ', 'ባራክ', 'ሰራሕተኛታት', 'ፍርቂ', 'ዓመፅ', 'ኩሉ', 'ስለ', 'ንነዘ', 'ዝኾነን', 'ገምገም', 'ነይሩ።', 'ዓይነት', 'ኣሎ', 'ነበርቲ', 'ሩስያ', 'ተወሰኽቲ', 'ብሉፅ', 'ተፃዋቲ', 'እናወሰኸ', 'ዝነበሩ', 'ዘለው', 'ነዚ', 'ፓርላማ', 'ዝምድናታት', 'ፕሬዝዳንት', 'ንሓደ', 'ደው', 'ሚኢታዊ', 'ክሲ', 'ፌዴራል', 'ምስቲ', 'ባርዕ', 'ሸውዓተ', 'ምምሕያሽ', 'ዕድል', 'ዝዓለመ', 'ዘበን', '2019', 'በቲ', 'ኢትዮጵያዊ', 'ዘፈር', 'እንኮላይ', 'ኢትዮ', 'ኣዲስኣበባ', 'ተመራመርቲ', 'ሓዊሱ', '14', 'ሽድሽተ', '21', 'ጋዜጣ', 'ሓለዋ', 'ምግቢ', 'ኣድላዪ', 'ሕጂ', 'ሕቶ', 'ኣለው።', 'ንምግባር', 'ድሕንነት', 'ኦሎምፒክ', 'ቅልውላው', '9', 'ክብል', 'ኤውሮጳ', 'ፍሉይ', 'ኣሜሪካን', '18', 'ዩክሬይን', 'ጂ', 'ሽዱሽተ', 'ክልላዊ', 'ኢንቨስትመንት', 'ህዳሴ', 'ንኢትዮጵያ', 'ገሊፃ።', 'ቴሌኮም', 'ፅቡቕ', 'ሓላፍነት', 'መራሒ', 'ደገፍቲ', 'ቀንዲ', '23', 'ኦባማ', 'ዶብ', 'ገማግም', '25', 'ህፁፅ', 'ዝሞቱ', 'መዓልታት', 'ኣለዉ።', 'ኣውስትራሊያ', 'ኣመልኪቱ', 'ብዘይ', 'ዝተገበረ', 'ፍቓድ', 'ኣሜሪካዊ', '2018', 'ከባብታት', 'ሶሪያ', 'ሰሜናዊ', 'ዕብየት', 'ሓበራዊ', 'ከንቲባ', 'ማሕበራዊ', 'ሓፈሻዊ', 'ፍርያት', 'ቅድድም', 'ውሕጅ', 'ምንቅስቓስ', '፣', 'ማይን', 'ውሳነ', 'መንሽሮ', 'ጓል', 'ኣገባብ', 'ብርኪ', 'ከምዝኾኑ', '2014', 'ግደ', 'ቡምባ', 'ብምእታው', '70', 'ክልቲአን', 'ሸሞንተ', 'ብዓል', 'ሰላም', 'ጥሪ', 'ሸቶ', 'መብርሂ', 'ተስፋ', 'ዶናልድ', 'ኣገዳሲ', 'ቕርሺ', 'ኣለዎ።', 'ምድላዋት', 'ሪፖርተር', 'ብምትሕብባር', 'ምትሕብባር', 'ዘበናዊ', 'እምበር', 'ፕሮጄክት', 'ረኺቦም።', 'ኣብ’ቲ', 'ኣሽሓት', 'ታይላንድ', 'ኢድ', 'ቱርኪ', 'ቁፅፅር', 'ዝምራሕ', 'ሽሕ', 'ድምፂ', 'ፀጥታ', 'በዚ', 'ሓይሊታት', 'ውግእ', 'ዝበፅሐ', 'ገፅ', 'ምድሪ', 'ምእንታን', 'በረድ', 'ኪንግደም', 'ኣስታት', 'መዳይ', 'ኲናት', 'ኒው', 'ዲጂታል', 'መኪና', 'ጀርመን', 'ቅዱስ', 'ተጻወታይ', 'ዘለዉ', 'ለንደን', 'ተገይሩ።', 'ሰበስልጣን', 'ምሉእ', 'ከምዘሎ', 'እንትሞቱ', 'ዕዳ', 'ተቓውሞ', 'ኮይኖም', 'ጀሚሩ', 'ብሙሉእ', '2017', 'ፀዋታ', 'ዝገበረ', 'ሸተታ', 'ቢሮ', 'መፃኢ', 'ሞያ', 'ናሳ', 'ስልጠና', 'ቀረብ', 'እየን።', 'ዓማፅያን', 'ንምክያድ', 'ንሳ', 'ዝመፅእ', 'ፋብሪካታት', 'ዝኸውን', 'ተሃድሶ', 'ታሪኻዊ', 'ማዕድን', 'ስደተኛታት', 'መባእታዊ', '2016', 'ኣትሌታት', 'መዚ', 'ዚካ', 'ሰናይ', 'ፋብሪካ', 'ሰነ', 'ባህላዊ', 'ተፈጥሮኣዊ', 'ኮርፖሬሽን', 'ኣምሓራን', 'ዱርን', 'ኣብይ', 'ሰከንድን', 'መልሲ', 'ናብቲ', 'ገዛ', 'ሓሳብ', 'ወተሃደራዊ', 'ተሓቢሩ።', 'በረራ', 'ወሽመጥ', 'ሰላማዊ', 'ዙርያ', 'ኣድማ', 'ይግበር።', 'ኣንስተይቲ', 'ዓሳ', 'መንጐ', 'ፓኪስታን', 'ይኽእል', 'ፊሊፒንስ', 'ደሴት', 'እገዳ', 'ህንፀት', 'መስመር', 'ገለ', 'መጽናዕቲ', 'ፈላመይቲ', '2015', 'መሓመድ', 'ምርምር', 'ዓምፈ', 'ስፖርት', 'ልኡኽ', 'ኣህጉራዊ', 'ዑደተኛታት', 'ስዑዲ', 'ዝሓለፉ', 'ይርከብ።', 'ቶክዮ', 'ኣቕሪቡ።', 'ሰልፈኛታት', 'ንዝርከቡ', 'ብኣሽሓት', 'መጋቢት', 'ሪፐብሊክ', 'ወዲ', 'ዘርኢ', 'ኤፍ', 'ጠፈር', 'ገበን', 'ጥቅምቲ', 'ረድኤት', 'ኢሉ።', 'ዝነብሩ', 'ሃገሮም', 'ስፔይን', 'ኒውዮርክ', 'ኦ', 'ጉድኣት', 'ደቓይቕ', 'መንግስትን', 'ካሊእ', 'ታሕሳስ', 'ሽበራ', 'እቶት', 'ሓቢራ።', 'ተገይሩ', 'ዝኽእል', '22', 'ዲያስፖራ', 'ሓቢሮም።', 'ዝያዳ', 'ኣቢሉ', 'ናውቲ', 'ዓመታዊ', 'ትራምፕ', 'ተጠቀምቲ', 'ክፍሊ', 'ቦርድ', 'ክኢላታት', 'ሕብረተሰብ', 'ዱር', 'ኣቢይ', 'ብዙሕ', 'ትግራይ', 'መቐለ', 'ብሰሉስ', 'ስግግር', 'ንዚ', 'ጎደና', 'ዓቢ', 'መጠንቀቕታ', 'ኦስትሬልያ', 'ክፍለ', 'ብውሕዱ', 'ኣል', 'ዘይቲ', 'ኣካይዶም።', 'ዝተጀመረ', 'ፈለማ', 'ስእሊ', 'ሕጋዊ', 'ግንቦት', 'ሃንደበታዊ', 'ኣንጻር', 'ዝተኸሰተ', 'እናተብሃለ', 'እንስሳ', 'እተገብረ', 'ሕዳር', 'ኣውስትራልያ', 'ዋንጫ', 'ንኽልተ', 'ኣረጋጊፁ።', 'ሆቴል', 'ከፍቲ', 'መንግስታዊ', 'ዴቪድ', 'ብቕዓት', 'ፖላዊስ', 'ደቀንስትዮ', 'ይርከቡ።', 'ኣለዋ።', 'ኢሉ', 'ቪድዮ', 'ሃገራዊት', 'ዒራቕ', 'ኤምባሲ', 'ተመሳሳሊ', 'ዕድመ', 'እስላማዊ', 'ተባሂላ', 'ቀዳመይቲ', 'ዝጅምር', 'ገይሮም።', 'ማእኸሉ', 'ዕጡቓት', '2012', 'ዝተፈጠረ', 'ሰባትን', 'ከምዘለዎ', 'ብዘይካ', 'ሶርያ', 'ደገ', 'ጥምረት', 'ንዘሎ', 'ምኻኑ', 'ውሩይ', 'ዝነበራ', 'ረኽሲ', 'ነዊሕ', '2013', 'ኣንፃር', 'መኽፈቲ', 'ቻይናን', 'ዳግም', 'ተቐባልነት', 'ናይቶም', 'ማእከላይ', 'ብርክት', 'ብምዕላም', 'ኣቢሎም', 'ግርጭት', 'ተሳተፍቲ', 'ኪሎ', 'ማሕበራት', '17', 'ምኳኖም', 'ንምርካብ', 'ኣካላት', 'ስርሑ', 'ሰፊሕ', 'ክፋላት', 'ሳምቡእ', 'ልቓሕ', 'ሕክምናዊ', 'ኣጠቓቕማ', 'ነታ', 'ዜጋታት', 'ኮሚቴ', 'ምፍራይ', '2021', 'ዘውዴ', 'ኣበባን', 'ክሳተፉ', 'ቤንሻንጉል', 'ብሄረሰባትን', 'ዝተመስረተ', 'ኣፈፃሚ', 'ተበግሶ', 'ሓሳባት', 'ንጋዜጠኛታት', 'ኢንፎርሜሽን', 'ንግድን', 'ንምቕራብ', 'ኢትዮጵያ፣', 'ሳህለወርቅ', 'ኣምሓርኛ', 'ንቶም', 'ምሕዝነት', 'ነቢይ', 'መቓብር', 'ዝዀነ', 'ኣየርላንድ', 'ቅትለት', 'ሓድነት', 'ክታበት', 'ሳልሳይ', '2010', 'ነሓሰ', 'ዝነበረት', '52', 'እምነት', 'ክትዕ', 'ኣፍሪቃ', 'ገዛኢ', 'ሲቲ', 'ተፈጥሮ', 'ነገር', 'እትርከብ', 'ሓቲቱ።', 'ቀፃሊ', 'ገሊጻ።', 'ረቒቕ', 'እሱራት', 'ናዕቢ', 'ንመጀመርያ', 'ምዃና', 'ዓለምለኻዊ', 'ንምሕጋዝ', 'ዳይና', 'ከኣ', 'ብምጥቃም', 'ወግዓዊ', 'ብመንገዲ', 'ፀገም', 'ኮሚሽን', 'ውድባት', 'ኣመሪካዊ', 'ሰዓታት', 'ኣውራጃ', 'ቅድመ', 'ደገፍ', 'ኣፕል', 'ኣቦ', 'መንበር', 'ኪም', 'ፀወታ', 'ብሓደ', 'ወሲኑ።', 'ጋዝ', 'ትሽዓተ', 'ተረኺቦም።', 'ተረኺቡ።', 'ቴሌቪዥን', 'ፈፃሚ', '24', 'ሶማሊያ', 'ፀብፂቡ።', 'አሜሪካ', 'ዴ', 'ስሩዕ', 'ብመንግስቲ', 'ስዊድን', 'ፑቲን', 'ካርቦን', 'ክንክን', '‹‹', '››', 'ህፃናት', 'ጉጅለታት', 'መድሓኒት', 'ክፍሊት', 'ማርስ', 'ዝሓዘ', 'ሞባይል', 'ትማሊ', 'ቤተሰብ', 'ዝገለፁ', 'ዝላዓለ', '500', 'ብቐፃልነት', 'ተረጋጊፁ።', 'ዘካየዶ', 'ሳይንቲስታት', 'ሓባራዊ', 'ኣፍሪካን', 'መሸጣ', 'ሚካኤል', 'ዝተመዝገበ', 'ኣዋጅ', 'ንምፍታሕ', 'መዝገብ', 'ማዝያ', 'ሓዊ', 'ዙሪያ', 'ቅርሲ', 'እንትዀን', 'ዓለባ', 'ክትባት', 'ተግባራዊ', 'ኢትዮጵያዊት', 'መደረ', 'ንምስታፍ', 'እናዓበየ', 'ሃገርን', 'ትውልዲ', 'ክግበር', 'ኮሌጅ', 'ዘገልግል', 'ተተሊሙ', 'ተዓዋቲት', 'ተታሒዙ', 'ሕርሻ', 'ኢትዮጵያውያን', 'ዲግሪ', 'ግድን', 'ይፍለጥ።', 'ስነጥበባዊት', 'ተኸቢሩ።', 'ህዝብታትን', 'ሰላምን', 'በጀት', 'ብፍሉይ', 'ዜ', 'ጋዜጣዊ', 'ፀገማት', 'ንጋዜጣ', 'ከምዝገለፀቶ', 'ምህርቲ', 'ታደሰ', 'መዳርግቲ', 'ኣካላትን', 'ሰሙነ', 'ኢንዱስትሪን', 'ንኣገልግሎት', 'ኤጀንሲ', 'ኢንስቲትዩት', 'ግጥማት', 'ደቓይቕን', 'ሙላቱ', 'ቆፅላዋይ', 'መርበብ', 'ተምሃሮ', 'ፍጻሜ', 'ዝነበሮ', 'ኣፍጋኒስታን', 'ብሪታንያ', 'ሆንግ', 'ብምቅዋም', 'ሊቃውንቲ', 'ወጻኢ', 'ጠቕላሊ', 'ቃለ', 'ዋዕላ', 'ኮሚተ', 'ንምጥንኻር', 'ናጻ', 'ጀሚሩ።', 'ወቕቲ', 'ኣፍሊጣ።', 'ደሴታት', 'ጸወታታት', 'ፀጥታን', 'ዘለዎን', 'አብ', 'ቋንቋ', 'ድርቂ', 'እንትኸውን', 'ጀሚሮም።', 'ዘገዳም', 'ተቐቲሉ።', 'ከምዝሞቱ', 'ኣዊጁ።', 'ዋንነት', 'ዝብሃል', 'ፓውንድ', 'ኣረጋጊፆም።', 'ዝምድና', 'ስታድዮም', 'ንምርግጋፅ', 'ክኾኑ', 'ዝፅግዑ', 'ኣብ’ታ', 'ዝተብሃለት', 'ኣመልኪቱ።', 'ትሕዝቶ', 'ከቢድ', 'ጆን', '፤', 'ምፈ', 'ዳርጋ', 'ዝበፅሑ', 'ኣቡነ', 'ምድላው', 'ፆታዊ', 'ክትብል', 'ንፈለማ', 'ዕግርግር', 'ከምዝኽእሉ', 'ዝገበረቶ', 'ጸወታ', 'ንጋንታ', 'በረራታት', 'ኤርትራ', 'ተወሳኺ', 'ኣልቦ', 'ናብታ', 'ኮሪያ', 'ክፉት', 'ቴክሳስ', 'ኣፅዋር', 'መምርሒ', 'ምርጫታት', 'ስዊዘርላንድ', 'ክርስቲያን', 'ንሰለስተ', 'ወተሃደራት', 'ጋዝን', 'መጥቃዕትታት', 'ንመበል', 'ሰሙናት', 'ኬንያ', 'ጎብለል', '0', 'ጉዕዞ', 'ዓርሰ', 'ሞይቶም።', 'ኣለሻ', '42', 'ፀኒሑ', 'ዩኒቨርስቲ', 'ቀቲሉ', 'ማሊ', 'ኣስከሬን', 'መልእኽቲ', 'ግዕዝይና', 'መንግስትታት', 'ምትላል', 'ክብሉ', 'ኢንግላንድ', 'ክትከውን', 'ምግቢን', 'ቆልዓ', 'ሽዑ', 'ኣትዩ።', 'ኮምፒዩተር', '16', 'ዝኣመሰሉ', 'ዋሕዚ', 'ትሑት', 'ኖቤል', 'ነተን', 'መሳርያ', 'ምባል', 'መሳርሒ', 'ውሩያት', 'ተፈሊጡ', 'ወገናት', 'ነጥቢ', '35', 'መሰላት', 'ኮርያን', 'ጥበብ', 'ትካላትን', '27', 'ልምምድ', 'ሕሙማን', 'ህይወቱ', 'ቃልሲ', 'ሓመድ', 'እንትብል', 'ውሕስነት', 'ባህሊን', 'ክብሪ', 'ዝኾና', 'ዝተትሓዙ', 'ኣቑሑት', 'ፕሮፌሰር', 'መዓልቲታት', 'ክህሉ', 'ብሰንበት', 'ውፅኢታዊ', 'ዝበለፀ', 'ተኻይዱ።', 'ንምጥፋእ', 'ምጥቃም', 'ካብተን', 'ዓሊሙ', 'ኣፍረይቲ', 'ከባቢታት', 'ዝፀንሕ', 'ቅልጡፍ', 'ኰይና', 'ብሓሙስ', 'ኮሚሽነር', 'ዚያዳ', 'ዕላማ', 'ኢትዮጵያዊያንን', 'ኦሮሞ', 'ብቕልጡፍ', 'ፋና', 'ምዕባለ', 'ጥዕናን', 'ምስፍሕፋሕ', 'ርሕቐት', 'ጋና', 'ኣታዊ', 'ተሞክሮ', 'ምህዞን', 'ንምስራሕ', 'ስትራቴጂ', 'ልምዓትን', 'ደቒቓ', 'ዝልዓለ', 'ውድድራት', 'ፍሪያት', 'ሕርሻን', 'ቦሌ', 'ድኤታ', 'ዝዋሃብ', 'ቴታነስ', 'ብዝሃነት', 'ንግ', 'ማልት', 'ኢላ', 'መንበሪ', 'ንጉስ', 'ንኣርባዕተ', 'መኮንናት', 'ቢን', 'ናይታ', 'ንህዝቢ', 'ንመንግስቲ', 'ኮንግ', 'ዝግመቱ', 'ብዝሃ', 'ተገሚቱ', 'ቓዛ', 'ተሰማሚዐን።', 'ፀዊዖም።', 'መስጊድ', 'ኣዝያ', 'ቫቲካን', 'ዩሮ', 'ተዋጋእቲ', 'ዓሊ', 'ብራዚል', 'ንሰሜን', 'ነታጒ', 'ረስኒ', 'አይ', 'ሓደገኛ', 'ክገብር', 'ንካልኦት', 'ኣብዝሓለፈ', 'ከምዘመልከቶ', 'ትኪ', 'ተቐቲሎም', 'ደርዘናት', 'ፋውንዴሽን', 'ንግዳዊ', 'ኮይና።', 'ምሃብ', 'ዝተሳለጠ', 'ደመር', 'ኤስያ', 'ተኸታተልቲ', 'ዘለውዎ', 'ምድሓን', 'ኣጊዳ።', 'ክብ', 'ጃፓንን', 'ገምጋም', 'ተመራማሪ', '2000', 'ራይትስ', 'መዕርፎ', 'በፂሑ።', 'ስቴት', 'ተኵሲ', 'ሚኒስትሪ', 'መጀመርያ', 'ዝቕባበ', 'ሚእታዊት', 'ጉግል', 'መፅሓፍቲ', 'ብ2011', 'ርእደ', 'ዜግነት', 'ሂቡ።', 'ብራውን', 'ዝገብርዎ', 'ሜዳሊያ', 'ህንፃ', 'ስኮትላንድ', 'ብፍቓዶም', 'ንምድሓን', 'ጎቦ', 'ዝተልዓለ', '400', 'ብዕሊ', 'ዓበይቲ', 'ወደብ', 'ሃለዋቶም', 'ኬሚካል', 'መረጋገፂ', 'ንዝርከብ', 'ተቐቲሎም።', 'ሮበርት', 'ኤውሮጳዊ', 'በርሊን', 'ብፍቓዱ', 'ሃገረ', 'ዝተዓወተት', 'ጎንፂ', 'ወሪዱ።', 'ሰኑይ', 'ሻምፕዮና', 'ዘላ', 'ዝርከብን', 'ውጥን', 'ነፍስ', 'ወከፍ', 'ጳጳስ', 'ባእሲ', 'ኒውዚላንድ', 'ቻይናዊ', 'ኪንግ', 'ጣቢያ', 'ፈነወ', 'ዝተብሃሉ', 'ሓሙስ', 'ገንዘባዊ', 'ሓሊፉ።', 'ሃይማኖት', 'ቀፅሪ', 'ኣብዘሎ', 'ሪፓብሊክ', 'ተገይሩሉ', 'ክለቁ', 'ጠንቂ', 'ኣፅዲቑ።', 'ተጀሚሩ።', 'ደራሲ', 'ዓማዊል', 'ባይታ', 'ብሰላም', 'ብሕማም', 'ዓመትን', 'ኣብዝተኻየደ', 'ንምትእትታው', 'ሜይ', 'ዘስዓቦ', 'ጳጳሳት', 'ብቲ', 'ፍትሒ', 'ተመልከቲ', 'ሓደስቲ', 'ሓላፍነቱ', 'ብኽለት', 'ብዝነበሮ', 'ምንካይ', 'ፍራንሲስ', 'ዘካተተ', 'ሩስያን', 'ንልዕሊ', '94', 'ድምጺ', 'ገበናት', 'ካሊፎርኒያ', 'ኣማኢት', 'ሜዳ', 'እንተ', 'ኢንተርኔት', 'ብዘጋጠመ', 'ፈተናታት', 'ደብዳብ', 'ዓመቱ', 'ዝተሰርሐ', 'ምክትል', 'ጎልፍ', 'መን', 'ፀሓይ', 'ምብራቓዊ', 'ጸብጻብ', 'ልዑል', 'ዘ', 'ፊልምታት', '61', 'ሽልማታት', 'ብወገኖም', 'ዝገበሮ', 'ዝሃቦ', '90', '55', 'ዝተፈፀመ', 'ግዚያዊ', 'ወከልቲ', 'ዴሞክራሲያዊ', 'ከቕርብ', 'ከምዝኾነን', 'ብምቕራብ', 'ንምጅማር', 'ከምዝግባእ', 'ሳዕቤን', 'ምክልኻልን', 'ዝቐረበ', 'ዝተመዝገቡ', 'ደቡብን', 'ንምህናፅ', 'ዝፈጥር', 'ክእለት', 'ብልዕሊ', 'ኣውራ', 'ንሳቶም', 'እንስሳት', 'ግንባር', 'ኣንስትዮን', 'ኮሚዩኒኬሽን', 'ታሕተዋይ', 'ዝኽበረሉ', 'ኣደባባይ', 'ኣብሪሁ።', 'ኣፍሊጡ', 'ክለብ', 'ቅድም', 'ጎረቤት', 'ፕሮግራም', 'ምልክት', 'ንምምካት', 'መሳርሒታት', 'ቶን', 'ፅባሕ', 'ፌዴራላዊ', 'በብዓመቱ', 'ዓዲን', 'ክልቲኦም', 'ዛንታ', 'መስሓቄን', 'ዓድዋ', 'ኣልበም', 'ሰራሕቲ', 'ዘርእስቱ', 'ከተማን', 'ሱዳን፣', 'ኣስተዋፅኦ', 'ዘተኮረ', 'ኩለን', 'ሂቡ', 'ወረቐት', 'ቱሪዝምን', 'ዝቕፅል', 'ብሮድካስቲንግ', 'ዝተጣየሸ', 'ክሰርሕ', 'ንምስላጥ', 'ፈልሲታት', 'ንግልጋሎት', 'ክወቅዕ', 'ኣዚዩ', 'ኣየር፣', 'ኣሰራርሓ', 'ጨው', 'ኤሌክትሮናዊ', 'ከምዝገበረ', 'ጥዕና፣', 'ኢና', 'ቴድሮስ', 'ሚልዮናት', 'ንጥፈታት', 'ኣዳማ', 'ሻምፒዮና', 'ምዝገባ', 'መናእሰይን', 'ስፖርትን', 'ህዝብታት', 'ሙዚቃን', 'ግሩፕ', 'ዓርቢ', 'ስራሕን', 'ዝገለፀ', 'ድሕንነትን', 'መሰረታዊ', 'ኣተሓባባሪ', 'ምይይጥ', 'ነይሮም።', 'ሓምለዋይ', 'ኤጄንሲ', 'ንምሃብ', 'ከምዝበለቶ', 'ዝውዕል', 'ካርጎ', 'ሰነድ', 'ዘገልግሉ', 'ሰከንድ', 'ባህርዳር', 'ሲኒማ', 'ኣስታጥቄ', 'መስቀል', 'ቀርኒ', 'ምጥፋእ', 'ለምሲ', 'መውሊድ', 'ውሽጣ', 'ዝሕብር', 'ቀዳም', 'ሕውየት', 'ኢንፍሉወንዛ', 'ዕልዋ', 'ኣፍደገ', 'ኮርያዊ', 'ጸሓይ', 'ኔፓል', 'ዝረኸበ', 'መካይን', 'ንቡር', 'ዝኾነሉ', 'ሓለፍቲ', 'ከባብያዊ', 'ገይራ።', 'ደልሂ', 'ዝተበፅሐ', 'ሞዛምቢክ', 'ኣመሪካን', 'ተኹሲ', 'ሰማይ', 'ድሙቕ', 'ጣልያን', 'ፌደረሽን', 'ቤዝቦል', 'ገፀ', 'ሞይቶም', 'ድሮን', 'ዋዒ', 'ባሕረኛታት', 'ብዝተብሃለ', 'ዝሓወሰ', 'ምዕራባዊ', '600', 'ኣባይቲ', 'ምንቅጥቃጥ', 'ተባሂሉ።', 'ቕትለታዊ', 'ሙስሊማት', 'ቀቲሉ።', 'ዝግመት', 'ቱር', 'ካሊፎርንያ', 'ማዕበላት', 'ሂወት', 'ሰንበት', 'ተመዝጊቡ', 'ቖሲሎም', 'ባርሴሎና', 'ፈውሲ', 'ዳህሳስ', 'ቆሲሎም።', 'ዓሌት', 'ተቓዋሚ', 'ብሰንኩ', 'ህውከት', 'መዓልትታት', 'ብምኳን', 'ሎምዘበን', 'ቋንቋታት', 'ንናይ', 'ነቑጣታት', 'ረኺቡ።', 'ሂዩማን', 'ዎች', 'ግብሪ', 'ሞይቱ።', 'ፅዕነት', 'ሊብያ', 'ፀብፃባት', 'እዋን፣', 'ተኸሲሱ', 'የመን', 'ንምጥቃም', 'ሻቕሎት', 'ርብዒ', 'ዮርክ', 'መኸተ', 'ምድሪን', 'ቁጽሪ', 'ጥርዓን', 'ንዝግበር', 'ቀሪቡ', 'ንምውሳድ', 'ዝኣክል', 'ሉዊስ', 'ሮማ', 'ብሉጽ', 'ዓወት', 'ለቒቖም።', 'ህዝባዊት', 'ጫማ', 'ብኻራ', 'ጆንግ', 'ተነቢሩ', 'መጥባሕቲ', 'ብዚ', 'ማይል', 'ዘለወን', 'ዲፕሎማሲያዊ', 'እሳተ', 'ተኸታታሊ', 'ዝወቕዐ', 'ግምት', 'ዘመልክት', 'ኣጽዋር', 'ንምእታው', 'ብኲናት', 'ሕድ', 'ዕማም', 'ንሕማም', 'ኤይድስ', 'ተባሂሎም', 'ኣብኡ', 'ሃገራ', 'ኣመሪካ፣', 'ዝርርብ', 'ዓለምና', 'መቕተልቲ', 'ፌስቲቫል', 'ኣስክሬን', 'ዝኣተወ', 'ተኣሳሲሩ', 'ዝሃበ', 'ጋዜጠኛ', 'ንምቁፅፃር', 'ሞተር', 'ተኣሲሮም', '29', 'ናይጀሪያ', 'ብወግዒ', 'ክሳተፍ', 'ዝገብርን', 'ዋሺንግተን', 'ኣልሸባብ', 'ፓርክታት', 'ብምክያድ', 'ተሊሙ', 'ሃብቲ', 'ዒስራ', 'ዝዀነት', '13', 'ኣሰልጣኒ', 'ፊሊፒነስ', 'ሰበይቲ', 'ዝመፀ', 'ስጋ', 'ህንፀቱ', 'ሰብኣይ', 'ንተኸታታሊ', 'ህይወቶም', 'ኣብዝተብሃለ', 'ዝኸፈተ', 'ማእከል', 'ቸክ', 'ግሪኽ', 'ታሊባን', 'ኣሰናዳኢ', 'እንተኾነ', 'መድሓኒትን', 'ፈረንሳ', 'ምፅራይ', 'ካልአይቲ', 'ምልላይ', 'ዝሰርሕ', 'ኦሊምፒክስ', 'ሳይንስ', 'ጽሕፈት', 'ዴሞክራቲክ', 'ሚድያ', 'ንምኽፋት', 'ፍቕሪ', 'ዝስመ', 'ዝኽሪ', 'ጣሊያን', 'ስዑድ', 'ማይክል', 'ሊቃነ', 'ብገበን', 'ሰነዳት', 'ተዓዊቶም።', 'ባህሊ', 'ምብፃሕ', 'ጣብያ', 'ካብ’ቲ', 'ኦርቶዶክስ', 'ክርስትያን', 'ኬ', 'ሚሊዮን', 'ዩጋንዳ', 'ማእኸናት', 'ጅምላ', 'ቦይንግ', 'ንዝተብሃለ', 'ኣልቃይዳ', 'ሪዮ', 'ኢራናውያን', 'ብሕታዊት', 'ሓፂር', 'ከምዘለዎም', 'ተዓዊቱ።', 'ምትእስሳር', 'ክስተት', '150', 'ናይጄሪያ', 'መልከፍቲ', 'መርዓ', '38', 'ቀብሪ', 'ምብራቕን', 'ንምርካብን', 'ዝሽፍን', '800', 'ብዓወት', 'ሓበሬታታት', 'ስልኪ', '82', 'ኩባ', 'ዋልታ', 'መርመራ', '75', 'ዘጠቓልል', 'ሆንግኮንግ', 'ፊሊፕንስ', 'ወታሃደራዊ', 'ኣካዳሚ', 'ዕውት', 'ኢሎም', 'ባንድ', 'ቀመማዊ', 'እንትቐትል', 'ዩክረይን', 'ጊኒን', 'ከምዝተረኸበ', 'ውጥረት', 'ማካይን', 'መካነ', 'ሓድጊ', 'ዕድጊት', 'ሃውስ', 'ኦፍ', '200', 'ፓሲፊክ', 'ኣቕሪቡ', 'ጭፍጨፋ', 'ገሊፆም', 'ከካይድ', 'ውፅኢታት', 'ተባዕትዮ', 'ዋሕዲ', 'ተግባር', 'ኣሜሪካ፣', 'ዝተውሃበ', 'ሽቶ', 'ተሰማሚዑ።', 'ገይሮም', '26', 'ሓላፍነቶም', 'ረኺቡ', 'ንግስቲ', 'ዝፈቅድ', 'ንላዕሊ', 'ኣፍሪካዊት', 'እያ', 'መኺሩ።', 'ዝህብ', 'መበገሲ', 'ምቁፅፃርን', 'ባዓል', 'ኣ', 'ተሳቲፎም።', 'ስሙይ', 'ተሳትፎ', 'ህዝብን', 'ዓሚ', 'ኣብቶም', 'ዝተቓልዑ', '34', 'ምላሽ', 'ጐዳና', '51', 'ፊልሚ', 'ሙያ', 'ዝቕፅሉ', 'ተሓሲቡ', 'መከላኸሊ', 'ምሕረት', 'ማዕረ', 'ቑፅሪ', 'ሩት', '300', 'ኮይኖም።', 'ክጅምር', 'ጥምቀት', 'ተራ', 'ዘጋጥም', 'ተሰማሚዖም።', 'ከምዝገብር', 'ተረኺቦም', 'ሕግታት', 'ስያሜ', 'ጋንታታት', 'ኤሌትሪክን', 'ብዝኾነ', 'ከምኡ’ውን', 'መጋበርያ', 'ዕዮ', 'ክትግበር', 'ተኸሲቱ', 'እኹል', 'ኤርትራን', 'ብኻሊእ', 'ኤታ', 'ጀነራል', 'ዝተጠቕዑ', 'መስርሕ', 'ዝጀመረ', 'ዩኬ', 'ዳንስ', 'ውሱን', 'ዝኽበር', 'ሒደት', 'ወፃኢን', 'ቀነኒሳ', 'በቀለ', 'ዓውዲ', 'ባዕሉ', 'ዲዛይንን', 'ቆርበት', 'ስነጥበባዊ', 'ፀኒሖም', 'ዝተረኸቡሉ', 'ዝመፁ', 'ቤቲ', 'ዘውፅኦ', 'ስራሕቶም', 'ዲዛይን', 'ከቕርቡ', 'ስለዝኾነ', 'ገና', 'ተወከልቲ', 'ምቹው', 'ሃዋህው', 'እናሰርሐ', 'ቤተክርስትያን', 'ሓምለ', 'በረከት', 'መስኖን', 'ምምሕዳርን', 'ህዝቢን', 'ሳሙኤል', 'ንኣብነት', 'ዓፋርን', 'እዞም', 'ጠንካራ', 'ብዓለምለኸ', 'ሃገራትን', 'ሽፋን', 'ሚሊ', 'ወሲኻ', 'ክረኽቡ', 'ስሉስ', 'ሊያ', 'ዓለምን', 'ብዝዓበየ', 'ብሚኒስትር', 'ባሌ', 'ካፍ', 'ፕሪሚየር', 'ጃዝ', 'ንብዙሓት', 'ተፈራሪመን።', 'ረብሓ', 'ንሪፖርተር', 'ይብሉ', 'ዳያስፖራ', 'ኣፈፃፅማ', 'ሄክታር', 'ፅሩይ', 'ብምስታፍ', 'ክገብሩ', 'ሱዳንን', 'ምሩፃት', 'ግዛው', 'ሳይበር', 'ዕዳጋን', 'ኣዴታትን', 'ወረዳታት', 'ደረጀ', 'ብሮቡዕ', 'ተገሊፁ።', 'ዝሃብዎ', 'ጌታቸው', 'ዝበዝሕ', 'ተስፋዬ', 'ዀይኑ', 'ብወገኑ', 'ከምዝበለኦ', 'ኣንበጣ', 'ዝገበረን', 'ዝግባእ', 'ሶማሊ', 'ካልኢትን', 'ግደይ', 'ዀይኖም', 'ትኽክለኛ', 'ዓለምለኻዊን', 'ኣፍሮ', 'ዝተሓተመ', 'መልቲ', 'ካነስ', 'ብዝተፈላለዩ', 'ሆፕ', 'ዝወፀ', 'ንምውሳን', 'ኣባይ', 'ፍልፍል', 'ጉሙዝን', 'ኣብዪ', 'ነዳዲን', 'ሶፊ', 'መሪሕ', 'ዝወነነት', '2030', 'ኣገንዚቡ።', 'ንስራሕቲ', 'ቴክኖሎጅን', 'ምፍጣር', 'ሃይማኖታዊ', 'ልጅ', 'ሸኽላ', 'ሰርከስ', 'እግዚኣብሄር', 'እየሱስ', 'ማርክ', 'ዝብሉ', 'ስነኳዕቲ', 'ሴኔጋል', 'ዙማ', '98', 'ንምኽባር', 'ዘረባ', 'ሺናዋትራ', 'ለይቲ', 'ቀፂሉ', 'ኣቡ', 'ፖላንድ', 'ምልሓኹ', 'ኣቐዲሙ', 'ከምዘለወን', 'ዝነበሮም', 'መግዛእቲ', 'ነቑጣ', 'ቅሪተ', 'ከምቲ', 'እንተይኮነስ', 'ፕላነት', 'ቀጥታዊ', 'ዝቐረቡ', 'ፖለቲከኛታት', 'ንሳልሳይ', 'ዝገበርዎ', 'ምህላዉ', 'ክምለስ', 'ወንበር', 'ብምዃን', 'ማሕላ', 'ምጭብርባር', 'ራግቢ', 'ክቐርብ', 'ፕላስቲክ', 'ኮመንዌልዝ', 'ክግበረሉ', 'ኣለዎ', 'ዘቕረበቶ', 'ጻውዒት', 'ብ10', 'ወሰኽ', 'ሃሪሰን', 'ኣትላንቲክ', 'ኣውሮፓን', 'ዘስዓበ', 'ኣውስትራልያን', 'በጻሕቲ', 'ዝተፈጸመ', 'ምኽፋት', 'ኣፍጋሃኒስታን', 'ካቡል', 'ኪሎሜትሮ', 'ዝተመዝገበን', 'ረኺቦም', 'ኤለክትሪክ', 'ህቦብላ', 'ብመዐቀኒ', 'ሬክተር', 'ቀይሕ', 'ሩዝ', 'ዝበዝሑ', 'ከምዝሓዘ', 'ተረኺቡ', 'ደንግ', 'ነጋዶ', 'ፌስ', 'ገፃት', 'ዝተዘርገሐ', 'ደም', 'ሓጋዚ', 'ንምምሕያሽ', 'ሂቦም።', 'ጥንታዊ', 'ኣሰር', 'ሺጋራ', 'ፕረዚደንታዊ', 'ዝተፈጥረ', 'ግጭት', 'ዝታሓተ', 'ኣቲዋ።', 'ጐንፂ', 'ቀዳሞት', 'ዝተፈረዶም', 'ክህልዎም', 'እየሩሳሌም', 'ዝተበሃለ', 'ካልእ', 'ኣርካንሳስ', 'ኣልጀርያ', 'ዝርግሐ', 'ኣንጭዋ', 'እናተኻየደ', 'ዴልታ', '60', 'ክሽየጥ', 'ዲፕሎማስያዊ', 'ተገሊጹ።', 'ኣርክቲክ', 'መጻኢ', 'ዝኸይድ', 'ተወለድቲ', 'ካርታ', 'ዝርርባት', 'ሓዳሽ', 'ንዘጋጠመ', 'ግዝያዊ', 'ሲቪላዊ', 'ዝተባህለ', 'መድሃኔት', '56', 'ወለድ', 'ዝጀመረት', 'ኤሌክትሪክ', 'ምቁራፅ', 'ዕዉት', '32', 'ገሊፁ', 'መዐቀኒ', 'ሜትሮሎጂ', 'ኮኸብ', 'ፑል', 'ንምሓዝ', 'ኣቕሪባ።', 'ዓቃቢ', 'መራሒት', 'ንምውድዳር', 'ረቑሓታት', 'ዓፅሚ', 'ጋዳፊ', 'ጃምላዊ', 'ሚሲሲፒ', 'ንምእንጋድ', 'ኢል', 'ኣትዮም', 'መተንፈሲ', 'ኮነ', 'ሂላሪ', 'ስዒራታ።', 'ጎመራ', 'ቆልዑ', 'ኣፈኛ', 'ከምዝ', 'ሓዉ', 'እሱር', 'የመና', 'ስሪላንካ', 'ንዘለዎም', 'መንኰርኰር', 'ኣካያዲት', 'ከይጋፋሕ', 'ብዘስዓቦ', '57', 'ዝነበርዎ', 'ኣውቶብስ', 'ንካልኣይ', 'ክመርሕ', 'ተመሪፁ።', 'ውቕያኖስ', 'ኣውፂኡ።', '5000', 'ተፀብፂቡ።', 'ክገብራ', 'መዋፈሪ', 'ገሊፀን።', 'ስልጣኑ', 'ለቒቑ።', 'ንሓንቲ', 'ኣብመንጐ', 'ንምስፋሕ', 'ን1', 'ኣመንቲ', 'ኣድልዎ', 'ግዜ፣', 'ማሌዥያ', 'ብኽልተ', 'ሞተረኛታት', 'ኦክላንድ', 'ተዋሳኢት', 'ንዘለው', 'ኣብትፅዋዕ', '63', 'ዪንግሉክ', 'ምእንቲ', 'ተዓዊታ።', 'ፍሎሪዳ', 'ሸቐጥ', 'ዕለት', 'እማመ', 'ቡድሃ', 'መስተ', 'ክዋፈሩ', 'ትዊተር', 'ሊቀ', 'ተላቢዎም።', 'እዩ”', 'ክብረወሰን', 'ክስታት', 'ኣውዒሎም።', '44', 'መጽናዕትታት', 'ዝሕብሮ', 'ዝህሉ', 'ፖለቲከኛ', 'መጉዳእቲ', 'ኣወዳት', 'ቬትናም', 'ሰራሕተኛ', 'ርክብን', 'ምሓዝ', 'ዘስዕብ', 'ሃንደበት', 'ወዲቓ', 'ብዓሰርተታት', 'ማድሪድ', 'ተዛዚሙ።', 'ቀሪቦም', 'ሻምፒዮን', 'ብሓፈሻ', 'ገዛውቲ', 'ኣሲሩ', 'ሞሮኮ', 'ሞስኮ', 'ሓፋሽ', 'መደምደምታ', '2004', 'ተረጋጊፁ', 'ወታሃደራት', 'ቀቲሎም', 'ኪ', 'ገይሩዎ', 'ልቢ', 'ናይ’ቲ', 'ብ3', 'ጐረቤት', 'ኣላ', 'ክሪኬት', 'ነብሲ', 'ፈረንሳይን', '160', 'ንደቡብ', 'ሓያል', 'ንሓደጋ', 'ምቕናስ', 'ርኡይ', 'ማንቸስተር', 'ሓጋይ', 'ፌስቡክ', 'ሓቀኛ', 'ጀርመናዊ', 'ኣንቅፂ', 'ተጠርጢሩ', 'ንምድጋፍ', 'ኮንጐ', 'ቀሪቡ።', 'ዝስማ', 'ኣሰልጠንቲ', '46', 'ሊባኖስ', 'ዝጠሓለት', 'ኢንዶኔዥያ', 'ሆቦብላ', '85', 'ዲሲ', 'ፓንዳ', '81', 'ኣልኮላዊ', 'ስለያ', 'ኣፍ', 'ምሃብን', 'ክእሰር', 'ዝፀንሐት', 'ህይወታ', 'ኣስጋኢ', 'ቅዲ', 'ፅሑፍ', 'ኮስት', 'ሓወልቲ', 'ሒዙ', 'ኣባልነት', 'ብድምር', 'ነሓስ', 'ከምዘመልክቶ', 'ፕላኔት', 'ወረታት', 'ጌጋ', 'መመርመሪ', 'ጽፍሒ', 'ዝርዝር', 'ጆናታን', 'ቭላድሚር', 'ብጉጅለ', 'ንጥዕና', 'ኣንታርክቲካ', 'ፌስትቫል', 'በቒዓ።', 'ዘካየደቶ', 'ማእቀብ', 'ተራኺቡ።', 'ዝርከቡዎም', 'ውዒሎም።', 'ደራሲት', 'ፀፍሒ', 'ካቶሊካዊት', 'ቦስተን', 'ሰብኡት', 'በዝሒ', 'ዝሓለፋ', 'ንምንካይ', 'ብምፍፃም', 'ቐረባ', 'ሓሰን', 'ወያነ', 'መዘነቱ', 'ቅርሺ', 'ነይሮም', 'ስድራ', 'ቪድዮታት', 'ንከም', 'ትርጉሙ', 'ደርዘን', 'ቖሲሎም።', 'ፌደራላዊ', 'ናፃ', 'ዝቕመጡ', 'ሶርያውያን', 'መዕቖቢ', 'ብሊቃውንቲ', 'ምስክር', 'መስራቲ', 'ሙዚየም', 'ቫን', 'ሓውሲ', 'ከሚካላዊ', 'ታይገር', 'ኣመዝጊቡ።', 'ቬነዝዌላ', 'ብኣማኢት', 'ከምዝተኸሰተ', 'ውድባትን', 'ግርዶሽ', 'ጨረታ', 'ተልእኾ', 'መንኮራኹር', 'ኦባማን', 'ጐቦታት', 'ርእሱ', 'ኣመሓዳሪ', 'ክትሳተፍ', 'ብውድብ', 'ዝኣተዋ', 'ኣዚዛ።', 'ሕቶታት', 'ኣሌፖ', 'የለን።', 'ንፍዮ', 'ኣላዪ', 'ንዝበዝሑ', 'ወሲዱ', 'ንዝነበሩ', 'ኣዚዙ።', 'ስነምድሪ', 'ምስዚ', 'ዝዋግኡ', 'በጺሑ', 'ሓፂን', 'መሳርሕ', 'ዝበሃል', 'ዝተኸፈተ', 'ዝተሰየመ', 'ረፈረንደም', 'ህጹጽ', 'ኣቑሲሉ።', 'ንዝቐረበሉ', 'ፔትሮ', 'ቢልን', 'ሜሊንዳን', 'ክብደት', 'ዩቲዩብ', 'ዘይ', 'ውቅያኖስ', 'ጐቦ', 'መዘከርታ', 'ሄሊኮፕተር', 'ቍጽሪ', 'ንዝርከባ', 'ሩስያዊ', 'ሚኒስትራት', 'ነውሪ', 'እንተኾኑ', 'ብደርዘናት', 'የካይዱ', 'ምህዋር', 'ንቀዳማይ', 'ሻምፕዮን', 'ስጉምትታት', 'ኣልቦነት', 'ፍልስጥኤም', 'ምቕራብ', 'ውዱብ', 'ዝተኸሰሰ', 'ኩሉግዜ', 'ጄ', 'ኮም', 'ፈተና', 'ሜልቦርን', 'ፖለቲካ', 'ትዕዝብቲ', '2024', 'ዝቐርቡ', 'ደይቡ', 'መቕፃዕቲ', 'ኣርጀንቲና', 'ምድኻም', 'ትእዛዝ', 'ኒዩክሌር', 'ንኩሉ', 'ባጤራ', 'ገይራ', 'ፀሓፊ', 'ገዳም', 'ንዑደተኛታት', 'ንምባል', 'ተዋፊሮም', 'ሃርቬይ', 'ኢንተርነት', 'ኣገልግሎታት', 'ዓራት', 'ሓደጋታት', 'ንኻልኣይ', 'ኣመሪቑ።', 'ኣሉታዊ', 'ብርክታት', 'ኢንስታግራም', 'ጣንጡ', 'ስሕበት', 'እናገበረ', 'ዓሪፉ።', 'ቤልጂየም', 'ኣእምሮ', 'ለንደንን', 'ሽማግለ', 'ዝበለ', 'ፕሬዚደንታዊ', 'መፅሓፍ', 'እየ', 'ዱተርቴ', 'ትሪልዮን', '31', 'ጊዜ', 'ብመጋቢት', '87', 'ማሺናት', 'ክጅመር', 'ቀደም', 'እንትጓዓዙ', 'ሰሜንን', 'ዋይት', 'ሕማማት', 'ካብሞንጎ', 'ብህይወት', 'ኮኾብ', 'ዳያኑ', '78', 'ጓሓፍ', 'መዓርግ', 'ክኢላ', 'ንሓዋሩ', 'ክራይ', 'ንፅል', 'ማ', 'ጎዳና', 'ንዝብል', '28', 'ምስራሕ', 'ዩኔስኮ', 'ቡን', 'ልክዕ', 'ብደረጃ', 'ሸራተን', 'ኦርኬስትራ', 'ደንቢ', 'ፊልምን', 'ኑር', 'ቅርፂ', 'ሒዞም', 'ብሓድሽ', 'ብዝለዓለ', 'ርእይቶ', 'ይገብር', 'ግራፊክስ', 'ደረጃታት', 'ትራምፕን', 'ምጥቃሙ', 'ተቓውሞን', 'ምውፃእ', 'ሽምግልና', 'ዘካይዶ', 'ኢዩ።', 'ማስክ', 'ብሕታዊ', 'ንኻልኦት', 'ፍትሕ', 'ከምዚ', 'ኣፍሊጣ', 'ኣለወን።', 'ልደት', 'ውሑጅን', 'ጥረ', 'ዝተሳተፈ', 'ንግብረ', 'ናብቶም', 'ዝተጎድኡ', 'ንምብፃሕ', 'ዓልየታት', 'እትፅዋዕ', '“ኣብ', 'ሓካይም', 'ብ2016', 'ከምዘሎን', 'ዝተወሰኑ', 'ሴክሬታሪያት', 'ሓጋዚት', 'ላስ', 'ቬጋስ', 'ዝተትሓዘ', 'ዕንወት', 'የካቲት', 'ዘይድህሰስ', 'ንዝነበረ', 'ኣረኪቡ።', 'ዝሕግዞም', 'ብኮቪድ', 'ኤሌትሪክ', 'ተሊማ', 'ምዕቃብ', 'ክራኸብ', 'ኣብተን', 'ተፈራሪሞም።', 'ባሕቲ', 'እናሰርሐት', 'ምስጋና', 'ብምዕዋት', 'ብሩርን', 'ብተበግሶ', 'ሃይሌ', 'ስላሴ', 'ከተማታትን', 'ብሽክሌታ', 'በየነ', 'ዓቕሞም', 'ንኻሊእ', 'ዝገልፅ', 'ጎረባብቲ', 'ኣንበሳ', 'ኣሌ', 'ዝተመረቐ', 'ብሓዱሽ', 'ዝተሰናድአ', 'ቴዲ', 'ሞላ', 'ምኳና', 'ኣጋይሽ', 'ዲዛይነራት', 'ድልየቶም', 'ዝሳተፉ', 'ደስታ', 'ዝተፈላለየ', 'ሃፍቲታት', 'ውሑዳት', 'ኣሸንዳ', 'ቴማ', 'ትኹረት', 'ባዕላ', 'ኣዳራሽ', 'ትያትር', 'ቀጻሊ', 'ምሕታቱ', 'ንኹሉ', 'ኦሮሚያ፣', 'ውሳኔ', 'ሰመረ', 'ደብዳቤ', 'ዝተፈረመ', 'ንቤት', 'ዝተመረፀ', 'ፌደራል', 'ክህብ', 'መንግስቲን', 'ክጠናኸር', 'ዘጠናኽር', 'ግርማ', 'ቀዳምነት', 'ዴኤታ', 'ክቡር', 'ዛዕባታት', 'በለጠ', 'ኣግራባት', 'ዕቑር', 'ዝተቐረፀ', 'ፈልሲ', 'ሲሳይ', 'ዘርፌ', 'ርስሓት', 'ሊትሮ', 'ግራም', 'ቶሚዛዋ', 'ዝተወሰነ', 'ትምህርቲን', 'ዘተባብዕ', 'ንዝደልዩ', 'ምዕባይ', 'ኣናእሽቱን', 'ኣብዛ', 'ጌታሁን', 'ንሕብረተሰብ', 'ኢና።', 'ኣማራፂታት', 'ስልጠናን', 'ፕላስ', 'ጋንዲ', 'ተጠቃሚ', 'ኣገደስቲ', 'ተኮር', 'ዓወታት', 'ንምፍላጥ', 'ዝተወከሉ', 'ዝጋፋሕ', 'ብሓልዮት', 'ዓለባን', 'ምስሊታት', 'ክረኣዩ', 'ጠለብ', 'ሚንስቴር', 'ከይዲ', 'ኣናእሽተይን', 'ማእኸለዎትን', 'ማክሮን', 'ስትራቴጂያዊ', 'ዲኤታ', 'ከምዚኦም', 'ጉዳያትን', 'ክግበሩ', 'ምዕራብን', 'ኣድላይነት', 'ከምዝበፅሖ', 'ቀፂላ', 'ሰባት፣', 'ናይል', 'ምምላእ', 'ደለልን', 'ነገራት', 'ንምዕዋት', 'ግረባ', 'መገድታት', 'ወሳኒ', 'ንክኸውን', 'ዝመጠኑ', 'ምዕራባውን', 'ኣብዮት', 'ሹመቴ', 'ተፈራሪሙ።', 'ሮቦት', 'ዝገበሩ', 'ዝወፀሉ', 'ድሬዳዋን', 'ኢንቴሌጄንስ', 'መኮነን', 'ንምግፋሕ', 'ከምዝጀመረ', 'እንተነበረ', 'ቅንያት', 'ፋሲል', 'ሃዲያ', 'ድሬዳዋ', 'ክርከቡ', 'ኣሰናዳእቲ', 'ንምግባርን', 'ቴሌቭዥን', 'ምርኢታት', 'ዝውነንን', 'ተመልከትቲ', 'ምርካብ', 'ይብል', 'ዕፅፊ', 'ዘኽእሎም', 'ብምብፃሕ', 'ብኡ', 'ተወልደ', 'ዝተፈላለያ', '54', 'ግሩፕን', 'ብዝያዳ', 'ፅልዋ', 'ዓቃቤ', 'ሚኒስትሪታት', 'ሚኢቲ', 'ኢህወዴግ', 'ብምኽትል', 'ተፈሪሙ።', 'ሶልያና', 'ዝዀኑ', 'መሕተት', 'ንዘጋጥሙ', 'ክፀንሕ', 'ንግዲን', 'ንምዕባይ', 'ውሑስ', 'ዝትግበር', 'ሓደጋን', 'ምጉልባት', 'ንምስፍሕፋሕ', 'ውላዳትን', 'ኣዋልድን', 'ዘድልዮም', 'ጉዳፍ', 'ሰሉስ', '59', 'ኣመሓይሻቶ።', 'እየ።', 'ለተሰንበት', 'ሰለስቲአን', 'ሸቶታት', 'መደንፍዒ', 'ጉልበት', 'ፀኒሓ', 'ተፃወትቲ', 'ክኸውንን', 'ኢሬቻ', 'ተዓወትቲ', 'መሪፁ።', 'ከባቢኣን', 'ቴክዎንዶ', 'ክለባት', 'ከምዝሓበርዎ', 'ዳዊት', 'ላዛ', 'ብምኳኑ', 'ንዕኡ', 'ሐዚ', 'ንምትብባዕን', 'መዋእለ', 'ንዋይ', 'ሓድነትን', 'ዲፕሎማሲን', 'ባህሊ፣', 'ብሄር', 'ተሃድሶን', 'ሕድሕድ', 'ብምሃብ', 'ሂፕ', 'ቁፅሮም', 'ፍኖተ', 'ማእቀፍ', 'ንምምዝጋብ', 'ምዕዳል', '80', 'ዓልየታዊ', 'ወለዶ', 'ክኣትው', 'ስልቲ', 'ማዕድንን', 'ገናሌ', 'ዳዋ', 'ልውውጥ', 'ምክያድ', 'ኢንዳስትሪ', 'መረዳእታን', 'ብቐሊሉ', 'መልአኽቲ', 'ጂኣር', 'ክዓቢ', 'ጎቦታት', 'ሓይሊን', 'ኣመላልኣ', 'ዓፋር', 'ኮሪያን', 'ሽንጥሮ', 'ትግራይን', 'ሓዊን', 'ክልላትን', 'ዕቀባ', 'እታወታት', 'ብድርቂ', 'ምንኽኻእ', 'ሶልቭ', 'ወፃእን', 'ካርጎን', 'ሎጂስቲክስን', 'ኣዮዲን', 'ማሕበራዊን', 'ፅርየትን', 'ጌትስ', 'ጳውሎስ', 'ምዘና', 'እስልምና', 'ስርዓታት', 'ንልደት', 'ፀሎትን', 'ኣኽቢሮምዎ።', 'ጋዛ', 'ዝወስዱ', 'ኣስማት', 'ዝኽልክል', 'ብሚልዮናት', 'ምንጪ', 'ብጫ', 'በጺሑ።', 'ስሎቫክያ', 'ሰናብቲ', 'ማዕዳ', 'ወታደራዊ', 'ጊኒ', 'ዝተፈፀመሉ', 'ለብዒ', 'ሓሶት', '2006', 'ኣማኻሪ', 'ክልሰ', 'ንመላእ', 'ኣጋጢምዋ።', 'ከምዝቐተለ', '96', 'ክቕፅል', 'ኣይቪ', 'ምስተረጋገፀ', 'ምቕታል', 'ቀይዲ', 'መደብራት', 'ጸዓት', 'ኣጽዲቑ።', 'ዋህዮ', 'ገዛእ', 'ዝገልጽ', 'ከቶ', 'ኣረጋጊጾም።', 'ሕፁያት', 'ተዛዚሙ', 'ትጽቢት', 'እፀፋሪስ', 'መራኽብ', 'ዝወረደ', 'ንምምርማር', 'ዝሓቖፈት', 'ሜክሲኮን', 'ኣፅዲቖም።', 'ንምሕላው', 'ንሸሞንተ', 'ደሞዝ', 'ሕሶት', 'ዝማዕበለ', 'ዝወዓለ', 'ንዝነበረት', 'ንኸይገሹ', 'ጁፒተር', 'ቁሸት', 'ስፖርተኛታት', 'ክመሓየሽ', 'ንህንዲ', 'ሴንትራል', 'ውፅኢቱ', 'ባህርይ', 'ተጋደልቲ', 'ከምዝኾነት', 'ብምትኳስ', 'ቀቲላ።', 'ሎስኣንጄልስ', 'መጠኑ', 'ኮማንዶ', 'ካሜሮን', 'ተብሂሉ', 'ንፌስቡክ', 'ከሰል', 'ዝሓትት', 'ኣማዞን', 'መርዛም', 'ምህናፅ', 'ኣጋጢሙ።', 'ብማዕበል', 'ዝተወሃበ', 'ሃፀይ', 'ዝፅዋዕን', 'ዝገዘፈ', 'ብጥይት', 'ባግዳድ', 'ኣብትርከብ', 'ቅናት', 'ብዓርሰ', 'ሺዓ', 'ዝርከብዎ', 'ጐብለል', 'ኣንዲ', 'ዎርልድ', 'ዕፅ', 'ዝጥቀሙሉ', 'ቡክ', 'መፍለዪ', 'ዝሓንፀፆ', 'ሜላ', 'ሬድዮ', 'ንምቅዋም', '86', 'ተገሚቱ።', 'ዝተመደበ', 'ምርጫ', 'ኮት', 'እቶ', 'ብዝትፈጠረ', 'ወለዶም', 'እንትገብር', 'ኢስተር', 'ኣይላንድ', 'ኳታር', 'ውዕሊ', 'ኦክሎሃማ', '1200', 'ቀሪቦም።', 'ሞይቶም፣', 'ዝነበረሉ', 'ብሓዊ', 'መቑሰልቲ', 'ዋጋታት', 'ጃማይካ', 'ብምጥቃዕ', 'ካፒቴን', 'መትኒ', 'ተመስሪቶም', 'ዝመስል', 'ተሃዋሲ', 'እናተነፀገ', 'ዝተረፉ', 'ምናልባት', '47', 'ክሪስማስ', 'ዝበፅሐን', 'ጀልባ', 'ዝህቦ', 'ስካይ', 'ብገዛ', 'ፍቓዱ', 'ኣቢላቶ', 'እንከሎ', 'ምሃብ፣', 'ወኪል', 'ኤስያ፣', 'ቀጠር', 'ኸሊፋ', 'ዝሓዙ', 'መግለጺ', 'ምግፋፍ', 'ዕጽፊ', 'ዝወሓደ', 'ኣታዊታት', 'ብምሕታት', 'ብፖሊስ', 'ዝኽእሉ', 'ባንክታት', 'ቀዋሚ', 'ካዝና', 'እንግሊዝ፣', 'ጆርጅ', 'ኣናእሽቱ', 'ብሪቲሽ', 'ኮሎምቢያ', 'እስራኤልን', 'ዘይቲ፣', 'ከምዝነበረ', 'ብዝተኻየደ', 'ሰልፍታት', 'ቀፂሎም', 'ብዝትኣሳሰረ', 'ኣስዒቡ', 'ዜጋታታ', 'ኣጠንቂቓ።', 'መግብን', 'መድሃኔታትን', 'ዝፈጠሮ', 'ኣቢላቶ።', 'ታይምስ', 'ጀርመን፣', 'ዝተባህለት', 'ህራም', 'ስዒሩ', 'ቶሆኩ', 'ሱናሚን', 'ሊቅ', 'ኣበርክቶ', 'ማይክሮሶፍት', 'መራብሒ', 'ናሕሲ', 'ስክዒት', 'ኣክሲዮን', 'ዓሳድ', 'ኩርዳውያን', 'ብቋንቋ', 'ንዝነበራ', 'ጀርሲ', 'ካርል', 'ዘቕረቦ', 'ብዘይምምልኡ', 'ፖል', 'ምግሃስ', 'ክፍፅሙ', 'ዝስዓበ', 'ሊበራል', 'ዴሞክራሲ', 'ስኮት', 'ቤዢንግ', 'ኣብዝርከብ', 'ኮር', 'ፍሹል', 'ጉቦ', 'መንእሰይ', 'ተወጊኡ', 'ንመራሒ', 'ብዕድመ', 'ወዱ', 'ኡን', 'ብሕጊ', 'ይካየድ', '3000', 'ትርብዒት', 'ሉዊዚያና', 'ፔሩ', 'እተካይዶ', 'ክሊንተን', 'ንግዚኡ', 'ኣቢላ።', 'ፍጻሜታት', 'ዳላስ', 'ማያሚ', '95', '93', 'ቡርኪና', 'ዝተሓተ', 'ቺለ፣', 'ተጉዓዝቲ', 'ኒውስ', 'ምምራሕ', 'እንከለዋ', 'ስእልታት', 'ወነንቲ', 'ቦንድ', 'ፍረ', 'ፀዊዑ።', 'ብምሉእ', 'ፕዮንግ', 'ቅውም', 'ፀብፂቡ', 'ወፃእተኛታትን', 'ጀሚረን።', 'መድሓኒታት', 'ኢንተርናሽናል', 'ብልሽውናን', 'ዝረኸበቶ', 'ተመሊሳ።', 'ዝወቅዐ', 'ውሑጅ', 'ሳን', 'ንምምፃእ', 'ዶን', 'ትሮፒካል', 'መጠንቐቕታ', 'ተዋሂቡ።', 'ሓምሻይ', 'ሆርሞን', 'ዝነውሐ', 'ንዓመታት', 'ንምምራሕ', 'ፈሪሙ።', 'ግብጻዊ', 'ኣሊዩ።', 'ብቐዳም', 'ኣንቢርዎ', 'ኣሎ፤', 'ሰራ', 'ሕተኛታት', 'ኣስክሬናት', 'ስዊዝ', 'ፈረንካ', 'ከምዝተለኸፉ', 'ቍጠባ', 'ንሞት', 'መደበራት', 'ይሰርሑ', 'ኮይነን', 'ብ2014', 'ተመሪፆም።', 'ንእሽተይ', 'ጨውዮም', 'ንዝበሎም', 'ይፍታሕ', 'ፈሪዱዎም።', 'ኮፕቲክ', 'ካይሮ', 'ማዕከን', 'ስጕምቲ', 'በለ', 'ኔዘርላንድስ', 'ፓናማ', 'ስዒራ', 'ንተቓውሞ', 'ዝወፁ', 'ንዝኾነ', 'ዓመት፣', 'ብሕቡራት', 'ተቐዳዳሚ', 'ማርኮ', 'ተቋሪፁ።', '53', 'ኣስከሬናት', 'ሜክሲካን', 'ሪቬይራ', 'ካሊፎርንያ፣', 'ኣሲሩ።', 'ምስተነከየ', 'ንዝሓለፉ', 'ዝኾኑን', 'ወሲዱ።', 'ሽግር', 'ሃዋይ', 'ፓስፊክ', 'ንድፊ', 'እግሪ፣', 'ማርሊንዝ', 'ስሙ', 'ኬፕ', 'ኤስያዊ', 'ተመሪጹ።', 'ዝምልከቱ', 'ብሮክሰል', 'ቀረጽ', 'ንክልተ', 'ምን', 'ታይዋን', 'ዝገበሩሉ', 'ኢት', 'ብወተሃደራት', 'ተጠርጢሮም', 'መንበሪኦም', 'ቦል', 'bcs', 'ኮንግሬስ', 'ክሕንፀፅ', 'ክቋረፅ', 'ምክትታል', 'ዶ', 'ር', 'ፆታ', '145', 'ሜይል', '41', 'ምርኣይ', 'መውፅኢ', 'ንምፅዳቕ', 'ግልፂን', 'ምእታዎም', 'ምርመራን', 'ንዝተጠርጠረ', 'ቑፅፅር', 'ብምቕያሩ', 'ሜርሴድስ', 'ጠቓሚ', 'ዶት', 'ንሕጊ', 'ቅዳሕ', 'ብዝቐረቦም', 'ቑልዕነት', 'ክትህብ', 'ዝቐርብ', 'ፒትስበርግ', 'ፔልሲልቬንያ', 'ኣእምሮን', 'ዌስተርን', 'ዕጡቕ', 'ንሸውዓተ', 'ዕቑባ', 'ተዛሪቡ።', 'ፊሸር', 'ኣብዝርከባ', 'ዝመሓደራ', 'መጥቃዕቶም', 'ባማኮ', 'ሎስ', 'ሂውስተን', 'ክቱር', 'ክሳራ', 'ላዕለዎት', 'ሱቕ', 'ዘይግቡእ', 'ዝፈጸመቶ', 'ቻይናውያን', 'ዶባት', 'ይርከባ።', 'ብወተሃደራዊ', 'ማኪና', 'ዕድሚኣ', 'ዝገበረት', 'ሞይታ።', 'ሱቺ', 'ምሻጥ', 'ቁፅፅርን', 'ግርጭታት', 'ብዘካየዶ', 'ዝረኣየሉ', 'ብቴሌቪዥን', 'ምስምዑ', 'ኣዲኡ', '153', 'ዘሳፈረት', 'ጸሓያዊ', 'በይነ', 'ነዳድን', 'ዝገዘፉ', 'ፖሎቲከኛታት', 'ደብሊዩ', 'ሓላዊ', 'ጭልው', 'እና', 'ዮሃንስ', 'ክርስቶስ', 'ምእተ', 'ብሳይንሳዊ', 'ኣሌክስ', 'ካናዳን', 'ቴሬሳ', 'ወካሊ', 'ብሙልኦም', 'ገበነኛ', 'ተፈሪዱዎም።', 'መዕለቢ', 'ኣፍሪካዊ', 'ደጊም', 'ሰንሰለታዊ', 'ሓንከብቲ', 'ሜ', 'ኣፍሪቃዊ', 'ድላሚኒ', 'ኣዶ', 'ብሪጣንያዊ', 'ትኬት', 'ርሒቖም', 'ምፅናሕ', 'ኤልዛቤት', 'ምንጭታት', 'ኦስካር', 'ጒያ', 'ሮቨር', '88', 'ደብሪ', 'ግብጺ', 'ዘውጽኦ', 'ንማእከላይ', 'ምምራጽ', 'ኣፕልን', 'ሰሳቶም', 'በይኑ።', 'መሓዛ', 'ዴኒስ', 'ኤንድ', 'ክዀና', 'ፓኪስታን፣', 'ብልሽውና', 'ምፍሻሉ', 'መማህራን', 'ኣንጎላ', 'ብምርካብ', 'ቡንን', 'ሻሂን', 'ማእኸላት', 'ተቓውሞታት', 'ኣቑሲሉ', 'መብራህቲ', 'ትነብር', 'ገዛፍ', 'ምህላዎም', 'ዝተባርዐ', 'ተራኺቦም።', 'ምምራዝ', 'ምትሕልላፍ', 'ዓቕሙ', 'ሙዚቀኛ', 'ዘስግእ', 'ዝተመረዘ', 'ዝስሙ', 'ፓውሎ', 'ኣሳሳዪ', 'ጥፍኣተኛ', 'ፈረቓን', 'ፈሪዱዎ።', 'ፊዚክስ', 'ምንጻል', 'ጥንሲ', 'ዝተፈለጠ', 'ብስነ', 'ንመፃረዪ', 'ዳካር', 'ዝተወልዐ', 'ዓንዩ።', 'ተልእኮ', 'ሒዛ', 'ሚኒስትርነት', '118', 'ቅትለትን', 'ገለጹ።', 'ኦልድ', 'ፈርጉሰን', 'ድምፃዊ', 'ዩኒቨርስቲታት', 'ክኾና', 'ዝተረጋገፀ', 'ሜርኩሪ', 'ሴሜናዊ', 'ዝተቐበረ', 'ስርሓ', 'ትቕጽል', 'ዓሚቚ', 'ኣዊጆም።', 'ኒዩክርሌር', 'ዞን', 'ንምቍጽጻር', 'ከምዝኸውን', 'ኤክስቼንጅ', 'ኢንተርኮንቲኔንታል', 'ንምዕቃብ', 'ዝገብሮ', 'ድሕነት', 'ኢለን።', 'ዝባን', 'ዝተገመቱን', 'ካናዳዊያን', 'መ', 'ንዝበሎ', 'ኣጠንቂቑ።', 'መዘናግዒ', 'ብ2001', 'ዝ', 'ቅነ', 'ናስካር', 'ጠቕላላ', 'ተረጋጊጹ።', 'ደህንነት', 'ተፈሪድዎ።', 'ምዝዛም', 'ኢዱ', 'ብዘርኣዮ', 'ሶፍትዌርን', 'ማዕቀብ', 'ፈቲኖም', 'ወኪላት', 'ዝሓበሮ', 'ዓይኒ', 'መዝነት', 'ብምጥያሽ', 'ኣመራርሓ', 'ዝበፅሓ', 'ስረ', 'ቴኒስ፣', 'ቼክን', 'ጠፊኡ', 'ብቀዳማይ', 'ዕድሚኦም', 'ዓሪፎም።', 'ብመጥባሕቲ', 'ካቶሊክ', 'ከምዘጋጠመ', 'ከምዝተትሓዙ', 'ኢጣልያ', 'ዘጋጠማ', 'ሃይድሮ', 'ወረዳ', 'ቀቲሎም።', 'ሕገመንግስታዊ', 'ዝተዓብለለ', 'ዋርየርስ', 'ምንባሩ', 'ለጂዮንየርስ', 'ኣሎ፣', 'ብቐጥታ', 'ደጉዓታት', 'ብሽክለታ', '110', 'ደገፍቱ', 'ፓሪስ', 'ዝጠሓሰ', 'ዘቕርቡ', 'ዝመደበሩ', 'ዓፅያ።', 'ቶኒ', 'ኣቶሚክ', 'ባህልን', 'ተጣባቒ', 'ምዃን', 'ድልውቲ', 'ደማስቆ', 'ንምድላው', 'ዒላማታት', 'ዕምቆት', 'ምሕንባስ', 'ሻርክ', 'ኣጸጋሚ', 'ዳግማይ', 'ንጡፍ', 'ኣምስተርዳም', 'ጎግ', 'ብረት', 'ኣፅዲቑ', 'ወላኳ', 'ምኽልካል', 'ጃካርታ', 'ሚያንማር', 'ዕስለ', 'ዝዕድሚአን', 'ኣመሪካውያን', 'ዲፕሎማሰኛታት', 'ንመሬት', 'ወቕዒ', 'ኣልምሲ', 'ቱኒዥያ', 'ንታ', 'ኣፍሪካ፣', 'ዝዓይነቱ', 'ጄኔቫ', 'ማቬን', 'ሻንጋይ', 'በፂሑ', 'ህንፃታት', 'ሃርቫርድ', 'እተኻየደ', 'ቦሊቪያ', 'ዩኒቲ', 'ከምዝረኸበን', 'ምርኩዝ', 'ሓንጐል', 'እናሃለወ', 'ብዝተፈፀመ', 'ኣልበርታ', 'ኣረጋጊጹ።', 'ተጻወትቲ', 'ዝኾነ፣', 'ንብርክት', 'ዝበላ', 'ንምእማን', 'ኣለው', 'ቅርፂታት', 'ኸተማ', 'ዝጀመሩ', 'ተሰጊኡ', 'ደራሁ', 'ኣዕዋፍ', 'ኣፀጋሚ', 'ከይህሉ', 'ሜተር', 'ርሒቓ', 'ሙምባይ', 'ሶርያን', 'ዕፅዋ', 'ዝተትሓዘት', 'ካናዳ፣', 'ታይዋንን', 'ዝጠንተወት', 'ብጌጋ', 'መጠይቕ', 'ስቶክሆልም', 'ቪላድሚር', 'ክምለሱ', 'ለቒቖም', 'ክወፁ', 'ሮኬታት', 'ፍልስጤም', 'ትጓዓዝ', 'ተቃውሞ', 'ሳንዲያጎ', 'ኦስቲን', 'ሩዋንዳ', 'ምፅናት', 'ዝዕቀን', 'ሱናሚ', 'ኣውፂኦም።', 'ህጻናት', 'ቀታሊ', 'ግዳያት', 'ተዘርጊሑ', 'ንዓሰርተ', 'ድምፂን', 'ምምላስ', 'ኣካይዱ።', 'ከጋጥም', 'ዝኸፍአ', 'ልኡል', 'ዓብዱል', 'ዓዚዝ', 'ዝተኣሳሰረ', 'ኽልተ', 'ንምምስራት', 'ምልባዕ', 'ምብራዕ', 'ውሑዳን', 'ክወሃቦም', 'ኣዊጃ።', 'ግብፅን', 'ይግበአኒ', 'ወጥሪ', 'ጉንበት', 'መልኸፍቲ', 'ሄራልድ', 'ባቡር', 'ሓላፊነት', 'ዝላዓሉ', 'ብሓገዝ', 'ብክልተ', 'ልእልትን', 'ኬምብሪጅ', 'ክላረንስ', 'ጉስጥን', 'ጆርናል', 'ሜዲስን', 'እተሓትመ', 'መርዝ', 'ኣጀንዳ', 'ጸጥታ', 'ንምዝታይ', 'ንወጻኢ', 'ኣሜሪካውያን', 'ዑፍ', 'ማኒላ', 'ተኣጊዶም።', 'ኵናት', 'መጥፍኢ', 'ግሪንላንድ', 'ሽኮርያ', 'ሒጃብ', 'መጓዓዝያ', 'ዒላማ', 'ይ', 'ኣካይዳ።', 'ኩርድ', 'ዝቐተለ', 'ኮንጎ', 'ተሽከርከርቲ', 'ዘዋስን', 'ቭላዲሜር', 'ቤላሩስ', 'ዘርጊሑ።', 'ብምቕዳም', 'መሓውራዊ', '6000', 'ከምዝተለመ', 'ክእሰሩ', 'ፋርማሲ', 'ትምባኾ', 'ማይክ', 'ክንኪ', 'ከሎ', 'ዝኸደ', 'ግዝኣታት', 'ካሽሚርን', 'ዝወቅዕ', 'ተካይዶ', 'ኣፅዲቑዎ።', 'ጥርጡራት', 'ብወፍሪ', 'በፂሓ።', 'ከምዝበፅሐ', 'ክረኽባ', 'ገጢምዎም', 'ሞሰርን', 'ሕክምናን', 'ካንሳስ', 'ን0', 'ምሕላፋ', 'ኣረጋጊፃ፤', 'ኣሲድ', 'ጽጥታ', 'እስራኤላዊ', 'ኣበራባሪ', 'ስፍራ', 'ንኹሎም', '43', 'ዝበሎም', 'ባዓልቲ', 'ትምህርቲ፣', 'ኣውቶቡሳት', 'ነቲጉ', 'ግሪስ', 'ኣጠቓላሊ', 'ሽቕለት', 'ሒዛ።', 'ረድኤትን', 'ንስደተኛታት', 'ጆርዳን', 'ብምብላፅ', 'ዝርከብዎም', 'ተቐርቒሮም።', 'ደይ', 'ዝተፈተነ', 'ሳእኒ', 'ብምውሳድ', 'ምፍታሕ', 'ዝተገበረን', 'ኬፕለር', 'ዝኽእላ', 'ከዋኽብቲ', 'ኣመሪካዊት', 'ንከተማ', 'ሞንታና', 'ደረት', 'መዐቀኒታት', 'ድረ', 'ጉጃራት', '130', 'ኣቕሪቦም', 'ከምዝዓቢ', 'ዝተጠቕዐት', 'ነይቸር', 'ዝተዘርገሑ', 'ንሃገራዊ', 'ውርሻ', 'ንምፍራይ', 'ዛዚማ።', 'ብሓንቲ', 'ዘኽእሎ', 'ቤንያሚን', 'ሓቲቶም።', 'ኣበሩ', 'ብሉ', 'ቤል', 'ኬንያዊ', 'ቱፋ', 'ብሉጻት', 'ነዳዲ፣', 'ካትማንዱ', 'ዘይፈልጥ', 'ምፍንጃር', 'ነታጕ', 'ዝፈሰሰ', 'ቴክሳስን', 'ሚግዌል', 'ሰርቫንቴስ', 'ዝተሰመየት', '45', 'ምትዕርራያት', 'ጥቕላል', 'ምዝርጋሕ', 'ጆንሰን', 'ብውሕድ', 'ስለዝተፈለጠ', 'ክልቲኡ', 'ዝተኣሳሰሩ', 'ተበጊሱ', 'ኣንፈት', 'ፈላሚት', 'ሶፍትዌር', 'ተክኖሎጂ', 'ኣመሓላሊፉ።', 'ማርቲን', 'መድረኻት', 'ምምርማር', 'ዘወርቲ', 'ተዓዊቱ፣', 'ጋንታኡ', 'ስዒራ።', 'ሳልቫዶር', 'ዝበለጸ', 'ሕፁይ', 'ዝፀንሑ', 'ኣቤ', 'ኢኮኖሚ', 'መራሕትን', 'ቅዱሳን', 'ፅምዲ', 'ኣክስዮን', 'ሴራልዮን', 'ማሲዶንያ', 'ምስሊ', 'ከልኪሎም።', 'ሄይቲ', 'ዝካየዱ', 'ዘሎን', 'ligo', 'ኢንክ።', 'ከይኣትው', 'ዝውሰድ', 'ቆላሕታ', 'ብፆታዊ', 'ከይኸውን', 'ንምፍላይ', 'ብኣልቃይዳ', 'ብውፅኢቱ', 'ዝርከበሉ', '68', 'ንምዝካር', 'ʼቲ', 'ካፒቶል', 'ምልከታ', 'ዝኣመሰለ', '39', 'ገሊፃ', 'ሕልፈት', 'ብውሑዱ', '1994', 'ርዋንዳ', 'ሚእቲ', 'ዝላበድ', 'ብምጥቃስ', 'ምትሓዝ', 'ውጽኢት', 'ኣርማ', 'ምፍላይ', 'ኢለ', 'ከምዝደልዩ', 'ክወዳደሩ', 'ይግባይ', 'ሙቐት', 'ጥርጣረታት', 'ኢድሊብ', 'ደቀንስትዮን', '33', 'ምኽልኻል', 'ከምዘቕርብ', 'ወሲኹ።', 'ብ30', 'ብመሳርሒ', 'ወሰናወሰን', 'ገባሪ', '1990', 'ኣቕሑ', 'ምግፋሕ', 'ኣጠንቒቑ።', 'ንምቅላስ', 'ከጠናኽሩ', 'ስርሒት', 'ዳግመ', 'ዓሶን', 'ዝተሓላለፉ', 'መርጀን', 'ሲሶ', 'ኣኽቢሩ።', 'ብቅትለት', 'ኣሕዋት', '99', 'ዩኤስ', 'ማዕድናት', 'ብምምርማር', 'ወሓደ', 'ክሳዕ', 'ሽቓቕ', 'ተሰይማ።', 'ብገምጋም', 'ጥሜት', 'የድልዮም', 'ተዋስኦ', 'ዝወሃብ', 'ስዒሩ።', 'መዓስከር', 'ንፈላማይ', 'ፎቶ', 'ንፁህ', 'ተፈንጂሩ', 'ዝተሃነፀ', 'ንዘካይድዎ', 'ክህቡ', 'ንክብሪ', 'ቺካጐ', 'ምርባሕ', 'ትሕዝቶኦም', 'ዝተስዓረ', 'ሓኾርቲ', 'ኤቨረስት', 'ብዝኸፈትዎ', 'ኣቐባሊ', 'ቓል', 'ብልዒ', 'ኣብዘለው', 'ናይʼቲ', 'ዘይብሉ', 'ንቁጠባ', 'ተገይሮም።', 'ሊዩ', 'ቮልቮ', 'ብምፍራይ', 'ጥንታዊት', 'ባዓቲ', 'ኢንቴርኔት', 'ማርያ', 'ግህሰት', 'ከምዝርከብ', 'ንኣስታት', 'ካንቲባ', 'መሐመድ', 'ሕጹይ', 'ብባይቶ', 'ሸታሕታ', 'ብትውልዲ', 'ዝናብን', 'ቶሮንቶ', 'ኣካላዊ', 'ደረፍቲ', 'ብኢ', 'ተባዕትዮን', 'ማዕቀባት', 'ተጓዓዝቲ', 'ሓዲግ', 'ንምቕፃል', 'ንዝቐረቡ', 'ብዝበሉ', 'ሱልጣን', 'በዓላት', 'ንሓሙሽተ', 'ጸረ', 'ባልዕ', 'ኣስተምህሮ', 'ፊላደልፍያ', 'ንምምላስ', '750', 'ሕትመት', 'ኣፍራዪ', 'ማይናማር', 'ንምግላጽ', 'ክልቴኦም', 'ፋይናንስ', 'ዝመጸ', '73', 'ኢሳያስ', 'ኣስመራ', 'ቖልዑ', 'ሓፍ', 'ክተካይድ', 'ክኽሰት', 'ገባራትን', 'እንስሳን', 'ዝካየደሉ', 'መሳለጥያታት', 'እንደገና', 'ኣወንጪፋ።', 'ኦስትሪያ', 'ካሪን', 'ሜዳልያ', 'ንምውፃእ', 'ምዕራባዊት', 'ቕትለትን', 'ንሙሉእ', 'ደራፊ', 'ኣዴታት', 'ምእታው', 'ኒሳን', 'ካርሎስ', 'ወይዘሮ', 'ሜላንያ', 'ዝሰገረ', 'ዓሰርተታት', 'ንከባቢያዊ', 'ከምዝግበር', 'ከምዝሃበ', 'ሳተላይታት፣', 'ዝተፈረዶ', 'ኤልቪስ', 'ካናዳዊ', 'ዝወሰደ', 'ምምሕዳራ', 'ወዲቑ', 'በዓልቲ', 'መሸፈኒ', 'እዛ', 'ኣባ', 'ጆርጅያ', 'ማስተርስ', 'ኸኣ', '2005', 'ቲክቶክ', 'ሓበሬታን', 'መደብራቶም', 'ብሳይክሎን', 'ዝገደደ', 'መፀዋዕታ', 'ተኻይዱ', 'ነፃነት', 'ምርኢትን', 'ብመገዲ', 'ብምብፅሑ', 'ዘጋጠሙ', 'ኤስን', 'ምውሳድ', 'ከምዝዓበየን', 'ብሰለስተ', 'ኳዕቲ', 'ዘመነ', 'ዋንግ', 'ካሜሩን', 'ተኲሲ', 'ንሰበ', 'ኩዌይት', 'ክትሰርሕ', 'ንፋስ', 'ብወገና', 'ዕረፍቲ', 'ደቅሰባት', 'ሓርነት', 'ስርዓተ', 'ጽልዋ', 'ሓገዝን', '64', 'ንመዓልቲ', 'እዩ፣', 'ዝግበረሉ', 'ፀቕጢ', 'ስፖርታዊ', 'ፕሬስ', 'ሆስፒታላት', 'መኽዝን', 'ሜዲትራኒያን', 'መዓልታዊ', 'ሰራሕተኛታትን', 'ምዕራፉ', 'ስሎቬኒያ', 'ሚያዝያ', 'ንፅዋዕ', 'ስታንሌይ', 'ዘካየደ', 'ግጉይ', '92', 'ካናቢስ', 'ለኸ', 'ከምዝተትሓዘ', 'ቼክ', 'ብበዝሒ', 'ኮሶቮ', 'መምርሒታትን', 'ኣጠቓቕማን', 'ኣፅዋራት', 'መፍትሒ', 'ዝውዕልን', 'ባንዴራ', 'ብኣስገዳድ', 'ኣመዝጊባ።', 'ዝፈጥርን', 'ቤቲንግ', 'ክኽፈል', 'ምዕዋት', 'መራኸቢ', 'ኣመዝጋቢት', 'ፀላም', 'ክትመርሕ', 'ብሰኑይ', 'ሳህለ', 'ወርቅ', 'ዝተኻየደን', 'ዝተሳተፉ', 'ሜዳሊያታት', 'ወርቂ፣', 'ጽርጊያ', 'ረዘነ', 'ከምዝተሰየመ', 'እዩክብል', 'ብሩር', 'ተተካእቲ', 'ኣመዝጊባ', 'ከበደን', 'ዱባይ', 'ንኽልቲኦም', 'ብመቑሕ', 'ዝተኣሰሩ', 'እንተብርህ', 'ቖርበት', 'ጋማ', 'ዝቐርብ።', 'መስፍንን', 'ዙፋን', 'ጐንደር', 'ጐጃምን', 'ንሕንሕ', 'ተዛሚዱ', 'ሰኣሊን', 'ፋኑኤል', 'ጀምበር', 'ስነጥበብን', 'ዲዛይነርን', 'ከፊቱ', 'ንምፅናዕ', 'ጀጋኑ', 'ይሰርሕ', 'እንዳ', 'ሳክስፎን', 'ስራሕቱ', 'ያሬድ', 'በርሀን', 'ቅድስት', 'ካቴድራል', 'ወኪላ', 'ሰሪሓ', 'ሃብ', 'ከማልኡ', 'ኣገላልፃ', 'ስነጥበባዊያን', 'ይሰማምዑ።', 'ምምፅኡ', 'ቆልዑት', 'ትርከብ', 'ታሪኻዊት', 'ኣኽሱም', 'ኣኽብሮት', 'ዘድልያ', 'ክምዝገብ', 'ወጋሕታ', 'ሓሰር', 'ብዘየገድስ', 'ካርዲናል', 'እንተኽብሩ', 'ይግባእ', 'ወሲኾም', 'ይግባእ።', 'ገዳ', 'ማሕበረ', 'ትግራይ፣', 'ኣምሓራ፣', 'ዘተኣማምን', 'ፍታሕ', 'ተናዊሑ', 'ኣፈ', 'ህዳሰ', 'ምትፍናን', 'ሹመት', 'ቤተመንግስቲ', 'ሃይለማርያም', 'ደሳለኝ', 'ንሕቶ', 'ስምኦን', 'ዝተቐበሎ', 'ዝዝከር', 'ሰማያዊ', 'ዝተኻየደሉ', 'ኮምሽን', 'ዲያስፖራን', 'ዝንውሓቱ', 'ንዝህሉ', 'ዘስምዕዎ', 'ንምፍጣር', 'በብግዚኡ', 'ንብረትን', 'ምሕንፃፅ', 'ትልሚን', 'ዘፈራት', 'ምኻኖም', 'ዝተልኣኸ', 'ብርቱዕን', 'ሬድዋን', 'ቅድሚት', 'ዝተዋደደ', 'ኣማኸርቲን', 'ውዳበታትን', 'ትካላዊ', 'ቆጽለዋይ', 'ምብራስ', 'ንምንካይን', 'ሚድሮክ', 'ምቕያር', 'ዝተፈቐደሉ', 'ንምትካል', 'ከምዝበሎ፣', 'ዝተዋፈሩ', 'ደረቕ', 'ዘተኮሩ', 'ዝዝቲ', 'ኣድማዒ', 'ኦንላይን', 'ወፍሪታት', 'ብመሰረቱ', 'ቅሩብነት', 'ብቴክኖሎጂ', 'ፈሳሲ', 'ክሮም', 'መብዛሕቲኦም', 'ጨው፣', 'ሃይለሚካኤል', 'ብሳላ', 'ተፈጢሩ', 'ኣድፓወር', 'ሓፂንን', 'ምስትምሃር', 'ዘቕርብ', 'ዝሰፈሩ', 'ንቅዋም', 'ታምሩ', 'ፍፁም', 'ኣረጋ', 'ምምሕያሻት', 'ዝምቹ', 'ንዓና', 'ኣዝዮም', 'ብቕዓትን', 'ምምፃእ', 'ዘኽእላ', 'ካሳሁን', 'ደቀቕቲን', 'ሳምሰንግ', 'ተመሊሱ', 'ከገልግል', 'ኣገባባት', 'ምግባር፣', 'ሜላታት', 'ሞያዊ', 'ምሕጋዝ', 'ሆልዲንግስ', 'ጄይ', 'ዝተኻየዱ', 'ሕሙማት', 'ገሊጾም።', 'ሃይል', 'ኣባተ', 'መንግስታትን', 'ሰለሞን', 'ንዓሶ', 'ንዋልታ', 'ጥዕናዊ', 'ዝጠመተ', 'ይበልጣል', 'ዘምለጡ', 'ብምስራሕ', 'ኤይድ', 'ኢንሹራንስ', 'ዝኾኑሉ', 'ወሃብቲ', 'ኣማን', '72', 'ሮባ', 'ኣብ’ዚ', 'ገብረስላሴ', 'ክወዳደር', 'ንኣፍሪካ', 'ድርብ', 'ብሉፃት', 'ክሳተፋ', 'ሓላፊት', 'ኮቪድ፡19', 'ማእኸላይን', 'ብ29', 'ብ2019', 'ሳፋየር', 'ከምዝውዕል', 'ኣምፓሮ', 'ዳንኤል', 'ቅኑዕ', 'ፈጠራን', 'ኣቕርቦት', 'ምሸት', 'ገዘፍቲ', 'ክኣትዋ', 'ተጣይሹ', '4ጂ', 'ምምሕያሽን', 'ንምዝዛም', 'ከምዝሰርሕ', 'ናብተን', 'ንምድልዳል', 'ሽኮር', 'ፈትልታትን', 'ዘፍርይ', 'ዝሕግዙ', 'ተራእዮም', 'ኣምሓራ', 'ኣበረ', 'ክወስድ', 'ኣለዎ”', 'ብምግላፅ', 'ተገኔ', 'ጌታነህ', 'ምልቃቕ', 'ፎረም', 'ክዝትዩ', 'ኣብዝሃብዎ', 'ግዚኡ', 'ዝተዋፅኡ', 'ተመስሪቱ።', 'ዘስምዑ', 'ሙፍቲ', 'ናይዝግበር', 'ዞባዊ', 'ተፋሰስ', 'ከምዝገለፅዎ፣', 'ንሃገራት', 'ቃለመጠይቕ', 'ድርቅን', 'ዕግርግርን', 'ዝተተለመ', 'ንምንጋፍ', 'ኣሕመድን', 'ብምውጋድ', 'ነፃ', 'ምጉሕጓሕ', 'መሬትን', 'ሓመድን', 'ምኽታል', 'ኣብዝተዳለወ', 'ኣግራብን', 'ዕቀባን', 'ኬንያ፣', 'የድልዮ', 'ኖኪያ', 'ቴክኒክ', 'ንምቕራብን', 'ምዕባለን', 'ዝምጥን', 'እዋናዊ', 'ቴክኒካዊን', 'ላብስ', 'ሶፊያ', 'ተዓፃፃፊት', 'ፐርዱ', 'ዘበርከቶ', 'ዌስት', 'ማርታ', 'ነቐርሳ', 'ኮሚኒኬሽን', 'ዝተሓንፀፀ', 'ባዩ', 'ኩባንያታትን', 'ፕሬዝደንት', 'ጥሙር', 'ተዋልዶ', 'ኬሚካላትን', 'ኣምቡላንሳት', 'ድኽነት', 'ምንፃግ', 'እናተገምገመ', 'ብብዓል', 'ምግቢ፣', 'ልምዓታዊ', 'ዛዚሙ።', 'ፈንድ', 'ስነተዋልዶ', '2021ዓ', 'ዩጋንዳን', '65', 'ኣንትሪም', 'ክካየዱ', 'ዘተኣናግድ', 'እንደርታ', 'ወሳኒት', 'ሃገሩ', 'ዝግበረሎም', 'ዛዕባ', 'ከበደ', 'ሓቢሩ', 'ሚኒስቴራት', 'ሜዳልያታት', 'ኣዋሃሂዱ', 'እናቕረበ', 'ፅምብል', 'ፊልሚታት', 'ዝፍነው', 'ንማሕበራዊ', 'ደረጃን', 'ንዝኾኑ', 'ንምንታይ', 'እንጠጦ', 'እፅዋትን', 'እንስሳትን', 'ብስፍሓት', 'ላፍቶ', 'ተፈታዊ', 'ቃና', 'እናፍረየ', 'ብባህላዊ', 'ባዕቲ', 'ኢፒክ', 'ኦክሬ', 'ኣእማን', 'ስብርባር', 'ሙዝየም', 'ፔሬግሪኔት', 'ኣፍቀርቲ', 'ቐዳም', 'ዝረአ', 'ሀገርን', 'ትርጉም', 'በቈል', 'ምንቅስቓሳት', 'ፍቅሩ', 'ክፍላተ', 'ፀኒሑ።', 'ብመንፅር', 'ክፈጥር', 'ትኩስ', 'ተጠቒምካ', 'ፀጉርኻ', 'ቅጥዒ', 'ዝቕበሎ', 'ኣባባ', 'ዓመቶም', 'ኢሎምዎ።', 'መምህር', 'ስኬት', 'እዮብ', 'ብጥበብ', 'ሴክተር', 'ጅቡቲ', 'ተደሚሩ', 'ባሕርን', 'ክዓብይን', 'ኣቢልካ', 'ጁን', 'ሻንግቴክስ', 'ኢንቨስት', 'ዘትየን።', 'ናውትን', 'ያማሞቶ', 'ኢንቨስተራት', 'ዝተጠቐሰ', 'ምፍራቕ', 'ግቡእ', 'ብሩህ', 'ምምስራት', 'ንዝተፈላለዩ', 'ንምቅላል', 'ፕሮጀክታት', 'ዝርገሐ', 'ዘትዮም።', 'ኣቕሪቦም።', 'ኣማኻሪት', 'ማለት’ውን', 'ጣብያታት', 'ይርከብዎም።', '5ይ', 'ንምሕዋይን', 'ፃዕርታት', 'ሽርክና', 'ብንጥፈት', 'ለውጥን', 'ምውጋድን', 'መስተን', 'ክውዳእ', 'እዩ፤', 'ክፍልታት', 'ዕስለታት', 'ጥቕሚ', 'ኢንዱስትሪያዊ', 'ድልዱል', 'ዝትከሉ', 'ዕደ', 'ጂፒ', 'ሃንሰን', 'ንምስጣም', 'ተሓጋጋዚ', 'ንጉሆ', 'ክተኣታቶ', 'ዘተባብዕን', 'ሊዮ', 'ተሾመ', 'ከጎልብትኦ', 'ዘንብርን', 'ግልጋሎትን', 'ንምጥንኻርን', 'ስጉምቲታት', 'ፃውዒት', 'ንሰብ', 'ብ2011ዓ', 'ስለዝዓበየ', 'ኣመስጊኑ።', 'ደመቀ', 'መኮነንን', 'ኣሚር', 'ኣማንን', 'እምነ', 'ኩርናዕ', 'ዝህነፅ', 'ፀጋይ', '1500', 'ንዘመዝገበቶ', 'ኣትሌት', 'ኣለሙ', 'ጁላይ', 'ጎደናታት', 'ዕድመን', 'ጎየይቲ', 'ሓሊፋ።', 'ኣሸር', 'ቕነ', 'ማስተር', 'ደቅተባዕትዮ', 'ኰይኑ።', 'ፕሪምየር', 'ከነማ', 'ሆሳእና', 'ብዘእተዋ', 'ተቐይሩ', 'ብዘይምኽኣሉ', 'ኣቢላ', 'መፃረዪ', '2022', 'ብሩስ', 'ክትገብር', 'ዋልያ', 'ምምዝጋብ', 'ምህዞታት', 'ዝጎየየት', 'ተወዳደርቲ', 'ብምጉያይ', '03', 'ተፈቒዱ', 'ኣሸብር', 'ዮናስ', 'ብ2004', 'ብ2008', 'ስርሐይ', 'ብ4', 'ብማእኸላይ', 'ብ2018', 'ኰይና።', 'ስነጥበብ', 'ዘርእስቱን', 'ብዓርቢ', 'ሓቢኡ', '1937', 'ኣቕሪብዎ', 'ዞባዊን', 'ናሁ', 'ነፍስሄር', 'ታሪክ', 'ክኢሉ', 'ምድላዋቶም', 'ወጊኖም', 'ቾይዝ', 'መሰረተ', 'ንመሃዝቲ', 'ህዝቢታትን', 'ሳዕስዒትን', 'ካ', 'ንዝገበርዎ', 'ብዩኔስኮ', 'እናተሳለጠ', 'ፋሽንን', 'ደሚቑ', 'ካናል', 'ንትሕዝቶ', 'ኦቢኤን', 'ዓይነታዊ', 'ሃይማኖት፣', 'ሳት', 'ጣቢያታት', 'ኩቱ', 'ዘይምህላዉ', 'ዘትርፍ', 'ኩሽኔታ', 'ብኣብነት', 'ስጉሚ', 'ፎሾ', 'እንዳለ', 'ንሕና', 'ዘለና', 'ምስፀደቐ', 'ይካየዱ', 'ዝከኣለሎም', '120', 'ንዝተሓላለፈ', 'ዘዘኻኸሩ', 'መመሓየሺ', 'ሕገመንግስቲ', 'ክውሰኽ', 'ስለሺ', 'ምትሕብባርን', 'ንምውሓስ', 'እንትዀኑ', 'ንበረኽቲ', 'ዞብል', 'ንኣርጆ፣', 'ፎኪሳን', 'ቦረንን', 'ኣገደሽቲ', 'ተቈፃፂሮም።', 'ዝተወጠነ', 'ሜጋዋት', 'ምስተሃነፀ', 'ክፍፅም', 'ኮምቦልቻ', 'መኽዘኑ', 'ስለዝወረሩ', 'ከምዘቋረፀ', 'ምግላፁ፣', 'መዓዝ', 'ክመፅእ', 'ሙዚቃዊ', 'ተዓፊኑ', 'ከምዝብለኦ', 'ኣንቃሕቲ', 'ቂሊንቶ', 'ፅሕፈቱ', 'ብዝተፈጠረ', 'መንቀሊ', 'ምኽንያታት', 'ቓልሲ', 'ክርዳእን', 'ክቕፅለሉን', 'ኣተሓሳሲቡ።', 'ን6', 'ንዶክተር', 'ደብረፅዮን', 'ምርግጋእን', 'ኢኳቶርያል', 'ኣገልግሎትን', 'ፓስፖርትታት', 'ንዝሓዙ', 'ዜጋታተን', 'ቪዛ', 'ሃገራተን', 'ጋምቤላ', 'እንኳዕ', 'ኮንትራክሽን', 'ታከለ', 'ኡማ', 'እንትነፃፀር', 'ንሃገር', 'ተመሪቑ', 'ዝካየደሎም', 'ካብዚ', 'ክሽየጡ', 'ኣሳታፊን', 'ዕላምኡ', 'ሸርፊ', 'ንዝገብርዎ', 'ፖሊሲን', 'ንኢንቨስትመንት', 'ኢንዳስትሪያል', 'ምድላዋቱ', 'ምውሳኽ', 'ኮርፖሬሽንን', 'ጅቡቲን', 'ምቁፅፃር', 'ንምትብባዕ', 'ካዳስተር', 'ዓረብ፣', 'ጃፓን፣', 'ኖርወይ፣', 'ትንበያ', 'ብ8', 'ክትዓቢ', 'ማሕበርን', 'ብ21', 'ብግንቦት', 'ዘይኮኑ', 'እኽሊታት', 'ቅብኣትን', 'ዘርኢታት', 'ዓተርን', 'ሙሉጌታ', 'ብ26', 'ውህሉል', 'ንምድኻም', 'ተደጋጋሚ', 'ዝዋግኦም', 'ንሽዑ', 'ኣባይነህ', 'ስሪ', 'ጨንፈር', 'እንትኾነት', 'ቁጠባን', 'ንምትግባር', 'ምዕራፍ፣', 'ዝራኣት', 'ክሕፈስ', 'ምረቓ', 'ኦሮሚያን', 'ብትካል', 'ልሙዕ', 'ዝተፈለዩ', 'ብሄር፣', 'ሰብን', 'መሬት፣', 'ፈተናታትን', 'ኣተኹሩ', 'ዓውደ', 'ዓለም፣', 'ክዕፀዉ', 'ዝሕግዝን', 'ቴሪ', 'ታንታለም', 'ጥላሁን', 'ከምዘብርሆ', 'ቦረና', 'ዞባታት', 'ጉጂ፣', 'ባሌን', 'ሃረርጌን', 'ሓሸዋ', 'ንሓረስቶት', 'ኣዝርእቲ', 'ባፅሓት', 'ኣሕመዲን', 'ዝዀነን', 'ንዝተዋፅኡ', 'ሰገናትን', 'ኢንሳ', 'ፈጠራ', 'ተኸፊቱ።', 'ጂዲ', 'መዳያት', 'ብምትእትታው', 'ዝውነን', 'ህዋን', 'ገብረማርያም', 'ነጋሽ', 'መሃንዲሳት', 'ኮይካ', 'ሃገርለኸ', 'ስሉጥ', 'ሳይበርን', 'ስርዓትን', 'ንዓውዲ', 'ብርሕቐት', 'እተተሓላልፍ', 'ዝፍፀም', 'ንዘጋጥም', 'ዕዳጋታት', 'ዘፍረይዎ', 'ጥንቓቐ', 'ዝግበኦም', 'ጥንቓቐታት', 'ብምትግባር', 'ኣኼባታት', 'ዝሓለፎም', 'ምግቢታትን', 'ሄርባል', 'ኮልጌት', 'ዴንት', 'ሕማማትን', 'ዝተረኸበት', 'ብሃገር', 'ዝተውሃቡ', 'ሆስፒታላትን', 'መሪሕነት', '19፣', 'ሕማምን', 'ዝተመግደሩ', 'ቁጠባዊን', 'ጌድኦ', 'ነዊሕን', 'ምምዕባል', 'ምክረ', 'ከሰተብርሃን', 'ዝህብን', 'ብመደብ', 'ዝተፈለየ', 'ብዘደንግፅ', 'ኣለምፀሃይ', 'ክፍተት', 'ዘሕለፍዎ', 'ኣንዋር', 'ገዛን', 'ውቁር', 'ላሊበላ', 'ሕድሳት', 'መንፈሳዊ', 'ደገን', 'ዘዕቢ፣', 'ዝምዘዙ', 'ራፐራት', 'ድንኳን', 'ጳጉሜን', 'ሽርሽር', 'ዒድ', 'ኣድሃ', 'ሃይማኖትን', 'ካህናትን', 'ንዝተተኮሱ', 'ሚሳይላትን', 'ሞርታርን', 'መተሓላለፍታት', 'ፈንዩ።', 'ብህላወ', 'ዘይትኣምን', 'ኣየርላንድ፣', 'ክርስቶስ፣', 'መሓመድ፣', 'ሳልማን', 'ሩሽዲ፣', 'ትዌይንን', 'ሊቀጳጳስ', 'ቤኔዲክት', 'ሽድሽተን', 'ምሕታም', 'እንተሃለወ’ኳ', 'ኮነይ', 'ገፃ', 'ከምዝጠቀዐት', 'ግብፃዊያን', 'ሳኳራ', 'ኔክሮፖሊስ', 'ሻንሺ', 'ዲዝል', 'ላሓዀ', 'ንዝቝጸሩ', 'ፈለግ', 'ሰቪላዊ', 'መፈተኒ', 'ዝተኸለቶ', 'ተተኳሲ፣', 'ዳብለን', 'ዶርሰት', 'ቦምባ', 'ተተኺሉ', 'ምህላው', 'እትወስደሉ', 'ኣሚና።', 'ንዝመሃሩ', 'ህንዳውያን', 'ዩኒቨረሲቲ', 'ኣተሓላሊፉ።', 'ሴኩባ', 'ኮናቴ', 'ስለዝሓመመ', 'ንሕክምና', 'በሪሩ።', 'ጃኮብ', 'ምስረታ', 'ኣብዝተፀወዐ', 'ኣብዝገበርዎ', 'ፓርቲኦም', 'ከርእይ', 'ዝፀውዑ', 'ክድንጉይ', 'ኣጠንቂቖም።', 'ኮንፌደሬሽን', 'ካቢንዳ', 'ከቕፅል', 'ኤውሮጳ፣', 'ቮልፍጋንግ', 'ዎዳርግ፣', 'ብ2009', 'ንምሻጥ', 'ብኢንዱስትሪ', 'መድሃኒት', 'ዝተቃመመ', 'ታክሲን', 'ተኣኪቦም።', 'ፒራሚዳት', 'ብጊላታት', 'እንተይኮኑስ', 'ብናጻ', 'ዝተሃንጹ', 'ንዝበል', 'ዘጠናኽሩ', 'ዝዓትዐተ', 'ሃሩር', '፤ኣውስትራሊያ', '1902', 'ርእያቶ', 'ዘይትፈልጥ', 'ዝወዓየ', 'ጀነራላት', 'ብ2003', 'ተሳቲፎም', 'ንዝተብሃሉ', 'ኣውዒሉ።', 'ኣልቃይዳን', 'ኦሳማ', 'ላደን', 'ኣዛዚ', 'ያዚድ', 'ብሚያዝያ', 'ገጢምዋ', 'ዝተሓምሸሸትን', 'ዘሳፈረቶም', 'ስልጣንንን', 'ምሁራትን', 'ዘስዓበትን', 'tu', '154', 'ዝዓይነታ', 'መቅረፂ', 'መረዳእትኣ', 'ዘርጊሓቶ።', 'ቢፒ', 'ብኦባማ', 'ከይተነገረንን', 'ከይፈቐዳን', 'መፍረዪአን', 'ዝሰኣና', 'ሰለሰተ', 'ናሚብያውያን', 'ደቂኣነስትዮ', 'ከሲሰን', 'ኮርያውያን', 'ተቓዋሚ፣', 'ሆዋንግ', 'ጃንግ', 'ዩፕ', 'ኣቲዮም።', 'ባዕዳዊ', 'ፊንላንድ', 'ንህንጸት', 'ኑክለራዊ', 'ጋቦን', 'ፍራንሲቫይል', 'ክዋኽብቲ', 'ኮኾቡ', 'ዝዘውር', 'ንዑኡ', 'ንመረፃ', 'ኣብዝሓ', 'ስለዘየለ', 'ንምምራፅ', 'ፈሺሉ።', 'ግሪኻውያን', 'ጽዕነት', 'ዝጀመሩዎ', 'ብቅልጡፍ', 'ፌሊፕ', 'ካልዴሮን', 'ፀዊዑ', 'ኢሌና', 'ካጋን', 'ዝሓዛ', 'ራብዐይቲ', 'ፈፂመን።', 'ኣፉ', 'ከምዝደመየ', 'ኣምሲሉ', 'ክቕየር', 'ዩንየን', 'ሸፈጥ', 'ተዋሳኢ', 'ዌንዲይ', 'ሻፕማን', 'ዝስየም', 'ዲስፕሊን', 'ተፀዊዑ።', 'ብቱርካውያን', 'ቢሮክራታውያን', 'ቆይማ።', 'ምሞንጎ', 'ሃገሮምን', 'ናይዘሎ', 'ደሞክራሲያዊያንን', 'ዴሞክራሲያዊያንን', 'ዝተብሃላ', 'ሰልፊታት', 'ንምግጣም', 'ክተሓዋወሳ', 'ከረጢታት', 'ብነፃ', 'ንዝዕድሉ', 'ድኳናት', 'ዝቐፅዕ', 'ኣውስትራልያዊት', 'ሓምበሲት', 'ዳውን', 'ፍሬዠር', 'ጽወታታት', 'ኣካታዒ', 'ነቐፈታታት', 'ከጋጥማ', 'ሰራተኛታት', 'ዛዚሞም', 'ቤኒን', 'ቦኒ', 'ያዪ', 'ኢዶም', 'ኣለዎም’ዩ', 'ክኽሰሱ', 'ዳንኤላ', 'ኦስትሬልያን', 'ወይኒ', 'ሻምፓኝን', 'ፖርትን', 'ከይሽየጥ', 'ኣቢልዎ።', 'ባኒ', 'ከምትመልሶ', 'እትዋጠጠለን', 'ፒናክል', 'ጃልባ', 'ዘፋፊት', 'ኣውዒላ።', 'ታይዋናውያን', 'ኣዊጀን።', 'ብ1963', 'ቀሪባን', 'ዓብያን', 'ዝተርኣየትሉ', 'ንዳሓር', 'ቅጺላ', 'ምዝውዋር', 'ንምፅራይ', 'ሒሳብ', 'ንዝኣተወ', 'ሒዞም።', 'ኩነታታ', 'ሚኖሶታ', 'ቲዊንስ', 'ተዓዊቱ፤', 'ቢኖ', 'ቀረፃታቱ', 'ክጥቀም', 'ንምዕራብ', 'ዋርዳክ', 'ታሊባንን', 'ንኣዛዚኦም', 'ዝተጠርጠረት', 'ሚር', 'ኹሻሊ', 'ኣብትበሃል', 'ሚሳይላት', '45oc', '113f', 'በኣ', 'ዝዓገቱዎም', 'ተለቒቖም።', 'ምጥፉእ', 'ኮሮ', 'ግሪንፒስ', 'ከቋርጽ', 'ክታም', 'ዝሓዘለ', 'ደብዳበ', 'ልኢኻ።', 'ዝተናውሐ', 'ክትእውጅ', 'ዝኣወጀ፣', 'ብሰፊሑ', 'ዝዝውተር', 'ከሚካል', 'ክገትኦ', 'ክእግዶ', 'ሜጊ', 'ዝደየበ', 'ሉዞን', 'ንተኸታተልቲ', 'ወቒዑ።', 'ኣይሁዳውያን', 'ሰፈርቲ', 'ሰሌዳ', 'ካብዝሓልፍ', 'መንታዋይ', 'ሱማትራ', 'ክትጥቃዕ', 'ከምትኽእል', 'የብሉን', 'ኤክስሙር', 'ዓጋዘን', 'በለድ', 'ንዝተዓጠቖ', 'ብምፍንጃር', 'በራሚል', 'ምንስፋፍ', 'ኣይሮንዝ', 'ዓሪፉ፣', 'ኤሶ', 'ተሳቐዩ', 'ተቖፃፀርቲ', 'ቲጇና', 'ኦታይ', 'ሜሳ', 'ዝወስድ', 'ዝተሓላለኸ', 'መተሓላለፊ', 'ሃዲኑ', 'ከይሰርሑ', 'ቅኑዓት', 'ገፃት’ውን', 'ከምዝለከሞም', 'ብሕክምናዊ', 'ላንሴት', 'ኩላሊት', 'ዝበጽሓ', 'ሓጸርቲ', 'ምውህሃድ', 'ጸቕጢ', 'መድሕን', 'ንዝተሓንፀፀ', 'ንማሕበር', 'ቻምበር', 'khoratosuchus', 'jintasakuli', 'ሓርገጽ', 'ክልለ', 'ተኻኢሉ።', 'ኣትኸክቲ', 'ዝማቐልዎ', 'እብረ', 'ምጽናሖም', 'ዲቭዋር', 'ሎረን', 'ጋባግቦ', 'ብምውቅዑ', 'ዛሕሊ', '፤ብሰንኩ', 'ቅልቅላው', 'ንደቂ', 'ኣባት', 'ብሓይሊ', 'ክንቀሉ', '125', 'ብምፍርራሙ', 'ማልያኡ', 'ምልክታ', 'ንዘይምግባር', 'ን111', 'ዓቂብዎ', 'እምቢታኡ', 'ኣፍሪስዎ።', 'ስቓይ', 'ንዝርቡ', 'ንምቕታል', 'ብዝጠቅም', 'ፔንቶባርቢታል', 'መውጋእቲ', 'ብምቕታል', 'መደቡ', 'ጨጌሬታትን', 'ዓይነታትን', 'ፍጥረታት', 'ሱርጉት', 'ብምንታጓ', 'ይዕዋፍ', 'ዘይፍለ', 'ፍጻሜ፣', '100000', 'ድራም', 'ይምርምሩ', 'ቱኒዝያዊ', 'ንነብሱ', 'ኣቃጺሉ', 'ብዝወረዶ', 'ሂወቱ', 'ዝሰኣነ', 'ኣድማታት', 'ተኣጒዱ።', 'ውድደር', 'ክትእንግድ', 'ሃምማም', 'ሃለኽቲ', 'ነኪዩ', 'ዘለዓዓሉ', 'ዝቀጽዖም', 'ተመባጺዑ።', 'ኣርጄንቲናዊ', 'ሊዮኔል', 'ሜሲ', 'ባሎንዶር', 'ፔድሮ', 'ካይስ', 'ትዘፍፍ', 'ሆንድራ', 'ቀቲሎምን', 'ኣቑሲሎምን።', 'ኣርተሚሲኒን', 'ተጻዋሪ', 'ኣውጺኡ።', 'ስክራፒይ', 'በጊዕ', 'ዘካየድዎ', 'እንስሳት፤', 'ፕራዮን', 'ከምዝመሓላለፍ', 'በረኻታት', 'ንምንፃር', 'ብዓብይኡ', 'ክውስኽ', 'ብጋሎን', 'ሳምዋ', 'ህዝባውን', 'ውልቃውን', 'ዕፅው', 'ከይትኸኽ', 'ዘስዓበን', 'ከምዝተገበረ', 'ኣፃራዪ', 'ቢቢሲ', 'ብሓሙሽተ', 'ክዓፁ', '650', 'ስርሖም', 'ክስእኑ', 'ኣቕራቢ', 'ሪቻርድ', 'ኬይስ', 'ሲያን', 'ማሴይ', 'ብዝሃቦም', 'ርእይቶታት', 'ሊቒቑ', 'ፍሊስጤም', 'ኣላ፣', 'ንፍሊስጤም', 'ፍሊስጤምዊ', 'ትኬታት', 'ዘርሓቐቶም', 'ዝሃቡዎ', 'ዝጸብጸቦ', 'ብ75', 'ይዛይድ፣', 'ምዝመዛ', 'እተሓስበ', 'ነባራት', 'ብፅሒት', 'ዘመናዊ', 'ተቓውም', 'ብምክያዶም', 'ተባሪሮም', 'ጎግል', 'ዝቆፃፀሮም', 'ግብፂ፣', 'ናይዝሞቱ', 'ኣታሒቶም', 'ክገልፁ', 'ከምዝተኣዘዙ', 'ተማጓቲ', 'መኽሰባት', 'ዝኸውን፣', 'ኦዝቦርን', 'ላንግሌ', 'ዝተልዓላ', 'እናሃለዋ', 'ሚሸን', 'ብምልታመን', 'ብመሰረታዊ', 'ዝተመዛበላ', 'ስድራቤታት', 'ንምጥርናፍ', 'ክትቅጽል', 'ተሰማሚዓ።', 'ንኣሜሪካን', 'ዘይብላ', 'ከምትምስረት', 'ኣሕመዲነጃን', 'ዲፕ', 'ዎተር', 'ሆራይዘን', 'ኣቐዲምካ', 'ይከኣል', 'ዘይምርግጋእ', 'ዜን', 'ኣልዓብዲን', 'መዘነቶም', 'ንምውራድ', 'ተኸሲቱ።', 'ዘረፋ', 'ዝስምዑሉ', 'ፖለቲካውን', 'ቁጠባውን', 'ዝሓቱ', 'ኣሪዞና', 'ቱክሳን', 'ጃሬድ', 'ሊ', 'ለውግነር', '49', 'ሸበራዊ', 'ንጥፈታትን', 'ቅልውሉዋትን', 'ጸጥታዊ', 'ንኣመሪካውያን', 'belimumab', 'benlysta', 'መላግቦ', 'ዝሕክም፣', 'ዝተዋህቦ', 'ሓበሬታኣ', 'ዝበጽሑ', 'ከተኽፍሎም', 'ከለን፣', 'ጉስጢ', 'wbc', 'ሚዛን፣', 'ቪታሊ', 'ክሊችኮ', 'ብኣካታዒት', 'ቴክኒካል', 'ቀታሊት', 'ንኦድላኔር', 'ሶሊስ', 'ደረጅኡ', 'ክዕቅብ', 'ክኢሉ።', 'ብኢንቴርኔት', 'ንመፅሓፍቲ', 'ጉጉልን', 'ኣሓተምቲን', 'ኣጊድዎ', 'ዘተኣታተዎ', 'ክቕፅለሉ', 'ሚልነር', 'ቶፖሎጂ፣', 'ጆሜትርን', 'ኣልጀብራን', 'ብዘገበሮ', 'ኣቤል', 'ንጉግል', 'እምነትጨምጉዳል', 'ምምሐዳር', 'ኣውራጐዳና', 'ነቁፅሪ', '788', 'ከምዝወረደ', '1949', 'ምውዓሉ', 'ዘየማልኡ', 'ክዕፀው', 'ኦዞን', 'ብዝኸፍአ', 'ከምዝተጎድአ', 'ሌብሮን', 'ጄምስ', 'ተሳታፊ', 'ፕሪምዮር', 'ሊቨር', 'ገዚኡ።', 'ደርቢ', 'ንተቓወምቲ', 'ንምጥባር', 'ሃሳካ', 'ዝግበርፌዴራላዊ', 'እንግሊዝኛ', 'ተኣሲሩ', 'ዜጋ', 'ንምውጻእ', 'ሰንዓ', 'ተሓቲ', 'እየም', 'ዝተቐሃሉ', 'ጉዳዮም', 'ቀዳመይ', 'ብሪታኒያ', 'ቅደሚኦም', 'ጎርደን', '270', 'ዝኽፈሎ', 'ንምኹላፍ', 'ተላዒሎም።', 'ይኸዳ', 'ኣንጌላ', 'መርከል', 'ንዘሳፈረት', 'ኣየራ', 'ከይትኣቱ', 'ከልኪላ።', 'ንዩ', 'ንነበር', 'ነጺግዎ።', 'ዳግማዊ', 'ንዝሐዘ', 'ሳንዱቕ', 'ጴጥሮስ', 'መልግብ', 'ብምውፃእ', 'ብፃዲቕድነት', 'ንምቕባእ', 'ኣሰናዲኣቶ።', 'ሓይልታቱ', 'ቪያግራ', 'የቕርበሎም', 'ኣምበሳደር', 'ሱዛን', 'ራይስ', 'ከሲሳ', 'ሰኪዐት', 'ቺካጎ', 'ቡልስ', 'ደሪክ', 'ሮዝ', 'ብ2010', 'ብምዃኑ፣', 'ዝነኣሰ', 'ዝፍጽም', 'ብድሕሪ', 'ምንቷግ', 'ፉኩሺማ', 'ኑክሌር', 'ኣቲዎም።', 'ታቪሽ', 'ወረፃ', 'ፓርቴኦም', 'ስለዘይረኸቡ', 'ስልጣኖም', 'ኣይፓድ', 'መደብር', 'ከይለዓል', 'ተሰጊኡ።', 'ወሑጅ', 'ብምብርትዑ', 'ሲይሜ', 'ሉዊዛንያን', 'ባቶን', 'ሩግን', 'ስፍራታት', 'ክዕልቕለቑ', 'ምህንድስና', 'ኵዕሶ', 'ትሪስማን', 'ብዓዲ', 'ዝደገፍዎ', 'ዝሓተቱ', 'ምሟቱ፣', 'ቐታሊ', 'ሃደን', 'ዝነኣስ', 'ፋሽን', 'ከምዘልዓሎ', 'እንትግለፅ', 'እናኸፈልካ', 'ኣላስካን', 'ንምትእልላሽ', 'ኣቲዎም', 'ሞርጋንዛ', '37', 'ተኸፊቱ', 'ባተን', 'ሩጅን', 'ኦርሊንስን', 'ንዝተብሃላ', 'መረት', 'ገጠር', 'ብውሕጅ', 'ከዕለቕልቕ', 'ንዘላ', 'ዕደና', 'ዝተቓወሙ', 'ናይትርከብ', 'ፑኖ', 'ደቀባት', 'ተቐማጦ', 'ነፍርቂ', 'ተቐማጦእታ', 'ተቖፃፂሮምዋ።', 'ክበትካ', 'ምፅውዐን፣', 'ላይቤርያ', 'nba', 'ንምትእስሳር', 'ማቭሬክስ', 'ሂት', 'ሓደስትን', 'ሕስር', 'ዝበላን', 'ኣንቅጺ', 'ክታበታት', 'የነክያ', 'ምህላወን፣', 'ፋሶን', 'ማልን', 'ነይጀርን', 'ፑዩሄ', 'ኮርዶን', 'ካውለ', 'ዝዓረገ', 'ደበና', 'ሓሞኽሽቲ', 'ስለዝተሰረዙ', 'ተኣጓጒሎም', 'ዓቐኑ', 'ዝልካዕ', 'ንምብራቕ', 'ከየስዕብ', 'ተወሲዱ', 'መዐወኒ', 'ከምዝተዋፈሩ', 'ፈኒው።', 'ስዑዳውያን', 'ኣንስታይ', 'ዝተበየነ', 'በዲሀን፣', 'እናዘወራ', 'ሕሳባተን', 'ይዝርግሖኦ', 'ንግሪስ', 'ክህባን', 'ምልጋስ', 'ከብላን', 'እንተቐረበ', 'መመላእታ', 'ኣባለት', 'ትቐተሉ', 'ቢንያሚን', 'ናታንያሁ', 'እትእሰር', 'ፍሎቲላ', 'ሓማስ', 'እትቆጻጸራ', 'ብኮንትሮባንድ', 'ገለጸ።', 'ገፁ', 'ጆነግ', 'ፕዮንግያንግ', 'ቾሱኒይቦ', 'ዝተሃሰየ', 'ፓስፖርት', 'ጋዜጠኛታትን', 'ክሪስቲን', 'ለጋርድ', 'ስርሐን', 'ኣትላንቴስ', 'ንምፍጻም', 'ተወንጪፋ', 'ዝውሰዱ', 'እንተለዉ', 'ንረኽሲ', 'ከምዝጠቕሙ', 'መፅናዕቲታት', 'ኣመልኪቶም።', 'ፈጻሚት', 'ንዩዝ', 'ረቤካ', 'ብሮክስ', 'ቴሌፎን', 'መጥቃዕትን', 'ኣቲያ።', 'ዝተኻየድ', 'ተቐበልቲ', 'ሞንሱን', 'ሩባታት', 'ስለዝመልኡ', 'ከምዝተፈጠረ', 'ማንስፊልድ', 'መታሓላለፊ', 'ሴኦልን', 'ሲሄንግን', 'ሸታሕታሕ', 'ተሳኢኑ።', 'መወሰኒ', 'ሴኔት', 'አሜሪካ፣', 'ክለዓል', 'ፈሪሞምሉ።', 'ኣኒስተን', 'ኣክቲቪቲ', 'ቁምቡላታት', 'መስታርድ', 'ብምዕናው', 'ዝነበሩዋ', 'ዝተዓፀወ', 'መርመራታት', 'ዝጠቓልል', 'ብተጻወትቲ', 'ክፍርሙ', 'ካምብሪጅ', 'ሕዙእ', 'ድሐሪ', 'ምትእጉጓሉ', 'ብራዚላዊ', 'ዚኮ', 'ንብሄራዊ', 'ኣድመኛታት', 'ንባንዴራ', 'ቀጽሪ', 'ሴኔጋላዊ', 'ላሚን', 'ዲያክ', 'ሮያል', 'ፎርስ', 'ቦርኔማውዝ', 'ኣልዒልዎ', 'ዝሳተፋ', 'ምካነን', 'ኣይሃበን።', 'ብርቱ', 'ዕ', 'ምስወረደም', 'ትሪፖሊ', 'ሳሊም', 'ሓዲጐምዎ', 'ብምኻዶም', 'ካውከስ', 'ብዝተፈፀሙ', 'ደብዳባትን', 'ቅንፀላታትን', 'መኮንን', 'ሮቢንስን', 'ክሮሶ', 'ዝተላተመት', 'ቺሊ', 'ነከይኸብር', 'ሽርፊ', 'ንዩሮ', 'ከይወርድ', 'ብለበዳ', 'ዴንጊ', 'ዞሊክ', 'ሕብረትን', 'ውሳነታት', 'ታንዛንያ', 'ዛንዚባር', 'ብኣ', '240', 'ምጥሓል', 'ብሸለልትነት', 'ከሲሶም።', 'ኣድመጽቲ', 'ይውሕዙ', 'ዘለዉሉ', 'ክላውስ', 'ፎይሬት', 'ዲሞክራስያዊ', 'ጽቡቕ', 'ኪይርግይዝስታን', 'ዝተመረፃ', 'ኣልማዝቤክ', 'ኣታምባዬቭ', 'ንኣሜሪካ', 'ማናስ', 'ብኽራይ', 'ምሰብቀዐ', 'ከምዘይሕደሽ', 'ሼሊይ', 'ያቺሞቪች', 'ሌበር', 'ኦስዋልድ', 'ግሩበል', 'ኣጋጢሙ', 'ሶማሊያውያን', 'ጨወይቲ', 'ኣብዝት', 'ኻየደ', 'ተቓወምቲን', 'ብምፍጣሩ', 'ተቐቲሎምን', 'ቖሲሎምን', 'ዩሮዞን', 'ብዘይምሕላፉ', 'ንኩባ', 'ብምዕታራ', '1938', 'ፕሮፌሽናል', 'ኣውሮፓዊት', 'ክርስትናን', 'ምኽሳቱ', 'ስራዊት', 'ምውሳዱ', 'ዝተቐትሉ', 'ሬሳታቶም', 'ክድለ', 'ኣፍቂዳ።', 'ጣሊያናዊ', 'ሳይክል', 'ሲሞንሴሊ', 'ግራንድ', 'ፕሪክስ', 'ተላቲሙን', 'ተወቒዑን', 'ሞይቱ፤', 'ሙዓመር', 'ሲርት', 'ካንኩንን', 'ከባብታትን', 'ዝህንደድ', 'ሪና', 'ሓደጋኡ', 'ልዕል', 'ኦክዩፓይ', 'ዝተባህሉ', 'ኣድመኛታት፣', 'ብኣንባዒ', 'ፕላስቲካዊ', 'ጠያይትን', 'በቲኑ', 'ንብዙሓትውን', 'ኢራናናዊት', 'ማርዚዬ', 'ቫፋሜህር', 'ዝተኸልከለ', 'ቴህራን', 'ከተማይ', 'ንመሸጣ', 'ብምውሳኣ', 'ተፈሪዱዋ', 'ተለቒቓ።', 'ዝሓንገደ', 'ካንዳሃር', 'ብምኽፋት', 'ኣፍጋናዊ', 'ተርጓሚን', 'ቐቲሉ።', 'ኳንታስ', 'ኢንዱስትርያዊ', 'ሞገት', 'ኣቢሉ።', 'ክፍትሑ', 'ክትሕግዛ', 'ሓቲታ።', 'ኣሸባሪ', 'ቦኮሓራም', 'ዳማትሩ', 'ሴሜናዊት', 'ንዝተፈፀሙን', 'ቡምባን', 'ተኹስን', 'ሺናዋትራ፣', 'ባንኮክ', 'ገዝአን', 'ስለዝበፅሐ፣', 'ንምእላይ', 'ይሳተፈሉ', 'ኣቋሪፀን', 'ሃገረን', 'ክምለሳ', 'ተገዲደን።', 'ስኮትላንዳዊ', 'ባይዮኒክ', 'ዝተሰነዐ', 'ግዳማዊ', 'ንስንኲላን', 'ክንቀሳቐሱ', 'ተባሂሉ፣', 'ተፈቒዱ።', 'ዶሃ', 'ምስንዳእ', 'ባይዝቦል፣', 'ቀይሩ።', 'ራግቢይ', 'ሶሊ', 'ትዪቢሊካ', 'ታውን', 'ኣደራሽ', 'ጽምብል፣', 'ማኣከላይ', 'መሰመር', 'ኡዝበካዊ', 'ሴርቨር', 'ድጂፓሮቭ፣', 'ዝበለጽ', 'ዎል', 'ማርትን', 'ቴስኮን', 'ኣብልዕሊ', 'ዝኣመሰላ', 'ሕግታቱ', 'ንምልሕላሐ', 'ዋናን', 'ተፃወቲን', 'ን149', 'ዝፈትሕን', 'ደቪድ', 'ካሚሮን፣', 'ፋይናንሳዊ', 'ዝተገብረ', 'ክጽንበር', 'ኣቢዩ።', 'ማሃያታት', 'ዝተነብረ', 'ምጉዳል', 'ከናወሕ', 'ኣድሚጹ።', 'ንምጭፍላቕ', 'ትገበሮ', 'ቅስቓስ', 'ክተብል', 'ዝቐረበላ', 'እንተዘይተቐቢላቶ', 'ንሶሪያ', 'ከምዘቕርባ', 'ኣጠንቂቑ', 'ካዎህ', 'ሲዮንግ', 'ጉተማ', 'ፅላት', 'ዝቕመጠሉን', 'ፎ', 'ጉዋንግ', 'ሻን', 'መዘከር', 'ብቅዱስነት', 'ተሰይሙ', 'ተዓዘብቲ', 'ንኣማ', 'ከምዝሓብአት', 'ከሲሱ', 'ኣብዘዳቡብ', 'ብዝበፅሑ', 'ከይተሰሸኑ', 'ከምዘይተረፉን', 'ዓሌታዊ', 'ዘስግኦም', 'ለቂቖም', 'ሃዲሞም።', 'ባንዲፑርን፣', 'ናጋርሆሌን', 'ነብሪታት', 'ምዕጻው', 'bow', 'ኣላባማ', 'ብምዕዋታ', 'ንስርቂ', 'ዝፃረር', 'ንዘቕረቦ', 'እንግሊዘኛ', 'ዊኪፒድያ', 'ሮብዕ', 'መልእኽትታ', 'ቀዪሩ።', 'ሴንታሙ', 'ክህነት', 'እንግሊዝኣብ', 'ሓዳር', 'ከይትፈቅድ', 'ሊዮን', 'ፓኔታ', 'ዘይተገለፀ', 'ንፓኪስታን', '“ዓቕላ', 'ይፅንቀቕ', 'ዝሰሓቡ', 'ከምዝተሰበረ', 'ደይሊ', 'ሊቢያ፣', 'ንደንበ', 'ክጉዕፅፁ', 'ሞዓመር', 'ሸሪኾም', 'ናይዝተብሃሉ', 'ብዝበለፀ', 'ኣዘርበጃን', 'ንእስራኤላውያን', 'ሰለይቲ', 'ኢራናዊ', 'ንዩክሌር', 'ትሕግዝ', 'ብኢራን', 'ዝመጻ', 'ነጺጋ።', 'ሆንዱራስ', 'ፓርፊሮ', 'ሎቦ', 'ምሉእን', 'ንሓለፍቲ', 'ከባብያዊያን', 'ብሄራዊን', 'ኣጊዶም።', 'አሜሪካን', 'ኣሚን', 'ሞሮካዊ', 'ኣፓዳካ', 'ኑቮ', 'ሊዎ', 'ብ2007', 'ብናይ', 'ኦዴሳ', 'ኖስትራ', 'ሲኞራ', 'ላሶ', 'ንስፔይን', 'ቸኮላታ', 'ንልቢ', 'ኮምን', 'ሜጋ', 'ኣፖሎድ', 'ተሓባባርቱ', 'ብምጥሓሶም', 'ክሕተቱ', 'ተሓላሊፎም', 'ክዋሃብዋ', 'ኣመዚጊባ', 'ብህፃንነት', 'ምሕርናኽን', 'ባህርይን', 'ተዛማድነት', 'ንሶማልያ', 'ጀሚራ፣', 'ሞጋዲሾ', 'ክሊኒክን', 'ምቑሳሉ', 'ቦ', 'ሺላይ', 'ሓጋዚኡ', 'ቆንስላ', 'ክሓትት', 'ምፍታኑ', 'መሃያ', 'ዘይተኸፈሎም', 'ፓይለታት', 'ብምትራፎም', 'ሰሪዙ።', 'ብፌዴራላዊ', 'ቀቢላዊ', 'ዘጠናኸሩሉ', 'ኸባቢ', 'ጥይት', 'ዝረኣየሎም', 'ዝዓመፁ', 'ወታደራት', 'ንመንግስታዊ', 'ሒዞምዎ', 'ፀጉሮም', 'ንዝስርሑ', 'ኣራእሶም', 'ብደናጉል', 'ከምዝሰብሩ', 'ብዝተጠርጠሩ', 'ፅንፈኛታት', 'ራዕዲ', 'ኣትዩዋ', 'ኣንጀለስ', 'ዊትኒይ', 'ወልፊ', 'ኮኬይን', 'ዝውነና', 'ቀልቀል', 'ሸሚሞምዎ', 'ተኣሲሮም።', 'በብመዓልቱ', 'እናተቐለ', 'ኢዱን', 'እግሩን', 'ኣጣሚሩ', 'ይርእይ', 'ሚኒሰትር', 'ሬሲፕ', 'ጣዪብ', 'ኤርዶጋን', 'ኘቒፎም።', 'ቦቢ', 'ፔትሪኖ', 'ብዝፈጠሮ', 'ዘርኣዩ', 'ነውራም', 'ባህሪይን', 'ተባሪሩ።', 'ገፈፍቲ', 'ምክታትል', 'ተሸሚመን', 'ኣማዲ', 'ቱማኒ', 'ቱሬ', 'ምእላዮም', 'ኣትዮም።', 'ምክያዱ', 'ማናማ', 'ውፅእ', 'ዝረከብ', 'ዝተኣኻኸቡ', 'ዘንብዕ', 'ተኲሶም።', 'ኳንግ', 'ንጋይ፣', 'ቭየትናም፣', 'ዘይተፈልጠ', 'ተላበዐ፣', 'ቭየትናም', 'ትጎየሉ', 'ዘይምስምማዕ', 'ኣገላልጻ', 'መዘነት', 'ኦንግ', 'ቦርማ', 'ብዘይተሳታፍነት', 'ክኽፈት', 'ዕብዳን', 'ከምዝተረኣየ', 'ምስተገለፀ', 'ኣቢሎም።', 'ነፃን', 'ፍትሓውን', 'ኩዋላ', 'ላምፑር', 'ንዝተኣከቡ', 'ንምብታን', 'መንብዒ', 'ተጠቒሞም።', 'ነገና', 'ዘይተወደአ', 'ንህንፃ', 'ኢምፓየር', 'በሊፁ', 'ምንካይ፣', 'ስእነት', 'ማዕርነትን', 'ጥቡቕ', 'ምውሳብ', 'ኣለዎም', 'ደገፎም', 'ኣትሌቲኮ', 'ቡኻረስት', 'ዮኤፋ', 'ንኣትሌቲክ', 'ቢልባኦ', 'ረቲዑ', 'ግዜኡ', 'በቒዒ።', 'በረራታታ', 'ክልተኤን', 'ኣወንዘፈኖኦ', 'ኖርዌይ', 'ጅምላዊ', 'ዝፈፀመ', 'ኣንድሬስ', 'ቤህሪንግ', 'ብሬቪክ', 'ጉዳዩ', 'ንባዕሉ', 'ኣሕሪሩ።', 'ክህነፅ', 'ዲዛይኑ', 'ብኦ', 'ካብዝስራሕ', 'ታኦይሲች', 'ኢንዳ', 'ኬኒይ', 'ኣተሓላሊፎም።', 'ተሓላሊፉ', 'ከይዋሃብ', 'ዝሙግት', 'ንኣሳንጄ', 'ኣቲወን', 'ቼዝ', 'ቬስዋናታን', 'ኣናንድ', 'ንቦሪስ', 'ጌልፋንድ', 'ብምስዓር', 'ንሓምሻይ', 'ሌጎስ', 'ናይጀሪያ፣', 'ዝበዝሐሉ', 'ሰፈር', 'ዝተሓምሸሸት፣', 'ተሳፈርትን', 'ሶዶማውያን', 'ብኤሌትሪክ', 'ዝተሓፀረ', 'ከሳቕዮም', 'ዝገለፀሉ', 'ምውፅኡ', 'ተጎሃሂሩ።', 'ሶላር', 'ኢምፓልስ', 'ዝተባህለት፣', 'ብጸሓያዊ', 'እትሰርሕ', 'ምፍጻማ', 'ክትዓልብ', 'ውጥጥ', 'ይገግብኣኒ', 'ንዝተኻየደ', 'በቲኖምዎ።', 'ዳንጎቴ', 'ሴመንት', 'ጎጂ', 'ኦባጃና', 'ትሕዝትኡ', 'ብዚ’ውን', 'ሳሃራ', 'ዝገዘፈ፣', 'ምእሳሮም፡', 'ተወዲቡ።', 'ናፍጣ', 'ዝወፅእ', 'ከምዘስዕብ', 'ዳይኦክሳይድ', 'ማሚዩ', 'ክስሕብ', 'ዚኽእል፣', 'ኖት', '202፣', 'ከሚካዊ', 'ውሁድ', 'እተማህዘ', 'ኣፍሊጦም', 'ልዳት', 'ፔተር', 'ዘካይደሉ', 'ወዲቑ፣', '1980', 'ቅላዓት', 'መጥምቁ', 'ዝእመነሉን', 'ቡልጋሪያ', 'ዝተረኸባን', 'ልደተ', 'ከቡል', 'ዝወረሩ', 'ንኣጋይሽ', 'ንገሊኦም', 'ዓጊቶም', 'ሜዲቴሪንያን', 'ንክልል', 'ጥሒሳ', 'ዝኣተወት', 'f', 'ፋንቶም', 'ተዋጋኢት', 'ጄት', 'ብወታደራት', 'ተወቒዓ', 'ሞቶሮላ', 'ንዘቕርቦ', 'ውድቂ', 'ትሬቤክ', 'ብኮምፒዩተር', 'ቀሊል', 'ዘጓነፎ', 'ክሕሾ', 'ብዘይስሩዕ', 'መዘነታ', 'ተላዒላ', 'ሱልቢያን', 'ሓላፊነታ', 'ክትምለስ', 'ቨርጂንያ', 'ስቴፈን', 'ስቴትለር', 'ከይነቱግ', 'ብምስጋእ', 'ኔቫዶ', 'ዴል', 'ሩይዝ', 'ግላኮሶስሚዝክሊን', 'እተፈጸመ', 'ጕዳይ', 'ገበረትሉ።', 'በሽር', 'ኣልዓሳድ', 'ንኣሽበርቲ', 'ኣናሓገዘት', 'ንምፍሳስ', 'ተጋድዶ', 'ከሲሶም', 'ካምቦድያ', 'ንዝተጋፍሐን', 'ን64', 'ኢንትሮቫይረስ', '71', 'ኣመላኺቶም።', 'ባውቸር', 'ዓይኑ', 'ጉድእት', 'ስለዝበፅሖ', 'ኣይቕፅልን።', 'ኣብዝኾነ', 'ብላንክ', 'መደራጉሕ', 'ንትሽዓተ', 'ምስወሰደ', 'ኢጣልያን', 'ቐዛፊ', 'ፔርዝ', 'ማይልስ', 'ዌጅ', 'ብሻርክ', 'ኣፍሪቃዊት', 'ንኮሳዛና', 'ዝመረጸ', 'ጋቦናዊ', 'ዣን', 'ፒንግ', 'ትሩቫዳ', 'ዘምፅአ', 'ብራድሊ', 'ዌጊንዝ', 'ናይዚ', 'ምሓዙ', 'ብሽግሌታ', 'ዝዕወት', 'በቒዑ።', 'ናባዪ፣', 'ፖስፖርት፣', 'መሳፈሪ', 'ሮም', 'ናብእትኸይድ', 'ምስቃሉ', 'ጊዚያዊ', 'ዲዮንኩንዳ', 'ትራዎሬ', 'ተመሊሶም።', 'ንዕላውነት', 'ምስኣብሰራ', 'መፃሕፍቲ', 'ዝሸጠ', 'ሜቭ', 'ቢንቺይ', 'ከምዝሞተ', 'ቪንሰንት', 'ዝፍፅሞ', 'ምፍታው', 'ዘይኮኑስ', 'ዝምንጭው', 'ብምውቓዕ', 'ከሲስዎ።', 'ኣትሌቲክስ፣', 'ፒስቶሪዮስ', 'ቆራጽ', 'ኣካልት', 'ተወዳዳሪ', 'ኩየረሲቲ', 'ዓሊባ።', 'ኒዮርክ', 'ሓዲኡ', 'ብብየዳ', 'ከይበፅሐ', 'ክጠፍእ', 'ሁዝ', 'መንፈቕን', 'ዝዓነወ', 'ኢያ።', 'ሶማልያ፣', 'ንፕሬዚዳንት', 'ቆይሙ', 'ሳምሰንግን', 'ቴክኖሎጂታቶም', 'ተሰራሪቖም', 'ኩቤክ', 'ሌግዮኔሎሲስ', 'ቁሪ', 'ሌግዮናየሬስ', 'ን104', 'ለኺፉ።', 'ኦብሪያን', 'ሌስሊ', 'ባክሌይ', 'ኣዶመንበር', 'ኢንዲፐንደንት', 'ተመሪፀን።', 'ራጃ', 'በርዊዝ', 'ኣሽረፍ፣', 'ኣሲፍ', 'ዘርዳሪ', 'መርመራታ', 'ባናና', 'ሳርየት', 'ትነፅጐ', 'መርዚ', 'ፈተነታት', 'ንስንፈተ', 'ወሲብ', 'ከምዝፍውስ', 'ቤልጅም', 'ዝምህሩ', 'ካታንጋ፣', 'ዲሞክራስያዊት', 'ሪፖብሊክ', 'ኮንጎ፣', 'መዲቡ።', 'ንሓርነት', '74', 'ከምዝሰዓረ', 'ብልዒን', 'ዕፁዋት', 'ከይትከኽ', 'ንሳምንታት', 'ዝቐጸለ', 'ትምህርታ', 'ኣቋሪጻቶ።', 'ስምብራት', 'መግረፍቲ', 'ጉሬሮ', 'ተሽከርካሪ', 'ካሊማንታን', 'ማሃካም', 'ዘይተረኸበ', 'ብኣውራጃታት', 'ኦኪናዋን', 'ካጐሺማን', 'ጥሒሱ', 'ብሳንባ', 'ስኢኖም።', 'ጂያንግ', 'ብሜላ', 'ተራኽቦ', 'ግልገል', 'ወሊዳ።', 'ሓባር', 'ምብቅዑ፣', 'ሆኪ', 'ንተጻወትቱ', 'ከልኪሉ።', 'መደበር', 'ዓሊቦም።', 'ብኣጋጣሚ', 'ሞድከን', 'ንደሴታት', 'ሲንካኩ', 'ምህጋራ', 'ንምክትታል', '180', 'ንግዜኡ', 'ንከይስተ', 'ኣዘዋዋሪ', 'ኣፅዋርን', 'ኤድዊን', 'ዊልሰን', 'ቱሪን', 'ካሴሌ', 'ፓይለት', 'መሲሉ', 'ከታልል', 'ብዝ', 'ብል', 'ንሐደ', 'መበገሲኡ', 'ኖቬል', 'ንህይወቱ', 'ኒሞንያ', 'ምንስእራሩ', 'ብዘጋጠሞ', 'ተሊሙዎ', 'ጉዕዞኡ', 'ሰሪዙዎ።', 'ፈንጋል', 'ተለኺፎም', 'ጋብርኤል', 'ቤነዲክት', '16፣', 'ምስራቕን', 'ኣሕሊፍካ', 'ስለዝረኸቦ', 'ኣንቲሳ', 'ክቪቻቫ', 'ሴርጌ', 'ሃሮቼን', 'ዊንላንድን', 'ብስራሕቲ', 'ኳንታም', 'ኦፕቲክስ', 'ማሪ', 'ስቶፕስ', 'ዝህበን', 'ብሕቲ', 'ክሊኒክ', 'ክኸፍተለን', 'ኣማስያ', 'መዓልቱ', 'ዘይነፀረን', 'ዘይኽበስን', 'ምሕሳም', 'ከምዝጀመሩ', 'ብ5', 'ጥዕንኦም', '“ወድዓውነት', 'ድቃስ', 'ልቢ”', 'ብዝፅዋዕ', 'ኣፀሓሕፋ', 'ሞ', 'ያን', 'ሴኔጋልን', 'ኣይቨሪኮስትን', 'ሊዮፖልድ', 'ሴንጐር', 'ሰኒጋል', 'ኣቨሪ', 'ተገሊፋ።', 'ዳላስ፣', 'መለለዪ', 'ዝቑመቱ', 'ዝተበገሰት', 'ስፔስ', 'ኤክስ', 'ድራጎን', 'በራሪት', 'ወሰና', 'ታሚል', 'ናይዱ', 'ጎላጉል', 'ኒላም', 'ምስዓቡ', 'ንሌበር', 'ብምውካል', 'ማክሼን', 'ኣግባብነት', 'ብዘይብሉ', '7500', 'ከወራርዱ', 'ምፍታኖም', 'ታዋድሮስ', 'ተዋህዶ', 'ብሪጣንያ', 'እትህቦ', 'ከምተብል', 'ጀስቲን', 'ግርኒንግ', 'ፒትሮሊዮም', 'ንክስታት', 'ኮንግረስ', 'ብምዕንቃፍን', 'ዝኣምን፣', 'ንሚኒስትሪ', 'ሰነዳትን', 'ቡርሳን', 'ዝኸፍል', 'ትራፎርድ፣', 'ታርኽ', 'ሴር', 'ጉልባቡ', 'ተቐንጢጡ።', 'ፖፕ', 'ፒሲይ', '808', 'ዝራኣይዎ', 'ዩቱብ', 'ብዘፈር', 'ውልቀን', 'እናሰርሐ’ዩ፤', 'እዚአን', 'ፈላሞት', 'ዩኒቨርሲቲታ', 'ዝኣሰሮ', 'ዝመንዘዖም', 'ሜሴንጀር', 'ኣዐሪዩ', 'ሳይንሳዊ', 'ንፀሓይ', 'ዝቐረበት', 'ዋልታኣ', 'ዝዓቖረ', 'ንምህላው', 'ጭብጥታት', 'ክምዝኾኑ', 'ኣቃሊዑ፣', 'ክዮሪዮሲቲ', 'ንኡሳን', 'ርኽበታት', 'ንምድህሳስ', 'ማንታ', 'ግሬል', 'ብቅድመ', 'ኩነታዊ', 'ዝርዝራት', 'ኣቃሊዓ', 'ምህላዋ፣', 'ጨዳዳትን', 'ጎዳጒድን', 'ቴክቶናዊ', 'ቅርጽታትን', 'ብዘይትጽቢታዊ', 'ዘብርህ', 'ቤንጂኖ', 'ኣዂኖ', 'ቦፋ', '450', 'ምጥፍኡ', 'ኣብዝተቐረበትሉ', 'ከምዝወደቐት', 'ሚኒስተራት', 'ክህብዎ', 'ተሰማሚዖም', 'ኣማውታ', 'ነርስ', 'ጃኪንታ', 'ሳልዳና', 'ክፃረ', 'ብዝኣዘዞ', 'ንዓርሳ', 'ብምስቃላ', 'ከምዝሞተት', 'ኤፍሬም', 'ሚርቪስ', 'ንዝወርድዶ', 'ሳክስ', 'ብምትካእ', 'ራባይ', 'ዀነ', 'ማርኬት', 'ኣትላንታ', 'ንዝዀነ', 'ተሸይጡ።', 'ስለዝኸበዶም', 'ዜግነቶም', 'ንዝገደፉ', 'ጀራርድ', 'ዴፓርዲዩ', 'ሂቦምዎም።', 'ዴልሂ', 'ኣውቶቡስ', 'ገሲሶም', 'ቐቲሎምዋ', 'መስሪቱ', 'ቤተክርስቲያን', 'ሲቨላዊ', 'ግብረሶዶም', 'ካህናት', 'መርዓን', 'እንተኣትዮም', 'ኮይኾኑ', 'ክልከላ', 'ኣትሪፍዎ', 'ቬጂንግ', '787', 'ሊትዩም', 'ኣዮን', 'ባተሪታተን', 'ክዩሪዩሲቲ', 'ካልስዮም', 'ኩምራታት', 'ጨዳዳት', 'ከውሕታት', 'ዞረ', 'ባእታ', 'ክትረክብ', 'ክኢላ።', 'ንዜጋታት', 'ጆሆታት', 'ኣሚናስ', 'ሂባ።', 'ተሳፊሮም', 'ዓሊቦም', 'ብሕማቕ', 'ዝተቐርቐሩን', 'ኒውዚላንድን', 'ማክሙርዶን', 'ዝተበገሱ', 'እናካየዱ', 'ጆርጂ', 'ጎንጋድዜ', 'ኦሌክሲይ', 'ፑካች', 'ፈሪድዎ።', 'ኤሲሚላን', 'ንኢጣሊያዊ', 'ኣጥቃዒ', 'ማርዮ', 'ባሎቶሊ', 'ከፈርም', 'ተስማሚዑ።', 'ስለዘለው', 'ክፍፀሙ', 'ኣኣንጋዲ', 'ጸሊም', 'ብራሽያ', 'ክረምሊን', 'ኣፍዛል', 'ጉሩ', 'ተፈፀመ', 'ኒውዴልሂ', 'ቤትማእሰርቲ', 'ቲሃር', 'ተሰቒሉ', 'ዝቑፁሩ', 'ሂንዱስ', 'ማሃ', 'ኩምብህ', 'ህንዳዊት', 'ኣላሃባድ', 'ጋንጂስ', 'ተጠሚቖም', 'መካይን፣', 'ዳኒካ', 'ፓትሪክ', 'ዳይቶና', 'ስፕሪንት', 'ብምሓዛ', 'ዝሓቚፈ', 'ክትዕንዋ', 'ሃዲዳ።', 'መንግስታት፣', 'ቺምፓንዚ', 'ግድላት', 'ፈቲሑ', 'ከስተማቕረን', 'ኮፍ', 'ምግዳም', 'ምንጥጣፍ', 'ብዝሓሸ', 'ምባልን', 'ምስዳርን', 'ሽኮሪያ', 'ከምዝቕንስ', 'ዝዕድመኣ', 'ተቐማጢት', 'ዝተዋህባ', 'ክንክን፣', 'አይድስ', 'ዝተወልደት', 'ቅድሚኡ', 'ዘይነበራ', 'ተሓቢኡ', 'ኤዲ', 'ማሄር', 'ሳፎልክ', 'ብዝሰረቖ', 'ኽንያት', 'ማንቼስተር', 'ፌርዲናንድ', 'ኩኔይት', 'ካኪር', 'እናጣቕዐ', 'ሕጫጨ', 'ብዲስፕሊን', 'ክቕፃዕ', 'ኮሚዩኒኬሽንን', 'ኣልዒሎሙዎ።', 'ከዋቕከዋቕዑ', 'ብህዝቢ', 'ዝተመረፁ', 'ንኽልቲኡ', 'ኣካዳሚን', 'ቡከር', 'ፕራይዝን', 'ዝኮነት', 'ፕራወር', 'ጃብቫላ', 'ዕድማኣ', 'ዓሪፋ።', 'ኮሌስትሮል', 'ዝንኪ', 'እንተሎ', 'ዝከላኸል', 'ክፍሊታት', 'ዝተሓረዩ', 'ክርስቲያንን', 'ቢሮክራሲ', 'ቫቲካንን', 'ከማኽርዎም', 'ሸይምም', 'ቀሚሽ', 'ሽርጥ', 'ዝኽደኑ', 'ዝክደኑ', 'ዋሊሓ', 'ብመፅናዕቲ', 'ኢጣሊያን', 'ንስሎቫክያን', 'ብቕደም', 'ስዓብ', 'ብምስዓረን', 'ተፀምቢረን።', 'ሃለዋቱ', 'ሱኒይል', 'ትሪፓቲ', 'ፕሮቪደንስ', 'ንኢጣልያ', 'ዝመርሑዋ', 'ጊልዮ', 'ኣንድርዮቲ', 'ሓጋጊ', 'ሂንዲ', 'ካርናታካ', 'ብንጹር', 'ብዝሒ', 'ኣብወሰና', 'ሰይሩ', 'ንዑኡን', 'ስድርኡን', 'ቐቲልዎም', '“ስታር', 'ትሬክ', 'ኢንቱ', 'ዳርክነስ”', 'ቀዳመ', 'ዝተመረቐሉ', 'ኣኪቡ።', 'ቁልዕነት', 'ርጉዲ', 'ምውላድ', 'ማፊያ', 'ሲሲሊ', 'ብምዝራቦም', 'ንዝተቐተሉ', 'ቀሺ', 'ፒኖ', 'ፑግሊሲ', 'ቅድስና', 'ዝተወሃበሉ', 'ቬኑስ', 'ዊልያምስ', 'ንፈለማይ', 'ተሳዒራ።', 'ዘጥቕዕ', 'ዝፀብፀበት', 'ኖቨል', 'ኮሮናቫይስ', 'ኣጠቒቕማ', 'ዘይነዓቕ', 'ፍሎሮ', 'ካርበን', 'ክሰርሓ', 'ካምዴሽ', 'ፈተሻ', 'በረኻ', 'ይለቁ', 'ብሙስሊማት', 'ፓርላማን', 'ጉባኤን', 'ብዘይሕጋዊ', 'ዝዝተመረፁ', 'ራግቢ፤', 'ሩሴል', 'ፓከር', 'ምጅማሩ', 'ብምሻኑ', 'ጋንትኡ', 'ተቐፂዑ።', 'ግሬት', 'ባርየር', 'ሪፍ', 'ከዛሕትሎ', 'ተማሕፂኖም።', 'ሁላ', 'ፐይንትድ', 'ጥንቁርባዕ', 'ከምዝጠፍአ', 'ይሕሰብ', '“ህሉው', 'ኣካል”', 'ሰይሞምዎ።', 'ከይመለአ', 'ካልኣይሓልሓሊፉ', 'ዝኽሰት', 'ተረጋጊጹ', 'ሳሕቲ', 'ዘይኰይኑ', 'ከላዕል', 'ኣስጊኡ', 'ሮሃኒ', 'ከምዝተዘራረቡ', 'እንትገልፁ', 'ዝተዘራረቡሉ', 'ብራኽ', 'ዘገምታዊ', 'ኣመልኪቱ፤እዚ', 'ብጎሮሮ', 'ዝዝረቡ', 'ዘእተወ', 'ፍራንሲስ፣', 'ሃርሌይ', 'ዴቪድሰን', 'ምስረትኡ', 'እንተኽብር', 'ንዝቑፀሩ', 'ባሪኾም።', 'ሪፓብሊክ፣', 'ፒተር', 'ንያስ፣', 'ሕሜት', 'ጉድላክ', 'ኖሊውድ', 'ከምዘመደቡ', 'መጀመርይ', 'h6n1', 'ንምፍፃም', 'ይትልሙ', 'ብዶላር', 'ብምንፅፃር', 'ናብዝብሃል', 'ዝተፈፀመን', 'ሉኣላውነተይን', 'ግዝኣተይን', 'ንዝበለቶን', 'ኮኒና።', 'ፍልስጤ', 'ማዊ', 'ምስልምና', 'ቃታዳ', 'ብኽ', 'ስታት', 'ክሕተት', 'ተጠሪዙ።', 'ኣሌክሴይ', 'ናቫልኒይ', 'ኣብዝካየድ', 'ተመዝጊቦም።', 'ካሜሮን፣', 'ምርጭኡ', 'እንተዘይኮይኑ፣', 'ክዓፅውዎ', 'ሄርኩለስ', '264', 'መዐደኒ', 'ተፈጥሯዊ', 'ብዝበፅሖ', 'ብኽፋሉ', 'ዌልስ', 'ቫርጎ', 'ዝሕታለ', 'ንኢንዱስትርያውን', 'ንግዳውን', 'ተኪኡ', 'ብዕዳጋ', 'ማልነት', 'መዝገበ', 'ቃላት', 'ኦክስፎርድ', 'ቢቲ', 'ብዝሓውስ', 'ከምዝልውጦ', 'ኣረጋጊፁ', 'ፖዞሊ', 'ግዳይ', 'ምልታም', 'ተፈፂሙ።', 'ከጥቅዕ', 'ስለዝበፅሓ', 'ኤምባሲታታ', 'ሮዛርዮ', 'አርጀንቲና', 'ምንታጉ', 'እንትሞቱ፣', 'በፂሑዎም።', 'ኣሜሪካዊያን', 'ዘሳፈረ', 'ዝንሳፈፍ', 'ባሉን', 'ሞንትቦቮን', 'ተላቲሙ', 'እንትቕተል', 'ኣውስትራልያዊ', 'ኬቨን', 'ሩድን', 'ኣቦትን', 'ክትዓት', 'ዝመሓላለፍ', 'ኣኽባር', 'ሳለሒሓላፊ', 'ተሸይሞም።', 'ንሕጊታት', 'ግብረሽበራ', 'ዝህይስ', 'ንጉዳይ', 'ዴቭድ', 'ሚራንዳ', 'ከፃሪ', 'ሲይረኔ', 'በውድብ', 'ብመካነ', 'ቅርስነት', 'ብኣልማዕቲ', 'ሪል', 'ኢስቴት', 'ከምዝትጐድአ', 'ማሪታይም', 'ተመርኲሳ', 'እትነጽገት', 'ክርክር', 'እተላዕለ', 'ኮፓ', 'ኣንሰሒባ።', 'ላይበርያ', '25000', 'ተፈተንቲ', 'ብምሉኦም', 'ይተርፉ።', 'ሆላንዴ', 'ብቀመማዊ', 'ሐተቲ', 'ክትቐፆዖም', 'ክወርድ', 'ንዝኽእል', 'ቀረባት', 'የዋህልሉን', 'ዝረሓቑ', 'ይሸባሸቡ', 'ንግሪንላንድ', 'ኪሎሜተር', 'ንውሓት', 'ዳያና', 'ንያድ', 'ኲባ', 'ዝዛዘመት፣', 'ጎብያ', 'ከተተግብር', 'ኣዶሎፍ', 'ሂትለር', 'ድፏዕ', 'እንትፅፍም', 'ዝረኣየ', 'ሮቸስ', 'ሚስች', '1960', 'ዘይተራእየ፣', 'ንምርካቡ', 'ሮክ፣', 'ለሚሱ', 'ኑክልየሳዊ', 'ፉኩሺማ፣', 'ጸርገ', 'ዘልሕዅ', 'ዘተሓሳሰባ', 'ምምሕዳራት', 'ንዝመጸ', 'ሰርጌይ', 'ሶብያኒን', 'ክምረፁ', 'የመልክት።', 'ብሓምላ', 'ንዝትኻየደ', 'ዝወለዐ', 'ታማሮድ', 'ቕስቓስ', 'ሓፋ', 'ማሕሙድ', 'ባድር', 'ኣሚሊጡ', 'ዓራርቦ', 'ሞንትማጆ', 'ብቪንሴንት', 'ካሊፎሪኒያ', 'ሓንፃፂ', 'ንሓዱሽ', 'ተቐያሪ', 'ኣውቶ', 'ማቲክ', 'ዝእግድ', 'ናይጀል', 'ኢቫንዝ', 'ጾታዊ', 'ዝፈጸመ', 'ምኽሳሱ', 'ኣዋጅ፣', 'ብወጻእተኛ', 'ምርምራት', 'ዝተረጋገጸ', 'ይኹን፣', 'ብገለ', 'ዘጠራጥር', 'ኒውኦርሊዮንስ', 'ኒግሌሪያ', 'ፎውሌሪ', 'ኣሜባ', 'ተፈፂሞም', 'ንዝተጠርጠሩ', 'የፃርይ', 'ኣጽዋራታ', 'ዘረከበት', 'ምጥላፍ', 'ሱሲሎ', 'ባምባንግ', 'ዩዶዮኖ', 'ዝተኣከቡ', 'ኢንዶኔዥያውያን', 'ባንዴራታት', 'ኣባሪዖም።', 'ጐልፍ፣', 'ውድስ', 'ብምሕራዩ', 'ራኪን', 'ኣብዝብሃል', 'ኣባሪዖም፣', 'ወጊኦም', 'ዝቐረበሎም', 'ምዕናው', 'ሰጒጉዎም።', 'ዝነበረን', 'ዝዞረ', 'ካርፔንተር', 'ምትሕልላኽ', 'ዕድሚኡ', 'ዒራቕን', 'ሌቫንትን', 'ይድግፉ', 'ዝበሃሉ', '190', 'ቐቲሉ', 'ዓጊቱ', 'ነቒፉ።', 'ዝተሃሰየት', 'ዴይር', 'ኢዞር', 'ኣብዘካይድዎ', 'ዝወደአ', 'ከውፅኣ', 'ክሰማምዑ', 'ኣይከኣሉን።', 'ስቴትስን', 'ሸፊኑ።', 'ካራት', 'ኣራንሺ', 'ኣልማዝ', 'ክርስቲ', 'ዮ', 'ብምሻጡ', 'ኣመዝጊቡ', 'ንሃዋሁው', 'ምፅናዕ', 'ዝሓዘት', 'ኣወንጪፉ።', 'ኣተሓሕዛ', 'ምውፅኡ፣', 'ቦትስዋና', 'ቬይትናም', 'ንመትከላት', 'ዴሳዊ', 'ዘረጋግፅ', 'ሕገመንግሰቲ', 'አፅዲቓ።', 'ን27', 'ገያሾን', 'በረራን', 'ኣሳፊራ', 'ትበርር', '470', 'ናሚቢያ', 'ሃለዋታ', 'ጠፊኡ።', 'ንምኽታም', 'ኣካይደን።', 'ዘውጽኡን', 'በማእታት', 'ዝቝጸር', 'ዝደንጎዩን', 'ተዋሂቡ', 'ዘንበረቶ', 'ዘየልዐለት', 'እንተኾነት', 'ራውል', 'ካስትሮን', 'ንኢድ', 'ተጨባቢጦም።', 'ሃ', 'ሪ', 'ምስʼቲ', 'ዎኪንግ', 'ዊዝ', 'ውንድድ', 'ጉጅሉኡ', 'ኣንታርክቲክ', 'ብእግሪ', 'ምጉዕዙ', 'ቱኒዛውያን', 'ብውክልና', 'ማህዲ', 'ጁምዓ', 'ቱኒዝያ', 'መሪጾም።', 'ዩኒቨሮስቲ', 'ነታጉ', 'ቡምባታት', 'ተተኺልወን', 'ዘይጥሉል', 'ኣብአን', 'ቱርካውያን', 'ነጋዶን', 'ሚኒስተራትን', 'ብክስታት', 'ጉቦን', 'ተኣስሮም።', 'ጄከብ', 'ኦስትሬይከር', 'ካብዝተኣሰረላ', 'ኣምሊጡ።', 'ጁባ', 'ከምዝበፅሖን', 'ፎርሙላ', 'ዋን', 'ሹማቸር', 'ኣልፕስ', 'ውዲቑ', 'ምስተወቕዐ', 'እንተተገበረሉ', 'ሕዚ’ውን', 'ላትቭያ', 'ክነሱ', 'ንዮሮ', 'ዝተቐበለቶ', 'ሃድራማውንት', 'ዝተጠርጠሩ', 'ስፖርተኛ', 'ሰክዔት', 'ዴነስ', 'ሮድማን፣', 'ዝወረዶ', 'ነቐፌታታት', 'ዝፈጸሞ', 'ደጊፉ።', 'ንምውዳቕ', 'ባንኩክ', 'ተኣኪቦም', 'ንሓይሊታት', 'ናይትስ', 'ቴምፕላር', 'ካርቴል', 'ንምስጓግ', 'ሚቾካን', 'ዝተቆፃፀሩ', 'እንትኮን', 'ኣብʼ', 'ከእቱው', '11ን', 'ክፍለዘመን', 'ብሌያቡ', 'ቤተመቅደስ', 'ዝተሰረቑን', 'መሊሳቶም', 'ሰኣላይ', 'ዶኮመንታሪ', 'ንምስኣል', 'መተካእታ', 'እትኸውን', 'ብዝተሓተ', 'ምሂዙን', 'ሰኒዑን', 'ጄሪ', 'ምእዋጁ', 'ክቑጡቡ', 'ቦታኦም', 'ሕቡራተ', 'ብምእንጋዳ', 'ንሶርያ', 'ተነጺጉ።', 'ተጋፊሑሎም', 'ንዝበሉዎም', 'ካምቦታት', 'ምፍራስ', 'ሃፋ', 'ሴረስ', 'ኤውሮጳን', 'ኢንፍሉዌንዛ', 'ዝተረኣየላ', 'ክቕተላ', 'ንለውጢ', 'ፔንጉዮን', 'ይንኪ', 'ኣጠንቂቆም።', 'ህንዲ፣', 'ሞኖረይል', 'ተመሪቓ።', 'ፊሊፒናዊ', 'ፒኒኖ', 'ኣኲኖ', 'ብቻይና', 'ክወሃባ', 'እተቕርቦ', 'ናዚ', 'ንቸኮስሎቫክያ', 'ክትወርር', 'እንከላ', 'ዝመሳሰል', 'ኣነጻጺሩ።', 'ዝተሓመሰት', 'ዝተጎሃሃረ', 'ብኽፋል', 'ምቁፅፃሮም', 'ካብʼታ', 'ብዓመፅቲ', 'ሶሪያዊት', 'ሆምስ', 'ለቂቖም።', 'ኦስትሬልያ፣', 'እንግሊዝን', 'ተጋፊሑ።', 'ቬኔዙዌላ', 'ኒኮላስ', 'ማዱሮ', 'ንመንግስተይ', 'ክዓልው', 'ንዝበልዎም', 'ኣሲሮም።', 'ኣቋሪፃ።', 'ንዘነበሩ', 'ዘፈፍቲ', 'ኣጋፊዖምዎም', 'ክሪስታል', 'ዝተረኽበት', 'ቁርጽራጽ', 'ሽወደናዊ', 'ምዕዳሞም', 'ተላዒል', 'ኣልፎንስ', 'ካውሮን', 'ብፊልም', 'ግራቪቲ', 'ብምኻን', 'ኣብʼቲ', 'ማለትʼውን', 'ብድምሩ', 'ሸውዓት', 'መዋፈሪኦም', 'ዝኣዘዙ', 'ዲምትሪ', 'ፔስኮቭ', 'ሴሪ', 'ብብረት', 'ኣፈራሪሖም', 'ንክራይሚያ', 'ኣዚዞምዎም።', 'ተወንጫፊ', 'ፅዒና', 'ብሓይሊታት', 'ተታሒዛ', 'ፑሲይ', 'ሪዮት', 'ማክዶናልድ', 'ብዝነበሩ', 'ምቅፃልን', 'ምንታዕ', 'ርእሲን', 'ገጢሙወን።', 'ቫይታሚን', 'ናይተን', 'ጡብ', 'ዝተጠቕዓ', 'ምሕዋይ', 'ከምዘዕብዮ', 'ሰኺሩ', 'ዝዝውር', 'ብለይቲ', 'የኽብር', 'እኩብ', 'ጠጒጉ', 'ኣቑሱሉ።', 'ሻምበል', '1994”', 'ንገምገም', 'ቺሌ', 'ብምኽሳቱ', 'ሃገራትኣ', 'ን59', 'ኮናክሪ', 'ዩክረይን፣', 'ኣሌክሳንደር', 'ቶርቺኖቭ፣', 'ንሓይልታት', 'ክረሚያ', 'ክተንሰሕብ', 'ኣላን', 'ሻፍተር', 'ዝተቐልዐን', 'ሚስጥራዊ', 'ምቕዳሕ', 'ንዝቐረቡሉ', 'ንቐፃልነት', 'ናይሞት', 'ሕየት', 'ዝዋሰና', 'ፅድያ', 'ተተንብዩ', 'ንዘስዕቦ', 'ተዳሊዎም።', 'ሙቕሪን', 'ሳውድ', 'ንንግስነት', 'ዘውዲ', 'ካልአዋይ', 'ተርታ', 'ከምዝሓዙ', 'ሎስኣንጀለስ', 'መዝጊቡ።', 'ላይቤሪያን', 'ዝደየበሉ', 'ስሚንቶ', 'ላፋረጅን', 'ስዊትሰርላንድ', 'ሆልሲምን', 'ክጣመሩ', 'ወሲኖም።', 'ቫልፓራይሶ', 'ዝተላበዐ', 'ጫካ', 'እንተዕንው', '121', 'ተቓወምትን', 'ኣብዝተኻረረሉ', 'ለበስ', 'መንዚዖም።', 'ክራይሚያ', 'ዘለውዋ', 'ከምዝለኣኸት', 'ኣሚኖም።', 'መፅናዕቲ፤', 'ሕምሺን', 'ኣቃሊዑ።', 'ሕጋጋት', 'ሃገራውያን', 'ኮርኒሽ', 'ቢይሎንያን', 'ሜይፍላወርን', 'ብሆቦብላ', 'ቶራንዶስ', 'ተጠቒዐን፤', 'ከምዝሰዓበ', 'ስንጭሮ', 'ንጉሳት', 'ስዊዝን', 'ክፀንሑ', 'ዝተገበሩ', 'ንጉሳውያን', 'ጎደቦ', 'ደሴታትን', 'ዝነገሰሉ', 'ኣጋ', 'ከምዝተለማ', 'ኣፍሊጠን።', 'መርስ', 'ሙንስተር፣', 'ኢንድያና፣', 'እተጓዕዘ', 'ሳንደይ', 'ዝመጽእ', 'ብኣወታ', 'ትድግፍ', 'ዝኣወጀት', 'ስኮትላንዳዊት', 'ፖልዮ', 'ሻሂድ', 'ቤናዚር', 'ኣባድ', 'ብተርኪስታ', 'ኢስላም', 'ኡርሚኪ', 'መጥቓዕቲ', 'ኣስትራዜኔካ', 'ፋይዘር', 'ነፂግዎ።', 'ነስት', '440', 'ደወል', 'ፈለጠ', 'ብኡንብኡ', 'ዘይባራዕ', 'ጸገም', 'ጨገሬታ', 'ጨገሬታት', 'ፔሮሼንኮ', 'ዝንቀሳቐሱ', 'ብሩስያ', 'ዝደገፉ', 'ዘካይድዎ', 'ከምዝቕፅሉሉ', 'ተሓንዮም።', 'ዝተፀንዐን', 'ብላንሴት', 'ብኦን', 'ላይን', 'ዝተዘርግሐን', 'ረጕድ', 'ጋንግናም', 'ስታይል', 'ፕሳይ', 'ዝተረኣየ', 'ኮይኑ።ልኡልን', 'ክወልዱ', 'ከምዝተቐራረቡ', 'ጉስጢ፣', 'ፍሮሽ', 'ንጆርጅ', 'ግሩቭስ', 'ሻምናይ', 'ብቴክኒካዊ', 'ስዒሩዎ፣', 'ፈደረሽን', 'ኣብቂዑዎ', 'እተፈላለያ', 'እተለኽፋ', 'ኣግማል', 'ኣተኣሳሲሩዎ', 'ቬትናማዊ', 'በዓልሃብቲ', 'ነግዩ', 'ቼን', 'ብኽሲታት', 'ምኽዋል', 'ግብሪ፣', 'ምጥሓስ', 'ደንብታት', 'ቬት', 'ናም', 'ተፈ', 'ሪድዎ', 'ፎርሜላ', 'ሹማኽር', 'ጸላዊ', 'ዕውለት', 'ወጺኡ', 'ንተወሳኺ', 'ግሬኖብል', 'ተፋኒዩ።', 'ኦባማ፣', 'ሕዝእቲ', 'ንሚኒስትር', 'ፖሮሼንኮ', 'ንዝሽሙዎም', 'ኣፅዲቑዎም።', 'ዓብደልፈታሕ', 'ኣልሲሲ', 'ይፍጽም', 'macroscelides', 'micus', 'ሓርማዝ', 'ንጎት', 'ተለልዩ።', 'ጄፍሪ', 'ፎውልን', 'ሚለርን', 'ፈፂሞም', 'ክትከሶም', 'pelagornis', 'sandersi', 'ዝተረኽበ', 'በራሪ', 'ፈተናዊ', 'ማዕቢሉ', 'ስሎቬንያ', 'ብምጭብርባር', 'ተፃዋቲት', 'ቫዮሊን', 'ቫኒሳሜ', 'ትኽእለሉ', 'ብምፍጣሮም', 'ዝሓዞም', 'ወኒኑን', 'ብኢንቴርነት', 'ክርከብ', 'ገይሩን', 'ሲዎል', 'ንዝጠፍአ', 'እትደሊይ', 'መስ', 'ተሳፈርቲ', 'ግዋንግጁ', 'ተሓምሺሻ።', 'ላይቤሪያ', 'ሳማርቲያን', 'ፐርስ', 'ህክምናዊ', 'ኬንት', 'ብራንትሊ', 'ደንማርካውያን', 'ዝምዕብል', 'ውርሻዊ', 'ፍልልይ', '887', 'ደየበ', 'ይግምት።', 'ሺንዲያንግ', 'ካራማይ', 'ሰዒቡ', 'ኣከዳድናን', 'ዝኸልኸሉ', 'ጭሕሚ', 'ከይጥቀሙ', 'ኣንቢሮም', 'ኢርቢል', 'ንተዋጋእቲ', 'ኢስላሚክ', 'ራብዓ', 'ኒይኔ', 'ቬህ', 'ተቖፃፂሮም', 'ሚዙዌሪ', 'ፀሊም', 'የዲፓርትመንት', 'ተቐይሩ።', 'ፀብፂባ፤', 'ዮክሬይን', 'ድሩዓት', 'ቃፍላይ', 'ኣቑሪፁ', 'ክኣቱ', 'ኖቭ', 'ዎዞቭሰክ', 'ከምዘበልዎ', 'ክርክራት', 'ዝቕጽለሉ', 'ዩክረይናዊ', 'ፖርሸንኮ', 'ሚንስክ፣', 'ዓማፅያንን', 'ከምዝፈፀሙ', 'ዘመላኽት', 'ታብቃ', 'ተስዒሮም', 'ዝተማረኹ', 'ብሚሊሻ', 'ታት', 'ከምዝትረሸኑ', 'ኦብዞርቫቶሪይ', 'ሁዩማን', 'ሊትዌንያ', 'ርያል', 'ክሪስቲያኖ', 'ሮናልዶ', 'ንተጻወትቲ', 'ባይረን', 'ምዩኒኽ', 'ማንዌል', 'ኖየርን', 'ኣርየን', 'ሮበንን', 'ማሌይዥያ', 'ብሓደጋ', 'ነፈርቱ', 'ምስኣኑ', 'ምምዕርራይ', 'ክንክይ', 'ጁዲት', 'ኮሊንስ', 'ነሓላፊ', 'ኣናኢሰን', 'እየን', 'ምስቀረበለን', 'ብፍቓደን', 'ካቢኔ', 'ለቒቐን።', 'ሬዛ', 'ራሒሚ', 'ኣብዘጋጠመ', 'ምጥፍፋእ', 'ብዝነበሮም', 'ጨናፍር', 'ሽሙ', 'ሄልዝ', 'ከምዝቕይርን', 'ከምዘብልን', 'dendrogramma፣', 'ህሉው', 'ምድብ', 'ክስርዓ', 'ዘይከኣላ', 'ምዃነን፣', '1986', 'ተረኺበን።', 'ተሸካሚት', 'ሊያኦኒ', 'ንነፈርቲ', 'ምልዓልን', 'ምዕላብን', 'ይለማምዱ', 'ኣብረርቲ', 'ማናቱ', 'ቦብን', 'ብራያንን', 'ኦፐን', 'ብዕጽፊ', 'ብምዕዋት፣', 'ኤቲፒ', 'መዓርጋት', 'ኾይኖም', 'ልኡልን', 'ውሉዶም', 'ክሓቑፉ', 'እሓየለ', 'ዘካይዱ', 'ሸውሃቶም', 'ዝጐድል', 'ገይሩዎም', 'እናተፀበዩ', 'ጅሙን', 'ኣቋሪፃቶ።', 'ዩክሬን', 'ዝፀወዐሉ', 'ምእሳራ', 'ፓርላማኣ', 'ኣጠናኺራቶ።', 'ዩኒቨርስትታትን', 'ኮሌጃትን', 'ኣይሃበትን', '2900', 'ሓማስን', 'ፈትሕን', 'ክቆማ', 'ዋልሩስ', 'ማያት', 'ዘዕርፋሉ', 'ብዘይምኽኣለን', 'ኣላስካ', 'ቍጽረን', 'ይኸይድ', 'ያርሞክ', 'መፅለሊ', 'ፍልስጤማውያን', 'ንህይወቶም', 'ቢሪታንያዊ', 'ኒውሮ', 'ሳይንቲስት', 'ኪፌ፤', 'ኖርዌጂያዊያን', 'ቢሪት', 'ኤድቫርድ', 'ፊዚዮሎጂን', 'ኣልባንያ', 'ተተሓሓዘ', 'ጥሒሉ።', 'ሮያልስ', 'ባልቲሞር', 'ኣርዮልስ', '2014፤', 'ስዒራ፤', 'ኣረጋጊፃ።', 'ብኢቦላ', 'ከምዝተትሓዘት', 'ወረደን', 'ምውዳይ', 'ክልዕል', 'ጸዊዖም።', 'የሁዳ', 'ግሊክ', 'ቕትለት', 'ምፍፃሙ፣', 'ቴምፕል', 'ማውንት', 'ዕፁው', 'ኢጓላን', 'ጔሬሮን', 'ኣብዝተብሃላ', 'እንትጭወዩ', 'ወጠንትን', 'ኣተሓባበርትን', 'ከንቲባን', 'ቤቶምን', 'ከተማኣ', 'ኢንግላድ', 'ኣነስታይ', 'ንምሻም', 'ኣውጺኡ', 'ዝኮና', 'ሐውልቲ', 'ሪዛል፡ናይ', 'ማቹ', 'ፒቹ', 'እምነት፡ናይ', 'ካሚኖ', 'ሳንቲያጎ', 'ዳምፕዬር', 'እኩባት', 'ዝወደቓ', 'ኒኮላ', 'ስተርጂዮን', 'መሪፁወን።', 'ሙቢ', 'መዕረፊ', 'ሸቃሎ', 'ዝወስዶም', 'ፅነኩራት', 'ሕክምና፣', 'ትምህርትን', 'መጎዓዓዝያን', 'ምኽሳቱ፣', 'ዕዮን', 'ምብራቕ፣', 'ለገስቲ', 'ዝኣተዎኦ', 'መብጽዓታት', 'መግቢ', 'ኣወንዚፉ።', 'አፍሪካዊ', 'ሪቫ', 'ስቲንካምፕ', 'ፒሰቶሪዮስ', 'ከይቐፃዕ', 'ጥርዓኑ', 'በዪኑ።', 'ሰክዒት', 'ሌከርስ', 'ኮቤ', 'ብራይንት', 'ንሚካኤል', 'ኣመዝጋቢ', 'በዓቲ', 'ተደርዒሙ', 'ጋፕ', 'ምህርቱ', 'ብመርበብ', 'ብዝሸይጥ', 'ዳት', 'ክዝርግሕ', 'ሕቡር', 'ገስጋሳይ', 'ይድግፍ', 'ክፈርስ', 'ክሪከት፣', 'ቦክሲንግ', 'ክሪክት', 'ግራውንድ፣', 'ብግጥም', 'ክፍለም', 'ኣሚሶም', 'ዝተሓገዙ', 'ሶማልያ', 'ብዝተሰየመ', 'ሂራን', 'ማሪኾም።', 'ጋምብያ', 'ያሕያ', 'ጃምዕ', 'መብዛ', 'ሕቲኦም', 'ዘመፁ', 'ካርዲናላት', 'ሽመት', 'ኣይርላንድ', 'ጽላለ', 'ላም', 'ዘፍርህ', 'ኣትሒዛ', 'ከብቲ', 'ክትልእኽ', 'እተፈቕደላ', 'በረድ፤', 'ዓለም፤', 'ንሩስያ', 'ስሎቫኪያ', 'ዝተበፅሐን', 'ጎልዲሎክስ', 'ንሂወት', 'ክድግፋ', 'ዝተረኽባ', 'ክረምታዊ', 'ልግሲ', 'ንምዃን', 'መሪጻ።', 'ሞርቪዲቲ', 'ሞርታሊቲ', 'ዊክሊ', 'ሪፖርት', 'ሕታም', 'ውፅኢታዊነት', 'ኢንፍሎንዛ', 'ምኳኑን', 'ብከልባዊ', 'ካኒን', 'ዲስተምፐር', 'ምማቶም', 'ልዕለኦም', 'ግሌንዴይቭ', 'ብ17', 'የሌውስቶን', 'ዝላሓኹ', 'ካንሰር', 'ቤንዚን', 'ተረኺብዎ።', 'እተመስረተ', 'ብከላ', 'ብኣቆፃፅራ', 'ፈረንጂ', 'የለውስቶን', 'ምስታይ', 'ከምዘይጎድእ', 'ግለንዲቭ', 'ፓይሬት', 'ቤይ', 'ምልውዋጥ', 'ፋይል', 'ብሰበ', 'ተዓፂው', 'ተመሊሱ።', 'ንሳፊር', 'ቢ1', 'ሮኬት', 'ዘወንጨፈታ', 'ፋጂር', 'ሓሰማ', 'ዝሞቱን', 'ዝተኸሰቱን', 'ዝተረኽቡን', '136', 'ተጸብጺቡ።', 'ኣውስተራሊያ', 'ኣቦት', 'ኢንዶኖዢያ', 'ዝፅበዩም', 'ኣንድሪው', 'ቻንን', 'ምዩራን', 'ሱኩ', 'ሚይራንን', 'ኣስገርቲ', 'ኣመልኪቶም', 'ምሕፅንታ', 'ሲሪላንካ', 'ክራይስትቸርች', 'ሃግሌ', 'ኢቫል፣', 'ብዝገበረኦ', 'ሳይክሎን', 'ማርሺያ', 'ኩዊንስላንድ', 'ምዕላቡ', 'እስራኤል፣', 'በረኽቲ', 'ኣድማስ', 'ሊትቲዮም', 'ኖቫ', 'ኪይ', '143', 'ንዘይነውሕ', 'ንተልእኾ', 'ንምልኣኽ', 'ራግቢ፣', 'ተፃወቲ', 'ጐልድ', 'ቲታንስ', 'እፀ', 'ፋሪስ', 'ዝተኸሰሱ', 'መቆፃፀሪ', 'ፓታጎንያ', 'ንኽትከል', 'ብፅዓት', 'ኣዚያ', 'ሃፍታም', 'ካዛኺስታን', 'ሩብል', 'ተረፍ', 'እተእትዎ', 'ዝእውጅ', 'ዝተዳቖለ', 'ድንሽን', 'ሜለን', 'ኣፍቂዱ', 'ኦፖርቹኒቲ', 'ዝተጉዓዘት', 'ተሽከርካሪት', 'ን66', 'ባሕረኛ', 'ፋሶ', 'ፍርሂ', '115', 'ደርሁ', 'ሰነት', 'ኪንታኪ', 'ራንድ', 'ንፕሬዚዳንትነት', 'ሪፓብሊካን', 'ከምዝጽዕር', 'ዝብፃሕ', 'ስምምዕ፣', 'ንዘለዋ', 'ምንባር', 'ብግልፅን', 'ብዘየማትእ', 'መንገድን', 'ከጠቓልል', 'ኔታንያሁ', 'ኦንዶ', 'ኦዴ', 'ኢሬሌ', 'ዘይፍለጥን', 'ንሕሙማን', 'ዝቐትልን', 'ክሪመሪስ', 'ሊስተርያ', 'ሞኖሳይቶጀነዝ', 'መሊሱ።', 'ኣጥቢያ', 'ዮሴፍ', 'ፊን', 'ብምግሳስ', 'ዝተጠርጠረ', 'ብዘይምቕራቦም', 'ፍቃዶም', 'ክወርዱ', 'ዘቕረብዎ', 'ብኣቡነ', 'ውድድር፣', 'ኤሉድ', 'ኪፕቾግ', 'ንብምሉኦም', 'ክቕድም', 'እንከሎ፣', 'ትዕግስት', 'መንግስታዊት', 'ጋዝፕሮም፣', 'ሩብል፣', 'ጽሩይ', 'ከሲራ።', 'ዘስገኦም', 'ንኸተማ', 'ይወፁ', 'ልኡላዊ', 'ተራእዩ', 'ዘጋጠሞም', 'ንዋሕስ', 'ተመላሊኡዎ', 'ኩርያ', 'ሚኒሰተራ', 'ህዩን', 'ዮንግ', 'ቾል', 'ብጸረ', 'መድፋዕ', 'ዝረሸነቶ', 'ትገልጽ።', 'ጆህ', 'ካር', 'ስቫየር', 'ሳንታ', 'ባርባራ፣', 'ረፉጆ', 'ምጽራይ', 'ይቕጽል', 'መጽሄት', 'ሂወታዊ', 'ፍልልያት', 'መዓሙቕ', 'ባሕርታት፣', 'እንተላይ', 'ዘይተለልዩ', 'ዓሰርትታት', 'ተኻታተልቲ', 'ይዝርግሕ', 'ኦክሎሃማን', 'ዝበሃላ', 'ኣስዒቡ።', 'ዘመዝገበት', 'ኾይና', 'ዝተመርጸ', 'ብወግዓዊ', 'ክፍልም', 'ዘጥቅዕ', 'ከምዝደየበን', 'ከምዘለዉን', 'ኪዮቴ', 'ንዝኾነን', 'ብ1616', 'ንዝሞተን', 'ሕልፈቱ', 'ገይራትሉ።', 'ፊላ', 'ኮሜት', '67p', 'churyumov', 'gerasimenko', 'ዝቐርበሉ', 'ንዋም', 'ተበራቢራ', 'ጉህሚ', 'ቅርስታታ', 'ከምትገብር', 'ሙንሻይን', 'ዝሰትዩ', 'ይሕከሙ', 'ኣሌክሲስ', 'ትሲብራስ', 'ዝእንፍት', 'ድንጉይ', 'ብምንቅጥቃጥ', 'ንዝተጠቕዐት', 'ሂባታ።', 'ዘይውሕዱ', 'ክቕበል', 'ቍጠባዊ', 'ይሕሊፉ።', '“ጌም', 'ኦቭ', 'ትሮንስ”', '67', 'ኤሚ', 'ብዕስራን', 'ኣርባዕተን', 'ተሓፅዩ።', 'ንዝኣሰረቶም', 'ኣፍሪካውያን', 'ፈቲሓ።', 'ጐልፍ፤', 'ኦፕን', 'ሻምፕዮንሺፕ', 'ኢንድሩስ', 'ኮርስ', 'ሌይስማንን', 'ኦስቱይዜንን', 'ዝተጋጠመ', 'ዛክ', 'ብምምዝጋብ', 'መሐመሲ', 'ንኣሸበርቲ', 'ብፍርዲ', 'ንምቕፃዕ', 'ሪዮንዮን', 'ስብርባራት', '777', '370', 'ንምኳኖም', 'ፊላዴልፊያ', 'ዚዮን', 'ዝሓመመ', 'ኣእዳው', 'ዝተቐየረሉ', 'ሪቨርሳይድ፣', 'ሶያን', 'ዕፉንን', 'ኮኮናትን', 'ፍሩክቶስን', 'ኣናጹ', 'ዝውስኽ', 'ፈሊጦም', 'ዝሞቶ', '97', 'ሕሙማት።', 'ንጉሳዊ', 'ካምቡዳውያን', 'ካምቡድያ', 'ንምፍርራሕ', 'ንጎኒ', 'ገዲፈን', 'ብህፁፅ', 'እንተደኣ', 'ዘይተበፂሑ', 'ንምንባር', 'ትዳለው', 'ከምዘላ', 'ብጎኒ', 'ኦኪናዋ', 'ዝውንጨፈሉ', 'ኣይተፈለጠን።', 'ማሌዢያ', 'ዝውውር', 'ዝተቐበሩሉ', 'ረኺባ', 'ዳማቱሩ', 'እንትትቀትል', 'ን14', 'ኣቑሲላ።', 'ፓልሚይራ', 'መቅደስ', 'ከምዘፍረሶ', 'ደርባን', 'ብ2022', 'ክተሰናድእ', 'ስለዝረኸበት', 'ንግጥም', 'ዘተኣናገደት', 'ብላክበሪ', 'ሊሚትድ', 'ንኣቕራቢት', 'ቀራቢት', 'ጉድ', 'እትዕድግ', 'ገሊጻ', 'ኻኣ', 'ለወጢ', 'ተላቢዑ', 'ተባሪዑ', 'ንምሕካም', '1000', 'ቮልስቫገን', 'ዊንተርኮርን', 'ልቀት', 'ብኣውስትራልያ', 'ዝወረዳ', 'ስዕረት', 'ዝተገለፈትን', 'ኣቐዲማ', 'ዝበጸሓተን', 'ኣኣንጋዲት', 'ዝገለጾ፣', 'ንነጀው', 'ዘይተረኽበላ', 'ነይራ።', 'ምስመልአን', 'ማሞግራም', 'ክጅምራ', 'ልዕሊኡን', 'ዝገበራ', 'በብኽልተ', 'ክቕንሳ', 'ሌዊስ', 'ሃሚልተን', 'ብፎርሙላ', 'ኮንስትራክተርስ', 'ፔርሺያ', 'ክነብረሎም', 'ዘይኽእሉ', 'ስቫቶቭ', 'ሉሃንስክ', 'መኽዘን', 'ብዘጋጠሙ', 'ነተጉቲ', 'ሮያልዝ፣', 'ፔረዝ፣', 'ሎውረንስ', 'ሌሲግ', 'ሕርያ', 'ከካይዱዎ', 'ከምዘበሉ', 'ብዩቲዩብ', 'ኣብዘሕለፉዎ', 'ሺንዞ', 'ካብዝምረፁ', 'ንነዘ፣', 'ረሞቕታ', 'ወከልትን', 'ዳሕረዎት', 'ንዝፆታኦም', 'ሓዳርን', 'ንደቆምን', 'ንዘውፀኦ', 'ንዝተልዓለ', 'ንምህዳእ', 'ተዋፊሮም።', 'ከምዘገለፆ', 'ዝፈፀሙ', 'ፅንፈኝነት', 'ዘቕየሩ', 'ከምዝገበሩን', 'ምፍሞም', 'ዝለው', 'ከምዝተዓለሙን', '737', 'ማክስ', 'ሬንተን፣', 'ፋብሪካኡ', 'ስቴትስ፣', 'ሜርክን', 'ተሓባበርቱን', 'ዘፍረይዎን፣', 'ንዝፍጠር', 'ምፍትሕታሕ', 'ጭዋዳ', 'ዘቃንዕን', 'ብራይዶን', '196', 'ንምምሃር', '8500', 'መልሚላ።', 'ይዋን', 'ምንቊልቋሉ', 'ሻንጋይን', 'ሸንዘንን', 'ነግዚኡ', 'ኣዋሃሃዲ', 'ብወነንቲ', 'ዝቕይድ', 'ኣተኣታቲዩ', 'ዊንዶዝ', 'ኤክስፕሎረር', 'ሕታማት', '8፣9', 'ብማይክሮሶፍት', 'ኣይክድገፋን', 'ዝቐረቦም', 'ምውሻብ', 'ግዴታ', 'ኣንቢራ።', 'ብመሬታ', 'ዝሰግሩ', 'ክትኽልክል', 'ዘይትኽእል', 'ሼንገን', 'ኣባልነታ', 'ክውንዘፍ', 'ክትስጎግ', 'ከሚኒስት', 'ጉዋንጃ', 'ከወግዱ', 'ሰሪሖም', 'ሓመሽተ', 'ተጣበቕቲን', 'ደገፍቲን', 'ነጠፍቲ', 'መራኸብን', 'መለዋወጢ', 'ማእኸኑን', 'ብኣገልግሎቶም', 'ብውልቀ', 'ዝተመልሰ', 'ተቓቑተቓውሞ', 'ከየምርሑ', 'ንዓመታዊ', 'ካርኒቫል', 'ኣደናጉያቶ።', 'ዓባይ', 'ቢሊ', 'ኬኖይ', 'ብዝተለኸፈት', 'ዝጋፋሕን', 'ለበድኡ', 'ዴንጉ', 'scientific', 'collaboration', 'ካናዳዊትን', 'ንብዙሕ', 'እተሳትፍን', 'መጓዓዝያን', 'ቦምባርድየር', 'ዝቕጽል', 'ከተቋርጽ', 'እያ፣', 'እዚውን', 'ሰርቢያ', 'ዘይተጠቕዓ', 'ዝዓፀወት', 'ስደት', 'ንዘመላልሰሉ', 'ብምቑራፅ', 'ንቁሸት', 'ኻናሲር', 'ከምዝተቖፃፀሩ', 'ንሰብኣዊ', 'ዝተሓላለፍ', 'ድሉዋት', 'ኣዚዞም።', 'ኣብዝተትሓዘን', 'ማንሱራ', 'ኣብዝፅዋዕን', 'ወደባዊት', 'ኤደን', 'ከምዝተቐተሉን', 'ሰላማውያን', 'ከምዝቖሰሉን', 'ሓኻይም', 'ከባብነ', 'የመንን', 'ፎርኦን', 'ቱታንክ', 'ሃሙን', 'መቃብሩ', 'ራዳር', 'ዝተጣበቑ', 'ኔፌርቲቲ', 'ዝዓረፈትሉ', 'አንፊቱ', 'ነዘርላንዳዊ', 'ፕሮፌሸናል', 'ተጻወታይን', 'ኣሰልጣንን', 'ዮሃን', 'ክሮይፍ', 'ብ1916', 'ፋሲካ', 'ዝተወለዐ', 'ዝተፀምበለ', 'ዝኣተውሉ', 'ንቑፅሪ', 'ኣውሪደምዎ።', 'ከምዝወዓሉ', 'ሊይሴጂክ', 'ዴቲይላሚድ', 'ጭንቀት', 'ምዝባዕ', 'ምሕካም', 'ሙር', '140', 'ኽፀንሑ', 'ተለዋዋጣይን', 'ግብዝነት', 'ዝተመልአን', 'እንትብሉ', 'ቦሪስ', 'ነቒፎም።', 'ደራሲኣ', 'ዘኪራ።', 'ሰክዐት፣ኣብዚ', 'መጻረዪ', 'ቀዳማይት', 'ጎልደን', 'ስተይት', 'ዎሪየርስ፣', 'ኣባላ', 'ስቲፈን', 'ካሪ፣', 'መቚጸይቲ', 'ክእለ', 'ቍጽጽርን', 'ፖርቶ', 'ሪኮ', 'ዝነብር', 'ውሕጅን', 'ናይሮቢ', 'ረሞቕ', 'ህንፃን፣', 'ቡዳፔስት', 'ዝኻየደ', 'ብዝተውሃበ', 'ሚስጥር', 'ኮስቮ', 'ተመሪፃ።', 'ጭፍ', 'ጨፋ', 'መቦቀሉ', 'ስዊዲናዊ', 'ክላቨር', 'ቤሪን', 'ኪንዲ', 'ንማእሰርቲ', 'ፈሪድዎ', 'መረፃ፣', 'ሴኔትን', 'ወናብር', 'ዝዓብለለ', 'ውሒጅ', 'ብምውሓዙ', 'ኮሎምቦ', 'ቬርዲ', 'ኣህጉረ', 'ዝተሓምሸሸት', '804', 'ከምዘመላኽቱ', 'ኣባዲና', 'ቴክሲኮሎጂ', 'ተባዕቶት', 'ኣናፁ', 'ጩራ', 'ብፅኪ', 'ሓደግኡ', 'ከምዝኮነ', 'ጀሚሩ፣', 'ክጸሉ', 'ምልክታታት', 'ብዘቤታውን', 'ማእከላይን', 'ምእዋጅ', 'ክልኩል', 'ፔሌ', 'ብመንግዲ', 'ጁልያን', 'ጨርታ', 'ንብረቱ', 'ዝሸይጥ', 'ገሊጹ፣', 'መዳልያታቱን', 'ሽልማቱን', 'ማልያታቱን', 'ህያባቱን', 'ከምዝተረኣዮ', 'ስለዝተረጋገፀ', 'ወሲና።', 'ንዚካ', 'ምጥናስ', 'ውጥነን', 'ከናውሕኦ', 'ሳይንቲስትታት', 'መረዳአታ', 'ሞገድ', 'ከምዝካኣሉ', 'ብ2015', 'ዘትሰወሩ', 'ሸየጥቲ', 'ተሳቲፈ', 'ክኣምን', 'ብወኪላት', 'ተገዲደ', 'ተዛሪቡ', 'ብማሕነቕቲ', 'ክቐትሉ', 'ስለዝደልዩ', 'ቡካማል', 'ተባሂለ', 'ንትፅዋዕ', 'ብኣይ', 'ምብራቓዊት', 'ሪፐብሊካን', 'ስለዝሓረዮም', 'ብፀጋ', 'ተቐቢሎምዎ።', 'ደያኑ', 'ተነጽገ፣', 'ወላ', 'እንተሓለፉ፣', 'ኣይፍቀደሎምን', 'ዝሰፍር', 'ኢንች', 'ቝጠባ', 'ንምብርባር', 'የን', 'ዘነቓቕሕ', 'መወዓውዒ', 'ዲሞክራቲክስ', 'ኤሌትሮኒካዊ', 'መጥቃዕታት', 'ንወፍሪ', 'ሄላሪ', 'እተጠቀዕ', 'የካይድ', 'ብዓማፅያን', 'ተትከሓዘ', 'ሰቃሪብ', 'ዝተደርበየ', 'ህፃውንትን', 'ከምዝተጎድኡ', 'ኣለሻን', 'ምድሓንን', 'ቻይናዊት', 'ዩቱ', 'ድህሰሳ', 'ተዓጽያ', 'ምርግጋፁ', 'ንውድብ', 'ጃሙን', 'ሕላፍ', 'ብምብቅዑ', 'ዝተዋፅአ', 'ክኢሉ።ው', 'ሲንጋፖር', 'ብቫይረስ', 'ዝተለኽፉ', 'ሓርማዛት', '2007', 'ዝቐነሰሉ', 'ሊጎ', 'ከምዘረጋገፁ', 'ምምካኽ', 'ኢስዋ', 'ግሪንስቶን', 'stromatolite', 'ተረኺባ።', 'ፑቲንን', 'ሓድሕድ', 'ዝምልከት', 'ንምስምማዕ', 'ፈሺሎም።', 'ሻሬ', 'ናው', 'ተፈፂሙ፤', 'ተዘርጊሑ።', 'ሓማሲ', 'ሪያን', 'ሎችቶ', 'ን10', 'ክእገድ', 'ዝተስማመዐ', 'ብፆቱ', 'ን4', 'ከምዝበፅሐን', 'ብሮንክስ', 'ሃፒ', 'ላንድ', 'ፋየር', 'ዘሕረረ', 'አሜሪካዊ', 'ዓካኲ', 'ጁልዮ', 'ጐንዛሌዝ', 'ሞይቱ', 'ኣንጄሊና', 'ጆሊ', 'ኣብመንጐኦም', 'ዘይዕረቕ', 'ጐንፂታት', 'ጠቒሳ', 'ብራድ', 'ፒት', 'ንምፍታሕን', 'ምንባይ', 'ደቃቶም', 'ከፊታ።', 'ቲክሪት', 'ዝተፈፀሙ', 'እንትቐትሉ', 'ኣቑሲሎም።', 'ሓጸብቲ', 'ሳምሱንግ', 'ከበድቲ', 'ክዳውንቲ', 'ብልዑል', 'ቅልጣፈታት', 'ሓጺበን', 'ክትኮሳ', 'ክፍንጀራ', 'ፍልማዊ', 'ሲንጋፖርን', 'ታይላንድን', 'ኤሲያ', 'ከምዝቕፅል', 'ኣገልግሎቱ', 'ሓቂ', 'ኣዳሊዩ።', 'ሮድሪጎ', 'ባዕዳዊት', 'ገዛኢታ', 'ብምብታኽ', 'ከምዝተለሙ', 'ተዛሪቦም።', 'ሞሱል', 'ተዋጊኦም', 'ዓሚፆምዋ', 'ኣልዒላ።', 'ሳይፕረሰ', 'ውህደት', 'ምሩጽ', 'ይራኸብ።', 'ሳምሰንንግ', 'ኤሌክትሮኒክስ', 'ሃርማን', 'ኢንዳስትሪስ', 'ዝማእኸሉ', 'ብሸሞንተ', 'ንምዕዳግ', 'ዝተሰማመዐ', 'ዝፈፀሞ', 'ቢጫ', 'ብምንካስ', 'ሓደገኛታት', 'እናኾኑ', 'ብምምፅኦም', 'ከምዘብቅዐ', 'ንንኩሌራላዊ', 'ክትህበሉ', 'ኣያቶላህ', 'ኻመነይ', 'መሰናኽል', '435', 'ማይልዝ', 'ብምቖት', 'ዝተቐትለ', 'ዝና', 'ወርቃዊ', 'ሆሊውድ', 'ተዋስኣይን', 'ኣሰናዳእን', 'ዳግላስ', 'ኪርክ', 'ልደቱ', 'ብዝትወለዐ', 'ዝሞተ', 'ኦርሊዮንስ', 'ሰይንትስ', 'ዊል', 'ስሚዝ', 'ካርዴል', 'ሃዬስ', 'ሉዊዛንያ', 'ወሲኑ', 'ብሩክሊን፣', 'ዝተወግኡ', 'ኣሜሪካዊት', 'ዴቢ', 'ሪኖልድስ', 'ጓላ', 'ኬሪ', 'ሞተት', 'ብዘጋጠማ', 'ሓሊፉ', 'ኣቪቻይ', 'ማንዴል', 'ብሊት', 'ኔትናያሁ', 'ዝተጠርጡሉ', 'ኣዚዙ', 'ምትእታው', 'ሩስያውያን', 'ሰጒጋ።', 'ጃርካሃንድ', 'ልዕሊኦም', 'ምስፀቐጦም', 'ንሞ', 'ፋራህን', 'ቴኒስ', 'ሙራይን', 'ናይት', 'ሂበን።', 'ክባር', 'ገይፂታት', 'ግሬግ', 'ዝተዘረፈ', 'ምስምኻኑ', 'ምእላሽ', 'ይርከቡ', 'ኣፖሎ', 'እተረኽበ', 'ኡክላ', 'ሹፌራት', 'እንትቖፅር', 'ክረኽብዎ', 'ንዝኽእሉ', 'እናጋነነ', 'ኣታሒቱ', 'ኡበር', 'ንኮሚሽን', 'ክኽሕስ', 'ጃፓናዊ', 'መቆጻጸሪ', 'ንተጠቀምቲ', 'ዘደናግር', 'ከመሓይሾ', 'ማሽሃድ', 'መዲና', 'ብ2017', 'ብኣይሴስኮ', 'ሰፈራ', 'ዘፅደቑ', 'እንትኾኑ', 'ኣብዝመፁ', 'ተሊሞም', '104', 'ሳተላይታት', 'ብምውንጫፍ', 'ሲያትል', 'amazon', 'com', 'ዘብሎም', 'ጓቲማላ', 'ነዘርላንድዝ', 'ዘይመንግስታዊት', 'ዎማን', 'ኦን', 'ወይቭዝ', 'ባእታታት', 'ዝሓዘለት', 'ዓጊቱ።', 'ካሲይ', 'ኣፍሌክ', '“ማንቼስተር', 'ባይ', 'ሲ”', 'ዝተብሃለን', 'ኦሪጅናል', 'ዝተሓረየን', 'ንዝበለፀ', 'ተዋሳኣይ', 'ንባጀት', 'ክትውስኽ', 'መዲባ።', 'እስራኤላውያን', 'ራምሌ', 'እንግሊዛውያን', 'ዝኸዱ', 'ጠራሙዝ', 'ዊስኪን', 'ጂንን', 'ምውጋእ', 'ሄልማንድ', 'ንትርከብ', 'ስትራቴጂያዊት', 'ሳንጂን', 'ተቖፃፂሮም።', 'ምሽታዊት', 'ፓሮት', 'ከምዝተርኣየትን', 'ከምዝተልዓለትን', 'ቢግ', 'ማፕል', 'ሊፍ', 'ኪሎግራም', '220', 'ዝምዘንን', 'ዝውክልን', 'ሳንቲም', 'ቦዴ', 'ተሰሪቑ', 'ትዋሰን', 'ፓርቺናር', 'ዒላ', 'ን50', 'ሃርጄደሌን', 'ስቬግ', 'ብምግልባጣ', 'ግብፃውያን', 'ዳህሹር፣', '3700', 'ስርወ', 'ፒራሚድ', 'ንመፈለምታ', 'ወታደራታ', 'ክተወፍር', 'ምስደባይ', 'ተዋጋ', 'ኣልሻባብ', 'ዝስራሕ', 'ላይብረሪ', 'ተማሟጎትቲ', 'ምክያዶም፣', 'ቀተልቲ', 'ነባርን', 'ዶልፊንን', 'ብምእጋድ', 'መዕቖቢታት', 'እንስሳታት', 'ከግፍሑ', 'ሌበራላውን', 'ምምዕባላውን', 'ፔሪ', 'ክሪስቲ', 'ብሁበር', 'ሚኒስ', 'ኣሚኑ።', 'ብቲም', 'ሞስዴል', 'ርጋፅ', 'ከይፈረሰ', 'ኣይተርፍን', 'ጥርጣረ', 'ሚንያ', 'ንኮፕቲክ', 'ክርስቲያናት', 'ኣሳፈሪን', 'ይጓዓዛ', 'ቺፖትል', 'ግሪል', 'ጎርጎርቲ', 'መብዛሕቲአን', 'ጨናፍሮም', 'ከምዝሰረቑ', 'ኮሎምቤይ', 'ጅግና', 'ቻርለስ', 'ደጐል', 'ከምዝዓነወ', 'ፀብፂቦም', 'ሮድሪጐ', 'ሚንዳንዎ', 'ምእዋጆም', 'ፊሊፕንስን', 'ኮሙኒስት', 'ፓርቲን', 'ተሰሪዙ', 'ቶባኮ', 'እትመጽእ', '፣ከምዝተለመ', 'እተገበረ', 'ኣፍሊጢ።', 'ፈደራላዊ', 'ካፕላን', 'ጎሰስ', 'እናበለ', 'ዝዓቢ', 'ካምደን', 'ተፈቲኑ', 'ምስኣበየ', 'ፖለቲካን', 'ኖቤልን', 'ሺያቦ', 'ዘይድሕን', 'ጉበት', 'ከምዝሓዞ', 'ተፈቲሑ።', 'ፈረንሳ፣', 'ማሬ', 'ሎፓን፣', 'ምወላ', 'ብዘይኣገባብ', 'ተጠቒማ', 'ቀሪባ።', 'ባንግላዴሽ', 'ዳካ', 'መውዓዪ', 'ከኤሌትሪክ', 'ብሕንፋፅ', 'ፅዓት', 'ዝንቀሳቐሳ', 'ክገላገል', 'ተሊሙ።', 'ንተን', 'ሄብሮንን', 'ጳጳሳትን', 'ቅርስታት', 'መዝጊቡወን።', 'ዕምሪ', 'ከናውሕ', 'መጽናዕቲ፣', 'ብኢምፐርያል', 'መንሽሮን', 'ተኻዪዱ፣', 'ብኬክ', 'ተኻዪዱ።', 'ኒዊዚላንድ', 'ሜንዝ', 'ጎኖርያ', 'ክህልዎ', 'ንጡፋት', 'ድጋፍ', 'መልእኽትታት', 'ይዝርግሓ', 'ስፔንን', 'ፊፋን', 'ዩፋን', 'ኣንጀል', 'ቪላር', 'ወዶም', 'ሰኔት', 'ዕጻ', 'ፋርስ', 'ተፈጺሙ', 'ንዝብሉ', 'ስምዓት', 'ተዓቑሩ', 'ትሕዞ', 'ባቅር', 'ቓሊባፍ፣', 'ብኣራሚ', 'ነጀፊ', 'ተተኪኡ', 'ቲህራን', 'ክስየም', 'ፊሪታውን', '350', 'ሞይቶም፤', 'ከምዝድይብ', 'ጀርመናዊት', 'ንዝኾነትን', 'ድውየት', 'ብዘርኣየቶ', 'ውፉይነት', '“ናይ', 'ማማ', 'ቴሬዛ”', 'ንትፍለጥን', 'ፈላሲት', 'ፕፋው', 'ቐብሪ', 'ሃሪከን', 'ዝተቐየረ', 'ብትሮፒካል', 'ዲፕሬሽን', 'ሃርቬይን', 'ከምዝዓልብ', 'ከምዝግመትን', 'ንህይወት', 'ማዕበል፣', 'ንፋስን', 'ከምዘጋጥመን', 'ካድዌል', 'ንረጎድቲ', 'ዘግልልን', 'ዝኽኑ', 'ቀጠንቲን', 'ዘለዎምን', 'ብምግላጹ', 'ዝወልዐ', 'ተዓፅዩ፡እቶም', 'ኣማሓደርቲ', 'ብፍቃዶም', 'ለቒቆም።', 'ዘይማዕርነት', 'ተወርየ', 'ፋይናንሻል', 'ብሓርገፅ', 'ውግእን', 'ዝወሰኸ', 'ገሊጹ', 'ወግእ', 'ሩሲያን', 'ሶሪያን', 'ብዝካየድዎ', 'ሲቪላት', 'ኣቑሲሎም', 'ከምዘንበሩ', 'ኣነ', 'ስትዮ', 'ምዝዋር', 'ሞናርክ', 'ኤየርላይንስ', 'ጥፈሻ', 'ኣቲያ፣', 'ኣቢላ፣', 'መገሻታት', 'ሰሪዛ፣', 'ዝቝጸሩ', 'ከማዕበል', 'ፖርቶሪኮ', 'ንዝተቛረፀ', 'ብፕሮጀክት', 'ሉንስ', 'ባሉንስ', 'ንዝሓዞ', 'ዲፓርትመንት', 'ዮርክን', 'ዌይንስቴይን', 'ጥርዓናት', 'ዳይሬክተራት', 'ተርእዮታት', 'ንዝቐንዝቐረቦ', 'ዌይንስታይን', 'ንምብራር', 'ካዛክስታን', 'ናዛርባዬቭ', 'ኮዛክ', 'ፊደላት', 'ሲይሪሊክ', 'ገዲፉ', 'ብፊዳላት', 'ላቲን', 'ኑክሊየር', 'ብልሹው', 'ከምዝውለዱ', 'ሰሊሙ', 'ይፍጽም።', 'ንጽዋዕ', 'ተጋጣሚት', 'ብምሕላፋ', 'ጎነጽ', 'ምቕያሩ', 'ተጉዲኦም።', 'ሪስቶር', 'ሌጋሲ', 'ዝተኣሰረ', 'ዙምባቤዌ', 'ኢግናትዮስ', 'ቾምቦ', 'ሃራሬ', 'ብምጭብርባር፣', 'ብዘ', 'ኣግባብ', 'ብምጥቃምን', 'ብግዕዝይናን', 'ገበ', 'ናት', 'ዝሰምዕ', 'ግሊፎሰት', 'ጌርካ', 'ክትጥቀመሉ', 'ክፍቀድ', 'ኢንክ', 'መደይ', 'ንገሊኡ', 'ተሌፎናቱ', 'ፍጥነቶም', 'ዝነከየ', 'ምእማኑ', 'ተሪር', 'መልስን', 'ክስታትን', 'ኣጋጢሙዎ።', 'ዘንበረቶም', 'ኢሉ’ውን', 'ማዕገትቲ', 'ክሊንተንን', 'ዝነኣዱ', 'ሰብኣይን', 'ዝነኣዳ', 'ኣንስተይትን', 'ጋላፕ', 'ወራር', 'ምዕራባውያን', 'ንዝበለቶ', 'ንኸይወሃብ', 'ኣተግቢራቶ።', 'ዚምባብዌ', 'ሮይ', 'ቤኔት', 'ራኮን', 'ኢግልዝ', 'ሚነሶታ', 'ቫይኪንግዝ', 'ምርታዓ፣', 'ኣምሐራ', 'ወልዲያ', 'ኣመንቲን', 'መነባብሮ', 'ብሩጌስ', 'ብምውጋእ', 'ኣፅኒሕዎ።', 'ዓልየት', 'ኣዴሊያ', 'ፔንጊዮን', 'ኣፀገምቲ', 'ዩኒሴፍ', 'ኣዋልድ', 'ምርዑዋት', 'እየን፣', 'ክነጻጸር', 'ተኸልኪሉ', 'ጋዜጠኝነት', 'መፅሄት', 'ሙዚካል', 'ኤክስፕሬስ', '66', 'ሕታሙ', 'ብዲጅታል', 'ክቕፅልዩ', 'ዝፍፅም', 'ከምእትሰደደ', 'በርግስቶርም', 'ቤትፅሕፈት', 'ምቕባል', 'ፕሮሰሲንግ', 'ዩኒት', 'ኒቫዳ', 'ዘዋሪ', 'ዝሽክርከራ', 'ኣቋሪፁ።', 'ኣንድርዘጅ', 'ዱዳ', '1944', 'ዴስነት', 'ንዘገልገሉ', 'ወተሃደርነት', 'ክመልስ', 'ንዝተፅሓፈ', 'ኣውዲቖምዎ።', 'ርእየታዊ', 'ዘይልሙድ', 'ሰሓብቲ', 'ዓይነታት', 'ብዝላዓለ', 'ይጽንታ', 'ምዃነን', 'ዊን', 'ሚይነት', 'ኮሎምቢን፣', 'ተማሃሮ', 'ተቓውሞኦም', 'ወጺኦም።', 'መሪካዊ', 'ኦንን', 'ድልየታ', 'ከተርቲ', 'ሱሪናም', 'ንዘፈፍቲ', 'ከምዘጥቅዑ', 'ጉያና', 'ደሞክራስያዊት', 'ሴርጅዮ', 'ማታሬላ', 'ቬቶ', 'ተክኖክራታዊ', 'ሳቮና', 'ንኸይከውን', 'ርቑሕ', 'ጆዜፐ', 'ኮንተ', 'ንምቋም', 'ኣቋሪጹ።', 'ሱፐር', 'ባወል', 'ኤልii', 'ኢግልስ', 'ዓወቱ', 'ንምፅምባል', 'መዝሙር', 'ቅልውላውን', 'ከምዝተሰረዘ', 'ዋልት', 'ዲዝኒይ', 'ልአትመወዳእታ', 'ብጉድለት', 'ስነምግባር', 'ኣኒሜሽን', 'ከምዘይቕፅል', 'ሰክዒት፤', 'ጐልደን', 'ክሊቭላንድ', 'ካቫላየርስ', 'ስለዝሰዓረ', 'ነዘርላንድስ', 'እንቋቝሖ', 'ብፋይፕሮኒል', 'ተመሪዙ', 'እተጠራጠረት', 'ሰዲዳ።', 'ክሌቨላንድ', 'ንዝተፈፀመ', 'ብምትላም', 'ዲሚትሪየስ', 'ፒትስ', 'ኣቢ', 'ኣፈወርቂ', 'ተራኺቡ', 'ዴቪስ', 'ኣብዝግበር', 'ዘይተሰማምዑ', 'ታም', 'ሉዋንግ', 'ናንግ', 'ኖን', 'ኣድሒኖም።', 'ዝደሓኑ', 'ኣቢሎምዎ።', 'ፕሎገር', 'ማኢዳ', 'ሆጃብሪ', 'ተቓውሞአን', 'ርእሰን', 'እናሳዕሰዓ', 'ዘርጊሐን።', 'ኲበክ', 'ደይቡ፣', 'ካብዚኣቶም', 'ሞንትሪያል', 'ንቤልጅየም', 'ክትወፅእ', 'ገይራታ፤', 'ክሮሺያ', 'ኢራን፣', 'ብምቅላስ', 'ንምዕሳልን', 'ንምጥፋእን', 'ኣስትሮ', 'ጁኖ', 'ዝተኣከበ', 'ጐመራ', 'ስነምግባራዊ', 'ጠቂዕኹም', 'መቐፀልታ', 'ሞዴላትን', 'ተሓባበርቶምን', 'ዞሎ', 'ምኻኑʼዩ', 'ብዝተነበሩ', 'ባህ', 'ኣይበሎ', 'ንዝተጎድኡ', 'ኣርባሕቲ', 'ድጎማ', 'ዘቤታዊ', 'ፖሊመራት', 'ተሓዋዊሱ', 'ዝበጽሕ', 'ክዝውተር', 'ኣይክእልን', 'መርማሪት', 'ፓርከር፣', 'እተሰነዐት', 'ሩሲያ', 'ክኔሲልን', 'ዎልፍጋንግ', 'ማሊንገርን', 'ሽያንግ', 'ሕቖ', 'ብዝመዝገበቶ', 'ካልኢት፣', 'ዘማሓይሽን', 'ንቅሪተ', 'ፍሪንሲስኮ', 'ፍራንኮ', 'ቫሌ', 'ካድዮስ', 'ዝፈቕደሉን', 'ኤሎን', 'ንኩባንያ', 'ቴስላ፣', 'ዝሓሰበ', 'ንሱን', 'ኩባንያን', 'ክምዝቕጽል', 'ንዝኾነት', 'ኬርማንሻህ', 'ኣጥቂዑ', 'ኢንግላንድን', 'ዌልስን', 'ክፈቕዱ', 'ከምዝግበረሎም', 'ብቀታሊ', 'ዝተለኽፈ', 'ሴኦል', 'ይግበረሉ', 'ዱካናት', 'ዝዓልየቶም', 'ኮያ', 'ዝርከቡሉ', 'ኩርዲስታን', 'ደብዳብን', 'ዝሸፈነ', 'ካስኬይስ', 'ፖርቱጋል', 'ን”ብሉፅ', 'ከያኒ', 'ዓመት”', 'ዝዓተረ', 'ቴይለር', 'ስዊፍት', 'ብዊትኒይ', 'ኣመሓይሹዎ።', '159ዲ፣', 'ሳቶርን', 'ግዝፊ', 'ኮኾብ፣', 'ብተማሃራይ', 'ክሪስ', 'ፎክስን', 'ፕሮፈሰር', 'ዌገርትን', 'ኮባልት', 'ብሃንደበት', 'ዝፈረሰት', 'ስርሒታት', 'ሰሪዛ', 'ቆጵሮስ', 'ፍሬይበርግ', 'ምሰዝተፈፀመ', 'ብዝትዛመደ', 'ኣሲሮም', 'ተጠርጠርቲ', 'ኣለሽ', 'ጃማ', 'ኢንተርናል', 'ኣደን', 'ህጻንን', 'ሕርሲ', 'ዝጠንሳ', 'ክጽበያ', 'ደንማርክ', 'በስዑዲ', 'ጣልቃ', 'ጀማል', 'ካሹግጂ', 'ንግስነት', 'ይወሃብ', 'ምልኣኽ', 'ኣወንዚፋቶ', 'ትርከብ።', 'ከምዝጅመር', 'ሽወደን፣', 'ሪክስባንክ፣', 'እትኽእል', '1471', 'ተርእዩ', 'ቢቨር', 'ብካሜራ', 'ተርእዩ።', 'ጐን', 'ውልቁ', 'ኪሳራ', 'ተኣሲሩ።', 'ካብዝሕዙ', 'ቢሪታንያ', 'ሉዊ', 'ሩድ', 'ንኣንታርከቲካ', 'በይኑን', 'ብዘይሓገዝን', 'ብእግሩ', 'ተጓዓዙ', 'በይኑ', 'ኖርዎጂያን', 'ቦርግ', 'ኦስለንድ', 'ዓመፅቲ', 'ተቖፃፂሮምዎ', 'ሁዴይዳ', 'ንሓለዋ', 'ባሕሪን', 'ኣማ', 'ሓደርቲን', 'ከምዘረከቡ', 'ብንፁር', 'ኣብዘይተወሰነ', 'ዘካይዱዎ', 'ንምምካር', 'ክገሹ', 'ሱላዌሲ', 'በፂሑ፤ሽዱሽተ', 'ኣይተረኸበን።', 'ግደምዕራፍ', 'ዝተፅዓነ', 'ታይም', 'ክስልሉ', 'ኣሶሼትድ', 'ፕሬስን', 'ስኖፕስን', 'ዝህብዎ', 'ሓቕታት', 'ምምስኻር', 'ከምዝቋረፁ', 'ገሊጾም', 'ሞቃዲሾ', 'ዝተፃወደ', 'እንትቕተሉ', 'ካልአት', 'ኒዊዝላንድ', 'ኒልሰን', 'መንበሪታት', 'ዓንዮም።', 'ክዩፕሳትስ', 'ዝተባህላ', 'ከምዝሳኣና', 'ዌስትቤርይ', 'ሎንግ', 'ሬይል', 'ሮድ', 'ባቡራት', 'ተላቲመን', 'ኣማሓዳሪ', 'አንድሪው', 'ኩም', 'ጆ', 'ፔሪኮሴ', 'ዋሕስ', 'ስለዝተ', 'ኸልኸለ', 'ብላዕ', 'ሸዱሽ', 'ይግበር', 'ብዩናይትድ', 'ዝሕገዙ', 'ክፉል', 'ባግሁዝ', 'ንምምንጣል', 'ናዛርባዪቭ', 'ምውራድ፣', 'ካዛኽስታን፣', 'ቃስም', 'ጆማርት', 'ቶካዪቭ', 'ፈጺሙ።', 'ጀይዝ', 'ሉችያኖ', 'ባይዝቦል', 'ዝሳተፍ', 'ዝተወለደ', 'ሳይንት', 'ጃኹዊስ', 'ብምስዳር', 'ራብዓይ', 'ደበንሃምዝ', 'ያንግትዝ', 'ሉስሉስ', 'ዝኮነትን', 'ዝወደቐት', 'ፍጥረት', 'ዝፀንሐትን', 'ጎብየ', 'ሱዝሁ', 'ምሸታዊ', 'ብዝትተኮሰ', 'ዉድዝ', 'ኣጉስታ', 'ቱርናመንት', 'ነይሩ', 'ዝተዓወቶ', 'ንህፃናት', 'ስጋዊ', 'ትሕዝቶን', 'ከቃልዖም', 'ማድራስ', 'ምብያኑ', 'ጉግልን', 'ካብዝርከቡ', 'ኣወጊዶምዎ።', 'ንጄምስ', 'ባየርድ', 'ዊልያም', 'ብሞት', 'ካብዝፍረዶ', 'ብመርዛም', 'መርፍእ', 'ዝተወቕዐ', 'ይቃለሱ', 'ሰሎሞን', 'ፈሰሰ', 'ጸምበለል', 'ጻዕርታት', 'ተጀሚሩ', 'ጀርመንን', 'ነዘርላንድዝን', 'ዛዪዱ', 'ምስልጣን', 'ኣወንዚፈኖኦ', 'ሃንጋርያውያንን', 'ሮማንያውያንን', 'ኣፈላላዮም', 'ብምዕራይ', 'ንኽነብሩ', 'ዝሓፈ', 'ንዝትተኮሱ', 'ጐላን', 'ብዘካየደቶ', 'ቢች', 'ንኮምፒዩተራት', 'ንዝተቖፃፀረን', 'ጎርጓሪ', 'ክትከፍል', 'ዝገለጾ', 'ቦምባታ', 'ንደቡባዊ', 'ክሊ', 'ዝጠሓሰቶ', 'ከሰንዩዋ', 'ተገዲዶም', 'ኢራንን', 'ዝበርተዐሉ', 'መዳጐኒ', 'ቐፅሪ', 'ቡቸንዋልድ', 'ሰዶማውያን', 'እዩም', 'ንምዘካር', 'ኣመሓላላፊ', 'ዚስደድ', 'እተጽብቦ', 'ፅምብልን', 'ቬኔዝዌላ', 'ሊማ', 'ሆሄ', 'ፉዋሬ', 'ብሰንኪ’ቲ', 'እንትበፅሕ፣', '347', 'ተገይሩሎም።', '622', 'ዴንግ', 'ነደፍቲ', 'ኸም', 'ክሎርፒሪፎስ', 'ዝበሃል፣', 'እተኣገደ', 'ዝቐዘፉ', 'መቕተልትታት', 'ዋልግሪንስን', 'ዓማዊሎም', 'ንምውህሃድ፣', 'ተዃናተርቲ', 'ግላውያን', 'ንምምዳብ', 'ዝተኣመመ', 'ጸዲቑ።', 'ብረቱ', 'ከምዝዓመረ', 'ክሕሰብ', 'ከምዝፈነዎ', 'ሪያድ', 'ኣገንዚቦም', 'ጽርግያታት', 'ተዓጽየን', 'ዴሞክራክቲክ', 'ንክትባት', 'ብመቑነን', 'ክዋሃብ', 'ከሲሱ።', 'ጎንፀን', 'ክፈትሓ', 'እንተዘይከኣላ’ኳ', 'ክቕፅላ', 'ምሙዓግ', 'ሺሻ', 'ትምባኮ', 'ብዝተኣሳሰረ', 'ሳንባ', '299', 'ዘየብፅሕ', 'ከምዘጋጠሞምን', 'ስታዲዮም', 'ዝኣተዋሉ', 'ንካምቦድያ', 'ንኽህሉ', 'ብዝገበርዎ', 'ጎልፍ፣', 'ዉድስ', 'መመረቕታ', 'ዞዞ', 'ጸወታኡ', 'ፒጂኣ', 'ብዚብል', 'ንሂደኪ', 'ማትሱያማ', 'ግላዓት', 'ምስዓሩ', 'ሳም', 'ስናድ', 'ኣተሓሒዝዎ', 'በዓልሞያ', 'ዝስፍሓቱ', 'ቀለበት', 'ቲደንሃም', 'ግሎስተር', 'ሻያር', 'ዘንሰሓበት', 'ንውዱብ', 'ሰዶም', 'ገይርኩም', 'ዝተበሃሉ', 'ማሌዢያውያን', 'ክእሰሩ፣ብገንዘብ', 'ክቕፁዑን', 'ክግረፉን', 'ተፈሪዶም።', 'ንሂንዱን', 'ሙስሊማትን', 'ከዋጥጥ', 'ንሂንዱ', 'ፈሪዱሎም።', 'ፖዞ', 'ጎቶ', 'ሲሲሊይ', 'ርችት', 'ብዝበፅሐ', 'መዋቕዒ', 'ምዃኑን', 'ይፃረይ', 'ባሜንዳ', 'ንምዕራፍ', 'ትፍተነሉ', 'እንተገጠማ', 'ኣብራሪ', 'ከይበፅሓ', 'ብዳሓን', 'ኣዕሪፋዋ', 'ኢቮ', 'ሞራሌስ', 'ናብዝሃበቶ', 'ኣቲዩ።', 'ብዲሞክራስያዊ', 'እንተገበሩ', 'ብኤል', 'ክላሲኮ', 'ካምፕ', 'ኑ', 'ፅኑዕ', 'ብዘዋደዶ', 'ዝተሳተፉን', 'ዝድግፉ', 'መልእኽቲታት', 'ዘጋውሑን', 'ኣጊዱ።', '850', 'ዝኽፈል', 'እትንኪ', 'እተፈላለየ', 'ኢንዱስትሪታት', 'እትወስድን', 'ማጆር', 'ሹም', 'ቫንስ', 'ንድሕንኘቶም', 'ክበሃል', 'ከምዝጎዓዓዙ', 'ካሮል', 'ኣቦወምበር', 'ጎስን', 'ምስክርነት', 'እንትትህብ', 'ሓሲዋ', 'ንኽትተሓዝ', 'ውሽጣዊ', 'ጕዳያት', 'sz', 'dji', 'technology', 'ዝሰነዓቶ', 'ዝተላዕለ', 'ኣልቡ', 'ፔንሳኮላ', 'ንሰበስልጣን', 'ዝተዓፀዉ', 'ስልኪታት', 'ከምዘይኸፍቶም', 'ንፍራንሴስካ', 'ጂዮቫኒ', 'ዝጥምት', 'ሸይማ።ንሳ', 'ዝረኸበት', 'ራይደርስ', 'ብስሩዕ', 'ዳጊም', 'ስያሜኡ', 'ሪይደርስ', 'ዝኒሀ', 'ዘውፆኦ', 'ካናሪ', 'ላጐሜራ', 'ከምዝተረኸበን', 'ዑደተኛ', 'ዝሕምበብ', 'ኪንግደምን', 'ኣየርላንድን', 'ከምዝተመዝገበን', 'ከምዘስዓበን', 'እተእትወን', 'ምግባራ', 'ካብእትቆፃፀሮ', 'ኣለዓዒሎም', 'ሸኽ', 'ራኢድ', 'ሳላሕ', 'ሞተርስ', 'ብየማናይ', 'ዝምረሓ', 'ብምውጻእ', 'ሆልደን', 'ንግድ', 'ኣቋረጻ።', 'ሌሴቶ', 'ቶም', 'ትባኔ', 'ሰበይቱ', 'ዝቕርበሉ', 'ተውሂብዎ', 'ኣልስት', 'ድንቂ', 'ሂቡዎ', 'ንኣይሁዳውያን', 'ዘናእሱ', 'ምስልታት', 'እንተልዐሎ’ኳ', 'ተፀምቢሉ', 'ውዒሉ።', 'ኢስላማባድ', 'ንዕረፍቲ', 'ምጽናሕ', 'ዝምለሱ', 'ግሉል', 'ተሃኒጹ', 'ሳንቱ', 'ዶሚንጎ', 'ሮቤርቶ', 'ሳልሴዶ', 'ዶሚኒካንን', 'ኩክ', 'ግብረሰዶምነት', 'ዘሕትት', 'ክኽውን', 'ብምግባሩ', 'ኮኒንዎ።', 'ኔፕቶን', 'ንነየው', '139', 'ፕላኔታት', 'ዝረኸቡ', 'ታሽዐይቲ', 'ዘየገደሶም', 'ኣድነቕቲ', 'ቫይቭ', 'ላቲኖ', 'ኢዮሩሳሌም', 'ዋቅፍ', 'waqf', 'ኣልኣቅሳን', 'ጉልላት', 'ኮክሒን', 'ከምዝተዓፀዉ', 'ብሪጣንያዊት', 'ሎራ', 'ኣሽሊ', 'ሓ', 'ኮሮናቫይረስ', 'ዘኸተለ', 'ብምግላጽ', 'ወዲቑ።', 'ያንግ', 'ተወንጨፍቲ', 'ከምዝተኮሰት', 'ዮንሃፕ', 'መምከኒ', 'መሳርሒታትን', 'ልኢኹ።', 'ኮንቴይነር', 'ተዓሺጎም', 'ብማኪና', 'ይጎዓዙ', 'ቴቴ', 'እንትበፅሑ', 'ምስኣን', 'ተዓፊኖም', 'ፊጂ', 'ሃሮልድ', 'ሽወደናዊት', 'ኣፍራዪት', 'ተዓጽዩ', 'ዝነበረ፣', 'ቶርስላንዳ', 'ሽወደን', 'ፋብሪካኣ', 'መሳርሕታት', 'ጉድለት', 'ዘስፋሕፍሖ', 'ክላውድ', 'ከምዘካይድ', 'ዝገለጸ', 'ፊል', 'ሙርፊ', 'ባሕሪኦም', 'ዝኽፈታ', 'ግናኸ', 'ቀይድታት', 'ማዳጋስካር', 'መዝጊባ፤', 'ዝስኣነ', 'ብሕዱር', 'ሽኮሪያን', 'ደምን', 'ዝሳቐ', 'ዕድምኡ', 'ኣትሒዙ፣', 'ፈላማ', 'ብዝተወሰደ', 'ምዕፃው', 'ድኻ', 'ኣብዝርከበሎም', 'ስለዘጋጠመ', 'ዝቐንዐ', 'ተቐውሞ', 'ተወሊዑ።', 'ኢንዲያናፖሊስ', 'መንነቶም', 'ዘይተፈለጡ', 'ሓሚሙ', 'ከምዝሓሾን', 'ዝተለኸፈ', 'ከምዘየለን', 'ኣሳም', 'ባግሃጃን', 'ጉድጓድ', 'ኣብዘጠቓለለ', 'ኢንክሮቻት', 'ዝስያሜኡ', 'ገበነኛታት', 'ዕፃት', 'ንምሻጥን', 'ንምውዳድን', 'ምሽጥራውነት', 'ሰርሲሩ', 'ሲንግ', 'ህንድን', 'እናበርተዐ', 'ብምምፅኡ', 'ክተእተዎ', 'ደግሲ', 'ካሊፎርኒያን', 'ኣሞንየም', 'ናይትሬት', 'ብዘይጥንቓቐ', 'ንሽዱሽተ', 'ዝተኸዘነሉ', 'ቤይሩት', 'ግራንዷሳ', 'ጀኖዋ', 'ዝነቐለት', 'ክልሕልሕ', 'ከምዝደየበ', 'ስቶን', 'ማውንቴን', 'ኣንቲፋ', 'ዝተብሃሉን', 'የማናውያንን', 'ፅንፈኛ', 'ኮንፌዴራሲዮን', 'ተጋጪዎም።', 'ከምዝዛየደ', 'ስታቲስቲክስ', 'nfl', 'ዓመተ', 'ኵሎም', 'ኣሰልጠንትን', 'ኾፍ', 'መበሊ', 'ኺገብሩ', 'ኺሓትቶም', 'ናና', 'ዝተፀወዐ', 'ትሮፒክ', 'በሊዝ', 'ናህሩ', 'ክጓዓዝ', 'ዝመዝገበት', 'ፀብፂባ።', 'ቱርካዊ', 'ቮልካን', 'ቦዝኪር', 'ታምፓ', 'ላይቲንይንግ', 'ስታርስ', 'ስለዝስዓረ', 'ዋርድያ', 'ንኢራን', 'ዝወገነ', 'ንምንዛሕ', 'ከምዝጥቀመሎም', 'ዝተኣመነሎም', 'ሞንጎልያ', 'ምድረበዳ', 'ጎቢ', 'oksoko', 'avarsan', 'ሓሺሽ', 'ገበረቶ', 'ዝገለጸቶ', 'ሮሂንጋ', 'ክትሕተተሉ', 'ሄግ', 'ከምዝመስረተት', 'ጋምቢያ', 'ካሊስቶ', 'እተፅሪ', 'እትፅዕን', 'ተላቲማ', 'ተገሚዓ።', 'ጅያኒ', 'ኢንፋንቲኖ', 'መርመራብኮቪድ', 'ተፍትሽ', 'ከምዘካይዱ', 'ፒንከ', 'ፎንግ', 'ቤቢ', 'ዴስፓክቶ', 'ዝረኣዮ', 'ቶጐ', 'ዝተዳለወትሉ', 'ግዚያት', 'ሊቨርፑል', 'ኣጥቓዓይ', 'ሳሊሕ', 'ቀረበሉ', 'ህንጻ', 'ውዲት', 'qanon', 'ሕሳባት', 'ዘበለ', 'ጠቒሱ።', 'ፐንስ፣', 'ንእትመጽእ', 'ካማላ', 'ሃሪስ', 'ደስታኡ', 'ፖላንዳዊት', 'ባዮተክኖሎጂ', 'ማብዮን', 'ንኖቫቫክስ', 'ኖቫቫክስ', 'ፈሪማ።', 'ዩትዩፕ', 'ጥሕሰት', 'ብሰራዊት', 'ቻነላት', 'ኣወንዚፉ', 'ጁንታ', 'ፕሮፖጋንዳ', '553', 'ሂባ', 'ቮሎዲሚር', 'ዘለንስኪ', 'ብጻዩ', 'ብውግእ', 'ዝዓነወት', 'ዶንባስ', 'ገጽ', 'ንገጽ', 'ዓዲሙዎ', 'ተፃዒኑ', 'ዝጓዓዝ', 'ኣብʼታ', 'ዳው', 'ፆም', 'ምስተፆመ', 'ዝሕሉ', 'ወጋአታ', 'ብራቕ', 'ፆመ', 'ሮመዳን', 'አልፈጥር', 'ኢስታንቡል', 'ሃጊያ', 'ሶፍያ', 'ተኾቢሩ', 'ንበዓቲ', 'ኩዊንስ', 'ብምዕፃዎም', 'ምትሕልለፍ', 'ተሸከርከርቲ', 'ተኣጓጕሉ', 'ልዕሉ', 'ቫይረስ፣', 'ብቀንዱ', 'ተወጢኑ', 'ዝተሓስበ', 'ቅዋም፣', 'ዘይተወሰነ', 'ክፍጸም', 'ጆቪኔል', 'ሞየስ', 'ጁንቲንዝ', 'ብፌዴራል', 'ፈሪሞም።እዚ', 'ብ1983', 'ዝተሐገገ', 'ሉተር', 'ፍልስጤምን', 'ዝተምበልበለ', 'ሃማስ', 'ኣጊዳቶ', 'ራያንየር', '4978', 'ጉዕዞኣ', 'ምቕያራ', 'ኣንቢረናላ፣', 'ሮማን', 'ንምእሳር', 'ክትዓርፍ', 'ብምግባራ', 'ሰንቲግሬድ', 'ፋህረንሃይት', 'ምቖት', 'ኤስፐራንዛ', 'ኤኳዶር', 'ብዝትወልዐ', 'ብደርዘን', 'ዲክሲ', 'ፕሉማስ', 'ክገልሱ', 'ንክሪፕቶካረንሲ', 'እትቕበለቶ', 'ቊጠባ', 'ብካልኣይ', 'ዓኒያ', 'ትኹን', 'ደኣ', 'ምበር፣', 'ብ20', 'ክታበትን', 'ውሕስነትን', 'ዓቐን', 'covid', 'ስራሕተኛታት', 'ክቡ', 'ንዝገብር', 'እንተዘየለ', 'ዘይተኸተቡ', 'ዝባረሩሉ', 'ግሪክ', 'ሆስፒታለት', 'ቡናን', 'ቤቲካ', 'ስፖርትስን', 'ስፖንሰርሺፕ', 'ማልያ', 'የማናይ', 'ተጻወቲ', 'ክሕተም', 'ተስማሚዖም።', 'እንትምርመር', 'ካቲኖን', 'ደሙ', 'ወንድወሰን', 'ተኣጊዱ።', 'ሸፈጣት', 'ንምትዕንቓፍን', 'ንምጭብርባርን', 'ብምፍታኑ', 'እናተመርመረ', 'ማልታ', 'ቢርኪርካራ', 'ዝተፀምበረት', 'ሎዛ', 'ተጻዋቲት', 'ምኻን', 'ሕልማ', 'ታሪኸ', 'ክጽብጽቡ', 'ደራርቱ', 'ንፌዴሬሽን', 'ተመሪጻ', 'ፌደሬሽን', 'ከምዝለቐቐ', 'ሃይለ', 'ገብረሰላሴ', 'ክትትክእ', 'ንደራርቱ', 'ዝመረጸ።', 'ዝተረኸባሉን', 'ሽልማትን', 'ክብሪን', 'ከምዝፈጸመ', 'ነሓስን', 'ተዓዊተን።', 'መሰናድኦ', 'ጐየይቲ', 'ፅርግያ', 'ምምዕባሉ', 'ዝሳተፉሉ', 'ትእምርቲ', 'ገብረ', 'ትኻይዱ', 'ኮካኮላ', 'ንፀገም', 'ዕጥቂን', 'ንዋታትን', 'ብምፍታሕ', 'ንወነ', 'ብሽክሌተኛታት', 'ዘላዓዕልን', 'ዘዕቢን', 'ዝፈፀመን', 'ኣድሃነ', 'የማነን', 'ሌሊሳ', 'ዴሲሳን', 'ተመዝጊቡ።', 'ዚያሜን', '2፡19፡52', 'ማሬ፣', 'ኣሰለፈች', 'መርጊያን', 'ኣበላት', 'ዝኾናላ', 'ኣነስትዮ', 'ተሓዊሳ።', 'ጂያኒ', 'ኢንፋንቲኖኣብዚ', 'ዑደቱ', 'ብፕሬዝዳንት', 'ብጁነዲ', 'ባሻ', 'መንእሰይን', 'ዝተመርዐወት', 'ፍቕረኝኡን', 'ተባኣስቲ', 'ብዝመስል', 'ብጨርቆም', 'ምስኣሰርዎም', 'ከይዶም', 'ክሟገቱ', 'ምምዓዶም', 'ሞጎስ', 'ፍቕረኛታት', 'ክጠፍኡ', 'ወሲኖም', 'ብሰብኣያ', 'ተታሒዞም።', 'ክሃድእ', 'ሲመት', 'መሳፍንቲ', 'ዝትርኽ', 'እዩ።ንሱ', 'ተኸዲኑ', 'እንዳልክን', 'ኣቦኦም', 'እንትነሐንሑ', 'የርእይ።', 'ሽዋን', 'ዝተዛመደ', 'ክሕደትን', 'ጎንደር', 'ንዙፋኑ', 'ብምውሳን', 'ዝተኸፋፈለት', 'ክፍጠር', 'እንተፃዓረ', 'እንዳልክ', 'ንንእሹተይ', 'ንመስፍን', 'ዘዳለወን', 'ወራሲ', 'ምጥርጣሩ', 'ዘዘንቱ', 'ዲዛይነር፣', 'ኣድናቒ', 'ንምድራስ', 'ከምዘላዕሉን', 'መደርደሪ', 'ከምዝኾኑን', 'ንስእላዊ', 'ትረኻ', 'ተፈታውነቶም', 'ስነጥበባውያን', 'ናብዚ', 'እናውሓዙ', 'ቀዳማዊ', 'ንታሪኽ', 'ንምሕግዝን', 'መርኣያ', 'መበቆል', 'ንምምልካትን', 'ብቀዳማዊ', 'ዝተሰመየ', 'ሚኒሊክን', 'ራእሲ', 'ኣሉላን', 'ዝተዋግኡ', 'ልእለ', 'ብምቕራፅ', 'ብገፀ', 'ባህሪይነት', 'ኣቕሪብዎም።', 'ዝምደብን', 'ምውፋሮም', 'ዝድረፍን', 'ብፈኸራ', 'ለቢሱን', 'ኣሲሩን', 'ፈኸራ', 'ዝቐፀለን', 'ብ1970ዓ', 'ዘቕረፀን', 'ዘስመየ', 'ሲዲ', 'ከምዝተዘርግሑ', 'ሊንኮን', 'ኒወዮርክ', 'ሄርሞን', 'ሃይላይ', 'ፕራይስ', 'ላቭ', 'ብኣላዪ', 'ዘለቀ', 'ድራማ', 'ላምብ፣ደበበ', 'እሸቱ', 'ዝዋስአሉን', 'ቤዚ', 'ገሬ', 'ሬድ', 'ሊቭስ፣', 'ብኢትዮጵያዊን', 'ብኤርትራዊን', 'ጎይትኦምን', 'ኣፍሪ', 'ፔድያ', 'x', 'ፅላተ', 'ፅዮን', 'ብኣክሴል', 'ቦውማን', 'ክቐርቡ', 'ሰነዳዊ', 'ዝምለኸሉ', 'ጽላት', 'ዝዝንቱ', 'ዉሩይ', 'ኣለማዮህ', 'እሸቴ', 'ብኽብሪ', 'ስድርኡ፣ኣድነቕቱ፣', 'መንግስቲ፣መራሕቲ', 'ካብታ', 'ኦስሎ', 'ያምሉ', 'ሲን', 'ጃላዳከምኡ', 'ሃገሬደርፍታት', 'ዝላዓለት', 'ሶማሊያን', 'ኣታኣናጊዳ', 'መድረኽን', 'ኣምሓርኛን', 'ዝተዋስአት', 'ንገፀ', 'ብምውሳእ', 'ትዝከር።', 'ተዋሳኢት፣ተልሃዪትን', 'ሜካፕን', 'ዘይፍለጥ', 'ዝጸገበ', 'ቲያትር', 'ቮግ', 'ታሌንትስን', 'ዘዳለውዎ', 'ዲዛይነራት፣', 'ዘቕረቡ', 'ስእላዊ', 'ብምምጽኡ', 'ጥበባዊያን', 'ሳምሶን', 'ክበራበሩን', 'ባዕልቶም', 'መትረብ', 'ክኸፍቱን', 'ኒሕን', 'ሓቦን', 'ምልዕዓል', 'ድልዋት', 'ክኾኑ፣', 'ንሓድነት', 'ብፅንዓት', 'ክብሉን', 'ንኣሰር', 'ጅግንነት', 'ወለዲ', 'ክስዕቡን', 'ኣቕረብቲ', 'ከምቶም', 'ቅድሚኦም', 'ዘርአዩ', 'ሓርበኝነት', 'ከሕልፉ', 'ስለዝተዓፀዋ', 'ወለድን', 'ሓብሓብትን', 'ንደቖም', 'ዘውዕሉሉ', 'ከምዝተፀገሙ', 'ቀዳምን', 'ሰንበትን', 'ግዜኦም', 'መረባ', 'ጌም', 'የሕልፍዎ', 'ከምዝነበሩ', 'ኣክሱም፣', 'ፀብለል', 'ውቁባት', 'ሓውልቲታት', 'ዝማዕረገት', 'ከተማ፣', 'ዘይተቐልዑ', 'ከምዝሓዘት', 'ዝንገረላን', 'ዝግባኣ', 'ብዘይምርካባ', 'ንፁር', 'ኣንፈትን', 'ብጥንታዊ', 'ንታሪኹ', 'ዝነብረላ', 'ብምኻና', 'ብሓቂ', 'መደንገጺት', 'ክርእዩ', 'ዝመጹ', 'ገ', 'መለስ', 'ትምህርቲ፣ሳይንስን', 'ሰንደቕ', 'ጅማሮ', 'ሉኣላዊነትብዝብል', 'ምውሳኹ', 'ስለዝበለ', 'ድሙቅ', 'ከምዝተኸበረ', 'ሰርፀሰንበት', 'ስብሓት', 'ኣታዊኦም', 'ክዓቢን', 'ክፍጠረሎምን', 'ሰኣሊት፣', 'ጥበበኛን', 'ብዓልቲ', 'ሕትመትን', 'ገነት', 'ጣፍ', 'ከምዝማሃዘት', 'ጥበብን', 'ብ1998ዓ', 'ዝተመረቐት', '122', 'ስልጣንን', 'ዝመሰጡ', 'ዝቐረቡሉ', 'ድሕረ', 'ርሑቕን', 'ቀረባን', 'ብምኽታት', 'ንወረርቲ', 'ከምዝደምሰሱ', 'ብርሃነ', 'ብምሕጋዝ፣', 'ብምሕብሓብን', 'ብምሃብን', 'ንድልየት', 'ምርዋይን', 'ምስፋንን', 'መሪሕነቶም', 'ከረጋግጹ', 'ኔ', 'ስ', 'ኮ', 'ኣወንታዊ', 'የፍሪ', 'ነባር', 'ዴሞክራሲያዊን', 'ፖለቲካዊን', '“ኩሎም', 'ተፃብኦታት', 'ከብሉ”', 'ጉሙዝ፣', 'ዓፋር፣', 'ሲዳማ፣', 'ሶማሊ፣ብሄራት፣', 'ጋምቤላን', 'ዘሳተፈ', 'ክካየድን', 'ክረክብን', 'ከምዘፅደቐ', 'ሰላማዊያን', 'ዘብጽሑን', 'ዘውርዱን', 'ኣጽዋርን', 'ክትትል', 'ከይላኣኹብምባል', 'ፓርቲታት', 'ምፍጣሩ', 'ከናውሖ', 'ምውሳኑ', 'ብዘይምቕባል', 'በይናዊ', 'ኣካይዱ', 'ርትዓዊ', 'መትከላት', 'ፍትሓዊን', 'ምኽንያታዊን', 'ገዱ', 'ንሚስተር', 'ፓምፕዮ', 'ከምዘብርሀ', 'ብተዛማዲ', 'ታገሰ', 'ጫፎ', 'ብሊግ', 'ዝጸደቐ', 'ነጺጎምዎ።', 'ምስኣብቀዐን', 'ምስተመለሰን', 'ዝተሸመ', 'ርእሶም', 'ተቐቢለን።', 'ምሕዝነትን', 'ዝመጸ።', 'ብጥቅምቲ', 'እንትህቡ', 'መንግስቶም', 'ብፍቓድ', 'ምልቓቕ', 'ምግላፆም', 'ከማኽር', 'ምርምርን', 'መጽናዕቲን', 'ዝጸንሐ', 'ቁሩብ', 'የሽዋስ', 'ኣሰፋ', 'ዝቐረበሉ', 'ኣፈጸሚ', 'መረጻ', 'ኣጽዲቕዎ።', 'መጋባእያ', 'ወልደስላሴ', 'ወልደሚካኤል', 'ክህቦ', 'ብይን', 'ኣናዊሕዎ።', 'ብዓቐብቲ', 'ስነምግባርን', 'ግዕዝይናን', 'ዘይምኳኑ', 'ኢትዮጵያዊያን፣', 'ከምዝምስረት', 'ምውዳድ', 'ብሃገራዊን', 'ክልላዊን', 'ከምዝጣየሹ', 'ዘራኽብ', 'ንትራፊክ', 'መንገዲታት', 'ኣሶሳ', 'ኩምሩክ', 'ኮርሙክ', 'ዝተዘርግሐ', 'ማሕበረሰባዊ', 'ምትእስሳርን', 'ፅርጊያ፡', 'ባቡር፣', 'ቴሌኮሚኒኬሽን፣', 'ኤሌክትሪክ፣', 'ዝስተ', 'ከምዝዋሃቦም', 'ኣሳታፍነት', 'ክነጥፍ', 'አዩ።', 'መዋህለሊ', 'ንቅልጣፈ', 'ምቁፅፃሩ', 'ብውሑጅ', 'ዝሞትሉ', 'ሓደጋ፣', 'ምምዝባልን', 'ዝቕንስ', 'ብነሓሰን', 'መስከረምን', '314', 'ወሪድዎም', 'ትግበራን', 'ክድገምን', 'ንዘይተርፍ', 'ብልፅግና', 'ዘሳልጥን', 'ቖጽላዋይ', 'ብትልሚ', 'ዝተተኸሉ', 'እንኻዕ', 'ኣሐጎሰና', 'ግ', 'ኣልገዳሪፍን', 'ሴናርን', 'ጋሽ', 'ባርካን', 'ዴቡን', 'ዝምዝገብ', 'ኣብዘን', 'ሚሊሜትር', 'ከምዝወቅዕ', 'ከምዝትተንበየ', 'ሑሴን', 'ዎርክሾፕ፣', 'ምስላፍ', 'ነቕ', 'ዘይብል', 'ውፍይነት', 'ከምዘለዋ', 'ድርቂ፣ውሑጅን', 'ኣንበጣን', 'ዝጠቐሰ', 'ንዲፕሎማሲ', 'ምንታይ', 'ስለዝሕግዝ', 'ክሊማን', 'ዝነጥፉ', 'ክጥመሩ', 'ዝሰርሑ', 'ውዳበ', 'ምስዝጥመሩ', 'እንትንቀሳቐሱ', 'ብሕጊታትን', 'ስሪታትን', 'ተገዚኦም', 'ክሰርሑ', 'ንምሕባር', 'ዝቐለለ', 'ይኽ', 'ውን።', 'ታፈረ', 'ዝረኸበትሉ', 'ውሑሱን', 'ቀፃሊን', 'ከምዘበርክትን', 'እናትጋፍሐ', 'ውሕሉል', 'ኣግራባትንምጉልባትን', 'ብ1997ዓ', 'ብመስርሕ', 'ለገ', 'ደምቢ', 'ክኹዕት', 'ብ172', '1998', 'ወርቂን', 'እናውፀአ', 'ፍሪያቱ', 'ብጅምላ', 'እናሰደደ', 'ብምህናፅ', 'ሳካሮን፣', 'መተከልን', 'ንንግዲ', 'ምብካል', 'ጐረባብቲ', 'ብምትካል', 'ክጥጥዕ', 'ክስራሕ', 'ድምፂ፣', 'ፈሳሲን', 'ጓሓፍን', 'ተወዲቦም', 'ወወረዳኦም', 'ንሳዕቤናት', 'ምቕናስን', 'ፍቃዱ', 'ዓብዩ', 'ኣሎኢሎም', 'ምግላጾም', 'ኦህን', 'ኦኮኖር', 'ንምቹው', 'ብትሑት', 'ዝፈትሕ', 'ስሉጥን', 'ውፅኢታዊን', 'ዝቕይር', 'ትጉሃትን', 'ንመፃኢ', 'ዝሓስቡን', 'ብምርኻቡ', 'ከምዝተሓጐሰን', 'ክትኸውን', 'ተስፋን', 'መርሻ', 'ዘውፅእዎ', 'ንተኽሊታትን', 'ንተኽሊታት', 'ዓሳታትን', 'ክምዝምርዝ', 'ማይ፣', 'ሳልፈሪክ', 'ኣሲድን፣', 'ፎርሚክ', 'ኣሲድን', 'ዘየድልዮእዩ', 'ኢላ።', 'ክላለዩን', 'ክትግብርዎን', 'ዝተባብዑ', 'ምግዳድ', 'ኣይካኣልን', 'ብቀፃሊ', 'ብዝፍጠር', 'ፅልዋን', 'ክትሻቐል', 'ከምዘይግባኣ', 'ፈሊኻ', 'ዝስተየሉ', 'ሓላፊነቱ', 'ዝተምሃዘ', 'ቶሩ', 'ኣረዲኡ።', 'ቀለም፣', 'መዳብ', 'ዝተዋሃሃደ', 'ብብርጭቆ', 'ወረቐትን', 'ክሃድእን', 'ዳይ', 'ኦክሳይድ', 'ሓዲጉ', 'ብኤሌክትሮኒክስ', 'ዝተፃረየ', 'ኦክሲጂን', 'ዘቕርብን', 'ኣንዱኣለም', 'ቦሬቻ', 'ሌሜቻ', 'መስራቲ፣', 'መሃንዲስ', 'ምህርቲን', 'ኢዱዋንስን', 'ኢዱቴክ', 'ስታርትኣፕን', 'ትካሉ', 'ጽሑፍ', 'ዘየንጸባርቑ', 'ንገልጽ።', 'ዘየንፃባርቑ', 'ንገልፅ።', 'ፍሬህይወት', 'ትግበራ', 'ብርኪታት', 'ንዝተሳተፉ', 'ዝሃበት', 'ከምዝትዓመመ', 'ህልውና', 'ምስበለት', 'ብዝትዋደደ', 'ኣገባብን', 'ብጽቡቕ', 'ኣመራርሓን', 'ዝተፈለመ', 'ከምዝዕወት', 'ብተግባር', 'ኣመስኪርና', 'ኣለናብምባል', 'ዌቢናር', 'ብኢንተርኔት', 'ንምፍጣርን', 'ሰብሃብቲ', 'ንምስሓብን', 'ንዘፈር', 'ዝተሓንጸጸ', 'ንዓማዊልና', 'ጆርኒይስ', 'ዝማሃዘ', 'ንምኽሓስ', 'ክእለትን', 'ኣለና።', 'ስራሕትና', 'ዝሕፈት', 'ርሒቕና', 'ገዛናን', 'ቦታን', 'ኮይንና', 'ዝዓየና', 'ዓቕሚና', 'ትኩረትና', '“ባዮቴክኖሎጂ', 'ኣፍራይነት፣', 'ንብረት፣', 'ዕብየትን', 'ስለዘበርክት', 'ፀገማታ', 'ንምስዓር', '“ኣብዛ', 'ኤሌክትሮኒክስ፣', 'ሶፍትዌር፣', 'ኣውቶሞቲቭ', 'ኢሌክትሮኒክስን', 'ዘፍርዩ', 'ክንውንን', 'እምነተይ', 'ማእኸሎትን', 'ክህልዉ', '”', 'ዜግነትን', 'ኣቤይ', 'ታኡ', 'ዘስምዖ', '‘ንሕና', 'ቴክኖሎጂና', 'ንኣምን', 'ብኣርባዕተ', 'ነተግብሮ፣', 'ብምምሃዝ', 'ዝሓሸ', 'ቴክኒካዊ', 'ብቕዓትና', 'ምሂዝና', 'ተበፃሓይ', 'ህንፅትን', 'ንዝፈጥሮ', 'ፅዕንቶ', 'ብምቕናስ”', 'ዘዕቢ', 'ኢሚሬት', 'ሪስፖንስ', 'ኣቡዳቢ', 'ምብጻሕ', 'እ', 'ዩ።', '2020ዓ', 'ምእታዉ', 'ዝፅብፀብ', 'ብኮሮና', '123', '785', '132', 'መርኣዪ', 'ምርመራታት', '109', '846', 'ሓውዮም', '231', 'ተመግዲሮም', 'ማህተማ', 'ኣኑራግ', 'ሲርቫስታቫ', 'ህንዲን', 'ንህንጸቱ', 'ኣስተዋጽኦ', 'ፍሉይን', 'ታሪኻዊን', 'ወሲንናብምባል', 'መስሪታ።', 'ኤባ', 'ከምዘብርህዎ', 'ዝተጣየሹ', 'ተመሳሳልቲ', 'እናገበሩ', 'ዝጸንሑሉ', 'ብሕብረት', 'ኣፍሪካ፣ብውድብ', 'ደሕንነት', 'ጠርናፊት', 'ተቓላዕቲ', 'ጠርዚ', 'ዝበፅሓሉ', 'ዝተኽፋፈለ', 'ክባፃሕ', 'እውንኣይተ', 'ሳምቡእን', 'ተመስሪቱ', 'ዎርክሾፕ', 'ዘስመዐቶ', 'ሕገዝ', 'ዝገብረሎም', 'መሓዙት፣ዘፈር', 'ውልቀ፣ሲቪክ', 'ማሕበረሰብ፣ዩኒቨርሲቲታትን', 'ብቐጻልነት', 'ንምፍላይ፣ኣብ', 'ከይተሓላለፍ', 'ይነጥፍ', 'ብምዝርጋሕን', 'ሕክምናኣቕሪቡ።', 'ምዕሩይ', 'ብምግፋሕ', 'ዝረኽቡሉ', 'ከመቻቹ', 'ህዝባዊን', 'ውልቃዊን', 'ሃብቲን', 'ኣታዊኦምን', 'ንግልጋሎቶም', 'ብገንዘብ', 'ዝድጉሙሉ', 'ዓሚር', 'ዝተጀመሩ', 'ጄኒቫ', 'እናተሳተፈ', 'ዘዳለወቶ', 'ከወስን', 'ይግበረሉ።', 'ገዛሀኝ', 'ደጄኔ', 'ንዝትፈላለዩ', 'መስህባት', 'ንቱሪዝም', 'ክዓብዩ', 'መጅመርታ', '2፡19፡41', 'ንዓለም', 'ዝመርሕ', 'ትርፌ', 'ፀጋየን', 'ዝተዓወተትን', 'ዝወፀትን', 'ትእግስት', 'ጐያዪ', 'ንምኻን', 'ንኣዲስ', 'ወኪሉ', 'ንኣሰልጣኒ', 'ንኣሸናፊ', 'ሸይማቶ።', 'ናቱ', 'ቶታል', 'ወኪለን', 'ንዝሳተፋ', 'ስለዝነበረት', 'ጂማ', 'ጂፋር', 'ንመዓልታዊ', 'ንጥፈቱ', 'ዘቃልሕን', 'ንምዝርጋሕ', 'ንዘመዝግቦም', 'ቀጥታ', 'ሸቶታት፣', 'ደገፍቲ፣', 'ወርሓዊ', 'ተወሲኑ።', 'ከየካይዱ', 'ዝመክር', 'ጂራ', 'ካምፓላ', 'መዕለቢኡ', 'ኣስመራን', 'ምፅዋን', 'ከምዝኾን', 'ሰይፉ', 'ቱራ', 'ኣብዲዋክን', 'ኬንያዊት', 'ቼፕንጌችን', 'ዓምት', 'ዝተሰረዝን', 'ብለውጡ', 'ሻድሻይ', 'ወፂኡ', 'ኣብዲዋክ', 'ስዓትን', 'ደቒቓን', 'ሴኮንድን', 'ብሞገስ', 'ታፈሰ', 'ዝተፅሓፈን', 'ዝተመርሐን', 'ቁራኛዬ', 'ብወነንኻ', 'ምዉሳን', 'ተመጣጣኒ', 'ዝውስን', 'ምፅባይ', 'ዝምልስ', 'ታሪኽ፡', '174', 'ኣንኮበር', 'ውቅብቲ', 'ኣበራ', 'ኣፍቃሪት', 'ዝትዋሳእ', 'ብእንዳልክ', 'ክጐልህ', 'ገይራቶ።', 'ላሃጃ', 'ተዋሳእቲ', 'ዝወከልዎም', 'ባህርያት', 'ዘየንፀባርቕ', 'ዘይተመላኽዐ', 'ክማልኡሉ', 'ዝጠልብ', 'ላቀዉ', 'ኩባንያኣ', 'ኣልበማ', 'መቄዶንያ', 'ኣረጋዊያንን', 'ምስላዊ', 'ቅብኢ፣ውሁድ', 'መራኸቢ፣ተንቀሳቓሲን', 'ዝርጉሕ', 'ሸራን', 'ግድግዳን', 'ንዝዓልቡ', 'ጐድናዊ', 'ብኣርባዕቲኡ', 'ማእዝናት', 'ኣብርሃም', 'ብስቱድዮ', 'ዲግሪ፤', 'ብግራፊክስ', 'ዲዛይን፣', 'ቅብኢን', 'ስእሊን', 'ኔቫዳ']\n",
            "Enter your line... ሓንቲ ኣደ ዘላቶ እሞ ገና\n",
            "['ዘላቶ', 'እሞ', 'ገና']\n",
            "ሚኒስትር ['ኣብ', 'እቲ', 'ናይ', 'ካብ', 'እዩ።', 'ኢትዮጵያ', 'ናብ', 'ሰባት', 'ምስ', 'ከም', 'ሃገር', 'ሓደ', 'ድማ', '።', 'ድሕሪ', 'እታ', 'ኣብቲ', 'ዓመት', 'ግዜ', 'ነቲ', 'ም', 'ጥዕና', 'ዓለም', 'ፈ', 'እውን', 'ዓ', 'ኣሎ።', 'እዚ', 'መንግስቲ', 'ዝኾነ', 'ልዕሊ', 'ዘሎ', 'ቤት', 'ከተማ', 'እዩ', 'ሚኒስትር']\n"
          ]
        }
      ]
    },
    {
      "cell_type": "code",
      "source": [],
      "metadata": {
        "id": "Ns5atYKfQsW_"
      },
      "execution_count": null,
      "outputs": []
    }
  ]
}
